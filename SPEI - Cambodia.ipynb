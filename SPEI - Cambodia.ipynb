{
 "cells": [
  {
   "cell_type": "markdown",
   "metadata": {},
   "source": [
    "# Imports and Functions"
   ]
  },
  {
   "cell_type": "code",
   "execution_count": 15,
   "metadata": {
    "ExecuteTime": {
     "end_time": "2018-08-01T02:56:02.156140Z",
     "start_time": "2018-08-01T02:56:02.079308Z"
    }
   },
   "outputs": [],
   "source": [
    "from datacube import Datacube\n",
    "cdc = Datacube(config='/g/data/u46/users/ext547/ewater/cambodia_cube/cambodia.conf', app = \"Polygon drill\")\n",
    "from datacube_stats.statistics import GeoMedian\n",
    "from datacube.storage import masking\n",
    "from datacube.storage.masking import mask_to_dict\n",
    "from datacube.storage.storage import write_dataset_to_netcdf\n",
    "from datacube.utils import geometry\n",
    "\n",
    "import fiona\n",
    "import rasterio.features\n",
    "import geopandas as gpd\n",
    "\n",
    "import numpy as np\n",
    "import xarray as xr\n",
    "import pickle\n",
    "\n",
    "import matplotlib.pyplot as plt\n",
    "import matplotlib.gridspec as gridspec\n",
    "import matplotlib.animation as animation\n",
    "import matplotlib.patheffects as PathEffects\n",
    "from mpl_toolkits.axes_grid1.inset_locator import inset_axes\n",
    "%matplotlib inline\n",
    "\n",
    "from skimage import exposure\n",
    "\n",
    "import calendar\n",
    "\n",
    "#Import external dea-notebooks functions using relative link to Scripts directory\n",
    "import sys\n",
    "import os.path\n",
    "sys.path.append('/g/data/u46/users/sc0554/dea-notebooks/Scripts')\n",
    "import DEAPlotting"
   ]
  },
  {
   "cell_type": "code",
   "execution_count": 16,
   "metadata": {
    "ExecuteTime": {
     "end_time": "2018-08-01T02:56:02.764302Z",
     "start_time": "2018-08-01T02:56:02.715230Z"
    }
   },
   "outputs": [],
   "source": [
    "def animated_timeseries(ds, output_path, width_pixels=600, interval=100, \n",
    "                        bands=['red', 'green', 'blue'], reflect_stand=5000, \n",
    "                        title=False, show_date=True, \n",
    "                        onebandplot_cbar=True, onebandplot_kwargs={}, annotation_kwargs={}, \n",
    "                        shapefile_path=None, shapefile_kwargs={}):\n",
    "    \n",
    "    \"\"\"\n",
    "    Takes an xarray time series and animates the data as either a three-band (e.g. true or false colour) \n",
    "    or single-band animation, allowing changes in the landscape to be compared across time.\n",
    "    \n",
    "    Animations can be exported as .mp4 (ideal for Twitter/social media), .wmv (ideal for Powerpoint) and .gif \n",
    "    (ideal for all purposes, but can have large file sizes) format files, and customised to include titles and \n",
    "    date annotations or use specific combinations of input bands. \n",
    "    \n",
    "    A shapefile boundary can be added to the output animation by providing a path to the shapefile.\n",
    "    \n",
    "    This function can be used to produce visually appealing cloud-free animations when used in combination with \n",
    "    the `load_clearlandsat` function from `dea-notebooks/Scripts/DEADataHandling`.\n",
    "    \n",
    "    Last modified: May 2018\n",
    "    Author: Robbi Bishop-Taylor    \n",
    "    \n",
    "    :param ds: \n",
    "        An xarray dataset with multiple time steps (i.e. multiple observations along the `time` dimension).\n",
    "        \n",
    "    :param output_path: \n",
    "        A string giving the output location and filename of the resulting animation. File extensions of '.mp4', \n",
    "        '.wmv' and '.gif' are accepted.\n",
    "    \n",
    "    :param width_pixels:\n",
    "        An integer defining the output width in pixels for the resulting animation. The height of the animation is\n",
    "        set automatically based on the dimensions/ratio of the input xarray dataset. Defaults to 600 pixels wide.\n",
    "        \n",
    "    :param interval:\n",
    "        An integer defining the milliseconds between each animation frame used to control the speed of the output\n",
    "        animation. Higher values result in a slower animation. Defaults to 100 milliseconds between each frame. \n",
    "        \n",
    "    :param bands:\n",
    "        An optional list of either one or three bands to be plotted, all of which must exist in `ds`.\n",
    "        Defaults to `['red', 'green', 'blue']`. \n",
    "           \n",
    "    :param reflect_stand:\n",
    "        An optional  integer controlling the brightness of the output image. Low values (< 5000) result in \n",
    "        brighter images. Defaults to 5000.\n",
    "\n",
    "    :param title: \n",
    "        An optional string or list of strings with a length equal to the number of timesteps in ds. This can be\n",
    "        used to display a static title (using a string), or a dynamic title (using a list) that displays different\n",
    "        text for each timestep. Defaults to False, which plots no title.\n",
    "        \n",
    "    :param show_date:\n",
    "        An optional boolean that defines whether or not to plot date annotations for each animation frame. Defaults \n",
    "        to True, which plots date annotations based on ds.\n",
    "        \n",
    "    :param onebandplot_cbar:\n",
    "        An optional boolean indicating whether to include a colourbar for `ds1` one-band arrays. Defaults to True.\n",
    "        \n",
    "    :param onebandplot_kwargs:\n",
    "        An optional dict of kwargs for controlling the appearance of one-band image arrays to pass to matplotlib \n",
    "        `plt.imshow` (see https://matplotlib.org/api/_as_gen/matplotlib.pyplot.imshow.html for options).\n",
    "        This only applies if an xarray with a single band is passed to `ds`. For example, a green colour scheme and\n",
    "        custom stretch could be specified using: `onebandplot_kwargs={'cmap':'Greens`, 'vmin':0.2, 'vmax':0.9}`. \n",
    "        By default, one-band arrays are plotted using the 'Greys' cmap with a vmin of 0.0 and a vmax of 1.0.\n",
    "    \n",
    "    :param annotation_kwargs:\n",
    "        An optional dict of kwargs for controlling the appearance of text annotations to pass to the matplotlib \n",
    "        `plt.annotate` function (see https://matplotlib.org/api/_as_gen/matplotlib.pyplot.annotate.html for options). \n",
    "        For example, `annotation_kwargs={'fontsize':20, 'color':'red', 'family':'serif'}. By default, text annotations \n",
    "        are plotted as white, size 25 mono-spaced font with a 4pt black outline in the top-right of the animation.\n",
    "        \n",
    "    :param shapefile_path:\n",
    "        A list of one or multiple strings giving the locations of shapefiles to overlay on the output animation. \n",
    "        The shapefiles must be in the same projection as the input xarray dataset.\n",
    "        \n",
    "    :param shapefile_kwargs:\n",
    "        An optional dict of kwargs to specify the appearance of the shapefile overlay. \n",
    "         'shapefile_kwargs = {For example: 'ax':ax1, 'linewidth':2, 'edgecolor':'black', 'facecolor':\"#00000000\"}'\n",
    "     \n",
    "    \n",
    "    \"\"\"\n",
    "\n",
    "    # Define function to convert xarray dataset to list of three band numpy arrays\n",
    "    def _ds_to_arrraylist(ds, bands, reflect_stand):   \n",
    "\n",
    "        array_list = []\n",
    "        for i, timestep in enumerate(ds.time):\n",
    "\n",
    "            # Select single timestep from the data array\n",
    "            ds_i = ds.isel(time = i)\n",
    "\n",
    "            # Create new three band array\n",
    "            y, x = ds_i[bands[0]].shape\n",
    "\n",
    "            if len(bands) == 1:    \n",
    "\n",
    "                # Create new three band array\n",
    "                img_toshow = ds_i[bands[0]].values\n",
    "\n",
    "            else:\n",
    "\n",
    "                rawimg = np.zeros((y, x, 3), dtype=np.float32)\n",
    "\n",
    "                # Add xarray bands into three dimensional numpy array\n",
    "                for band, colour in enumerate(bands):\n",
    "\n",
    "                    rawimg[:, :, band] = ds_i[colour].values\n",
    "\n",
    "                # Stretch contrast using defined reflectance standardisation; defaults to 5000\n",
    "                img_toshow = (rawimg / reflect_stand).clip(0, 1)\n",
    "\n",
    "            array_list.append(img_toshow)\n",
    "\n",
    "        return(array_list)\n",
    "    \n",
    "    \n",
    "    def _add_colourbar(ax, im, vmin, vmax, fontsize):\n",
    "        \n",
    "        \"\"\"\n",
    "        Add a nicely formatted colourbar to an animation panel\n",
    "        \"\"\"\n",
    "\n",
    "        # Add underlying bar\n",
    "        cbbox = inset_axes(ax, '100%', '7%', loc = 8, borderpad=0)\n",
    "        [cbbox.spines[k].set_visible(False) for k in cbbox.spines]\n",
    "        cbbox.tick_params(axis='both', left=False, top=False, right=False, bottom=False, \n",
    "                          labelleft=False, labeltop=False, labelright=False, labelbottom=False)\n",
    "        cbbox.set_facecolor([0, 0, 0, 0.4])\n",
    "\n",
    "        # Add colourbar\n",
    "        axins2 = inset_axes(ax, width=\"90%\", height=\"3%\", loc=8) \n",
    "        fig.colorbar(im, cax=axins2, orientation=\"horizontal\", ticks=np.linspace(vmin, vmax, 3)) \n",
    "        axins2.xaxis.set_ticks_position(\"top\")\n",
    "        axins2.tick_params(axis='x', colors='white', labelsize=fontsize, pad=1, length=0)\n",
    "        axins2.get_xticklabels()[0].set_horizontalalignment('left')\n",
    "        axins2.get_xticklabels()[-1].set_horizontalalignment('right') \n",
    "        \n",
    "    \n",
    "    ###############\n",
    "    # Setup steps #\n",
    "    ############### \n",
    "    \n",
    "    # Get number of timesteps for each dataset\n",
    "    timesteps = len(ds.time)\n",
    "    \n",
    "    # If title is supplied as a string, multiply out to a list with one string per timestep.\n",
    "    # Otherwise, use supplied list for plot titles.\n",
    "    if isinstance(title, str) or isinstance(title, bool):\n",
    "        title_list = [title] * timesteps \n",
    "    else:\n",
    "        title_list = title\n",
    "    \n",
    "    # Set up annotation parameters that plt.imshow plotting for single band array images. \n",
    "    # The nested dict structure sets default values which can be overwritten/customised by the \n",
    "    # manually specified `onebandplot_kwargs`\n",
    "    onebandplot_kwargs = dict({'cmap':'Greys', 'vmin':0.0, 'vmax':1.0, 'interpolation':'bilinear'},\n",
    "                               **onebandplot_kwargs)         \n",
    "    \n",
    "    # Set up annotation parameters that control font etc. The nested dict structure sets default \n",
    "    # values which can be overwritten/customised by the manually specified `annotation_kwargs`\n",
    "    annotation_kwargs = dict({'xy': (1, 1), 'xycoords':'axes fraction', \n",
    "                              'xytext':(-5, -5), 'textcoords':'offset points', \n",
    "                              'horizontalalignment':'right', 'verticalalignment':'top', \n",
    "                              'fontsize':25, 'color':'white', 'family':'monospace', \n",
    "                              'path_effects':[PathEffects.withStroke(linewidth=4, foreground='black')]},\n",
    "                              **annotation_kwargs)\n",
    "   \n",
    "    ###################\n",
    "    # Initialise plot #\n",
    "    ################### \n",
    "    \n",
    "    # First test if there are three bands, and that all exist in both datasets:\n",
    "    if ((len(bands) == 3) | (len(bands) == 1)) & all([(b in ds.data_vars) for b in bands]): \n",
    "        \n",
    "        # Get height relative to a size of 10 inches width\n",
    "        width_ratio = float(ds.sizes['x']) / float(ds.sizes['y'])\n",
    "        height = 10.0 / width_ratio\n",
    "\n",
    "        # Import xarrays as lists of three band numpy arrays\n",
    "        imagelist = _ds_to_arrraylist(ds, bands=bands, reflect_stand=reflect_stand)        \n",
    "\n",
    "        # Set up figure\n",
    "        fig, ax1 = plt.subplots(ncols=1) \n",
    "        fig.patch.set_facecolor('black')\n",
    "        fig.subplots_adjust(left=0, bottom=0, right=1, top=1, wspace=0, hspace=0)\n",
    "        fig.set_size_inches(10.0, height, forward=True)\n",
    "        ax1.axis('off')\n",
    "\n",
    "        # Initialise axesimage objects to be updated during animation\n",
    "        extents = [float(ds.x.min()), float(ds.x.max()), \n",
    "          float(ds.y.min()), float(ds.y.max())]\n",
    "        \n",
    "        im = ax1.imshow(imagelist[0], **onebandplot_kwargs, extent=extents)\n",
    "        \n",
    "        #define the parameters of the overlaying shapefile(s)\n",
    "        shapefile_kwargs = dict({'ax':ax1, 'linewidth':2, 'edgecolor':'black', 'facecolor':\"#00000000\"}, \n",
    "                                    **shapefile_kwargs)  \n",
    "        \n",
    "        # add shapefile overlay(s)\n",
    "        if shapefile_path is not None:\n",
    "            for shapefile in shapefile_path:\n",
    "                shapefile = gpd.read_file(shapefile)\n",
    "                shapefile.plot(**shapefile_kwargs)\n",
    "        \n",
    "        # Initialise annotation objects to be updated during animation\n",
    "        t = ax1.annotate('', **annotation_kwargs)\n",
    "        \n",
    "        # Optionally add colourbar for one band images\n",
    "        if (len(bands) == 1) & onebandplot_cbar:                \n",
    "            _add_colourbar(ax1, im, fontsize=20,\n",
    "                           vmin=onebandplot_kwargs['vmin'], \n",
    "                           vmax=onebandplot_kwargs['vmax'])\n",
    "\n",
    "        # Function to update figure\n",
    "        def update_figure(frame_i):\n",
    "\n",
    "            ####################\n",
    "            # Plot first panel #\n",
    "            ####################  \n",
    "\n",
    "            # Get human-readable date info (e.g. \"16 May 1990\")\n",
    "            ts = ds.time.isel(time=frame_i).dt\n",
    "            year = ts.year.item()\n",
    "            month = ts.month.item()\n",
    "            day = ts.day.item()\n",
    "\n",
    "            # Create annotation string based on title and date specifications:\n",
    "            title = title_list[frame_i]\n",
    "            if title and show_date:\n",
    "                title_date = '{} {} {}\\n{}'.format(day, calendar.month_abbr[month], year, title)\n",
    "            elif title and not show_date:\n",
    "                title_date = '{}'.format(title)\n",
    "            elif show_date and not title:\n",
    "                title_date = '{} {} {}'.format(day, calendar.month_abbr[month], year)           \n",
    "            else:\n",
    "                title_date = ''\n",
    "\n",
    "            # Update figure for frame\n",
    "            im.set_array(imagelist[frame_i])\n",
    "            t.set_text(title_date) \n",
    "\n",
    "            # Return the artists set\n",
    "            return [im, t]\n",
    "\n",
    "\n",
    "        ##############################\n",
    "        # Generate and run animation #\n",
    "        ##############################\n",
    "\n",
    "        # Generate animation\n",
    "        print('Generating {} frame animation'.format(timesteps))\n",
    "        ani = animation.FuncAnimation(fig, update_figure, frames=timesteps, interval=interval, blit=True)\n",
    "\n",
    "        # Export as either MP4 or GIF\n",
    "        if output_path[-3:] == 'mp4':\n",
    "            print('    Exporting animation to {}'.format(output_path))\n",
    "            ani.save(output_path, dpi=width_pixels / 10.0)\n",
    "\n",
    "        elif output_path[-3:] == 'wmv':\n",
    "            print('    Exporting animation to {}'.format(output_path))\n",
    "            ani.save(output_path, dpi=width_pixels / 10.0, \n",
    "                     writer=animation.FFMpegFileWriter(fps=1000 / interval, bitrate=4000, codec='wmv2'))\n",
    "\n",
    "        elif output_path[-3:] == 'gif':\n",
    "            print('    Exporting animation to {}'.format(output_path))\n",
    "            ani.save(output_path, dpi=width_pixels / 10.0, writer='imagemagick')\n",
    "\n",
    "        else:\n",
    "            print('    Output file type must be either .mp4, .wmv or .gif')\n",
    "\n",
    "    else:        \n",
    "        print('Please select either one or three bands that all exist in the input dataset')  \n",
    "\n",
    "\n"
   ]
  },
  {
   "cell_type": "code",
   "execution_count": 63,
   "metadata": {
    "ExecuteTime": {
     "end_time": "2018-08-01T03:46:56.740211Z",
     "start_time": "2018-08-01T03:46:56.624526Z"
    }
   },
   "outputs": [],
   "source": [
    "def animated_doubletimeseries(ds1, ds2, output_path, width_pixels=800, interval=100, \n",
    "                              bands1=['red', 'green', 'blue'], bands2=['red', 'green', 'blue'], \n",
    "                              reflect_stand1=5000, reflect_stand2=5000, \n",
    "                              title1=False, title2=False,\n",
    "                              show_date1=True, show_date2=True, \n",
    "                              onebandplot_cbar1=True, onebandplot_cbar2=True,\n",
    "                              onebandplot_kwargs1={}, onebandplot_kwargs2={},\n",
    "                              annotation_kwargs1={}, annotation_kwargs2={},\n",
    "                              shapefile_path1 = None, shapefile_path2 = None,\n",
    "                              shapefile_kwargs1 ={}, shapefile_kwargs2 ={}):\n",
    "    \n",
    "    \"\"\"\n",
    "    Takes two xarray time series and animates both side-by-side as either three-band (e.g. true or false colour) \n",
    "    or single-band animations, allowing changes in the landscape to be compared across time.\n",
    "    \n",
    "    Animations can be exported as .mp4 (ideal for Twitter/social media), .wmv (ideal for Powerpoint) and .gif \n",
    "    (ideal for all purposes, but can have large file sizes) format files, and customised to include titles and \n",
    "    date annotations for each panel or use different input bands from each dataset. For example, true and false \n",
    "    colour band combinations could be plotted at the same time, or different products (i.e. NBAR and NBART) or \n",
    "    cloud masking algorithms could be compared. \n",
    "    \n",
    "    This function can be used to produce visually appealing cloud-free animations when used in combination with \n",
    "    the `load_clearlandsat` function from `dea-notebooks/Scripts/DEADataHandling`.\n",
    "    \n",
    "    Last modified: May 2018\n",
    "    Author: Robbi Bishop-Taylor    \n",
    "    \n",
    "    :param ds1: \n",
    "        An xarray dataset with multiple time steps (i.e. multiple observations along the `time` dimension) to be \n",
    "        plotted in the left panel of the animation.\n",
    "        \n",
    "    :param ds2: \n",
    "        A matching xarray dataset with the same number of pixels as ds1, to be plotted in the right panel of the\n",
    "        animation. ds1 and ds2 do not need to have exactly the same number of timesteps, but the animation will \n",
    "        only continue up until the length of the shorted dataset (i.e. if ds1 has 10 timesteps and ds2 has 5, the \n",
    "        animation will continue for 5 timesteps).\n",
    "        \n",
    "    :param output_path: \n",
    "        A string giving the output location and filename of the resulting animation. File extensions of '.mp4', \n",
    "        '.wmv' and '.gif' are accepted.\n",
    "        \n",
    "    :param width_pixels:\n",
    "        An optional integer defining the output width in pixels for the resulting animation. The height of the \n",
    "        animation is set automatically based on the dimensions/ratio of `ds1`. Defaults to \n",
    "        800 pixels wide.\n",
    "        \n",
    "    :param interval:\n",
    "        An optional integer defining the milliseconds between each animation frame used to control the speed of \n",
    "        the output animation. Higher values result in a slower animation. Defaults to 100 milliseconds between \n",
    "        each frame.\n",
    "        \n",
    "    :param bands1:\n",
    "        An optional list of either one or three bands to be plotted, all of which must exist in `ds1`.\n",
    "        Defaults to `['red', 'green', 'blue']`.\n",
    "    \n",
    "    :param bands2:\n",
    "        An optional list of either one or three bands to be plotted, all of which must exist in `ds2`.\n",
    "        Defaults to `['red', 'green', 'blue']`. \n",
    "        \n",
    "    :param reflect_stand1:\n",
    "        An optional  integer controlling the brightness of the output `ds1` image. Low values (< 5000) result in \n",
    "        brighter images. Defaults to 5000.\n",
    "    \n",
    "    :param reflect_stand2:\n",
    "        An optional integer controlling the brightness of the output `ds2` image. Low values (< 5000) result in \n",
    "        brighter images. Defaults to 5000.\n",
    "\n",
    "    :param title1: \n",
    "        An optional string or list of strings with a length equal to the number of timesteps in `ds1`. This can be\n",
    "        used to display a static title for the left panel (using a string), or a dynamic title (using a list)\n",
    "        that displays different text for each timestep. Defaults to False, which plots no title.\n",
    "        \n",
    "    :param title2: \n",
    "        An optional string or list of strings with a length equal to the number of timesteps in `ds2`. This can be\n",
    "        used to display a static title for the left panel (using a string), or a dynamic title (using a list)\n",
    "        that displays different text for each timestep. Defaults to False, which plots no title.\n",
    "        \n",
    "    :param show_date1:\n",
    "        An optional boolean that defines whether or not to plot date annotations for each animation frame in the \n",
    "        left panel. Defaults to True, which plots date annotations for `ds1`.\n",
    "    \n",
    "    :param show_date2:\n",
    "        An optional boolean that defines whether or not to plot date annotations for each animation frame in the \n",
    "        right panel. Defaults to True, which plots date annotations for `ds2`.\n",
    "        \n",
    "    :param onebandplot_cbar1:\n",
    "        An optional boolean indicating whether to include a colourbar for `ds1` one-band arrays. Defaults to True.\n",
    "        \n",
    "    :param onebandplot_cbar2:\n",
    "        An optional boolean indicating whether to include a colourbar for `ds2` one-band arrays. Defaults to True.\n",
    "        \n",
    "    :param onebandplot_kwargs1:\n",
    "        An optional dict of kwargs for controlling the appearance of `ds1` one-band image arrays to pass to \n",
    "        matplotlib `plt.imshow` (see https://matplotlib.org/api/_as_gen/matplotlib.pyplot.imshow.html for options).\n",
    "        This only applies if an xarray with a single band is passed to d1. For example, a green colour scheme and\n",
    "        custom stretch can be specified using: `onebandplot_kwargs1={'cmap':'Greens`, 'vmin':0.2, 'vmax':0.9}`. \n",
    "        By default, one-band arrays are plotted using the 'Greys' cmap with a vmin of 0.0 and a vmax of 1.0.\n",
    "    \n",
    "    :param onebandplot_kwargs2:\n",
    "        An optional dict of kwargs for controlling the appearance of `ds2` one-band image arrays to \n",
    "        pass to matplotlib `plt.imshow`; only applies if an xarray with a single band is passed to d2 (see above).\n",
    "    \n",
    "    :param annotation_kwargs1:\n",
    "        An optional dict of kwargs for controlling the appearance of `ds1` text annotations to pass to \n",
    "        matplotlib `plt.annotate`  (see https://matplotlib.org/api/_as_gen/matplotlib.pyplot.annotate.html). \n",
    "        For example, `annotation_kwargs1={'fontsize':20, 'color':'red', 'family':'serif'}. By default, text \n",
    "        annotations are white, size 15 mono-spaced font with a 3pt black outline in the panel's top-right. \n",
    "    \n",
    "    :param annotation_kwargs2:\n",
    "        An optional dict of kwargs for controlling the appearance of the `ds2` text annotations to pass \n",
    "        to matplotlib `plt.annotate` (see above).\n",
    "        \n",
    "    :param shapefile_path1:\n",
    "        A list of one or multiple strings giving the locations of shapefiles to overlay on the left output animation. \n",
    "        The shapefiles must be in the same projection as the input xarray dataset.\n",
    "        \n",
    "    :param shapefile_path2:\n",
    "        A list of one or multiple strings giving the locations of shapefiles to overlay on the left output animation. \n",
    "        The shapefiles must be in the same projection as the input xarray dataset.\n",
    "        \n",
    "    :param shapefile_kwargs1:\n",
    "        An optional dict of kwargs to specify the appearance of the shapefile overlay for the left animation. \n",
    "         'shapefile_kwargs = {For example: 'ax':ax1, 'linewidth':2, 'edgecolor':'black', 'facecolor':\"#00000000\"}'\n",
    "        \n",
    "    :param shapefile_kwargs2:\n",
    "        An optional dict of kwargs to specify the appearance of the shapefile overlay for the right animation. \n",
    "         'shapefile_kwargs = {For example: 'ax':ax1, 'linewidth':2, 'edgecolor':'black', 'facecolor':\"#00000000\"}'\n",
    "     \n",
    "        \n",
    "    \"\"\"\n",
    "\n",
    "    # Define function to convert xarray dataset to list of three band numpy arrays\n",
    "    def _ds_to_arrraylist(ds, bands, reflect_stand):  \n",
    "        \n",
    "        \"\"\"\n",
    "        This function converts xarray dataset time series into a list of numpy arrays.\n",
    "        Output arrays will be either one or three band arrays for input into plt.imshow\n",
    "        \"\"\"\n",
    "\n",
    "        array_list = []\n",
    "        for i, timestep in enumerate(ds.time):\n",
    "\n",
    "            # Select single timestep from the data array\n",
    "            ds_i = ds.isel(time = i)\n",
    "\n",
    "            # Create new three band array\n",
    "            y, x = ds_i[bands[0]].shape\n",
    "\n",
    "            if len(bands) == 1:    \n",
    "\n",
    "                # Create new three band array\n",
    "                img_toshow = ds_i[bands[0]].values\n",
    "\n",
    "            else:\n",
    "\n",
    "                rawimg = np.zeros((y, x, 3), dtype=np.float32)\n",
    "\n",
    "                # Add xarray bands into three dimensional numpy array\n",
    "                for band, colour in enumerate(bands):\n",
    "\n",
    "                    rawimg[:, :, band] = ds_i[colour].values\n",
    "\n",
    "                # Stretch contrast using defined reflectance standardisation; defaults to 5000\n",
    "                img_toshow = (rawimg / reflect_stand).clip(0, 1)\n",
    "\n",
    "            array_list.append(img_toshow)\n",
    "\n",
    "        return(array_list)\n",
    "    \n",
    "    def _add_colourbar(ax, im, vmin, vmax, fontsize):\n",
    "        \n",
    "        \"\"\"\n",
    "        Add a nicely formatted colourbar to an animation panel\n",
    "        \"\"\"\n",
    "\n",
    "        # Add underlying bar\n",
    "        cbbox = inset_axes(ax, '100%', '9%', loc = 8, borderpad=0)\n",
    "        [cbbox.spines[k].set_visible(False) for k in cbbox.spines]\n",
    "        cbbox.tick_params(axis='both', left=False, top=False, right=False, bottom=False, \n",
    "                          labelleft=False, labeltop=False, labelright=False, labelbottom=False)\n",
    "        cbbox.set_facecolor([0, 0, 0, 0.4])\n",
    "\n",
    "        # Add colourbar\n",
    "        axins2 = inset_axes(ax, width=\"90%\", height=\"3%\", loc=8) \n",
    "        fig.colorbar(im, cax=axins2, orientation=\"horizontal\", ticks=np.linspace(vmin, vmax, 3)) \n",
    "        axins2.xaxis.set_ticks_position(\"top\")\n",
    "        axins2.tick_params(axis='x', colors='white', labelsize=fontsize, pad=1, length=0)\n",
    "        axins2.get_xticklabels()[0].set_horizontalalignment('left')\n",
    "        axins2.get_xticklabels()[-1].set_horizontalalignment('right') \n",
    "    \n",
    "    \n",
    "    ###############\n",
    "    # Setup steps #\n",
    "    ############### \n",
    "    \n",
    "    # Get height relative to a size of 10 inches width\n",
    "    width_ratio = float(ds1.sizes['x']) / float(ds1.sizes['y'])\n",
    "    height = 10.0 / width_ratio\n",
    "    \n",
    "    # Get number of timesteps for each dataset\n",
    "    timesteps1 = len(ds1.time)\n",
    "    timesteps2 = len(ds2.time)\n",
    "    \n",
    "    # If title is supplied as a string, multiply out to a list with one string per timestep.\n",
    "    # Otherwise, use supplied list for plot titles.\n",
    "    if isinstance(title1, str) or isinstance(title1, bool):\n",
    "        title_list1 = [title1] * timesteps1   \n",
    "    else:\n",
    "        title_list1 = title1\n",
    "        \n",
    "    # If title is supplied as a string, multiply out to a list with one string per timestep\n",
    "    if isinstance(title2, str) or isinstance(title2, bool):\n",
    "        title_list2 = [title2] * timesteps2  \n",
    "    else:\n",
    "        title_list2 = title2       \n",
    "        \n",
    "    # Set up annotation parameters that plt.imshow plotting for single band array images. \n",
    "    # The nested dict structure sets default values which can be overwritten/customised by the \n",
    "    # manually specified `onebandplot_kwargs`\n",
    "    onebandplot_kwargs1 = dict({'cmap':'Greys', 'vmin':0.0, 'vmax':1.0, 'interpolation':'bilinear'},\n",
    "                                **onebandplot_kwargs1) \n",
    "    \n",
    "    onebandplot_kwargs2 = dict({'cmap':'Greys', 'vmin':0.0, 'vmax':1.0, 'interpolation':'bilinear'},\n",
    "                                **onebandplot_kwargs2) \n",
    "    \n",
    "    # Set up annotation parameters that control font etc. The nested dict structure sets default \n",
    "    # values which can be overwritten/customised by the manually specified `annotation_kwargs`\n",
    "    annotation_kwargs1 = dict({'xy': (1, 1), 'xycoords':'axes fraction', \n",
    "                               'xytext':(-5, -5), 'textcoords':'offset points', \n",
    "                               'horizontalalignment':'right', 'verticalalignment':'top', \n",
    "                               'fontsize':15, 'color':'white', 'family':'monospace', \n",
    "                               'path_effects':[PathEffects.withStroke(linewidth=3, foreground='black')]},\n",
    "                               **annotation_kwargs1)\n",
    "    \n",
    "    annotation_kwargs2 = dict({'xy': (1, 1), 'xycoords':'axes fraction', \n",
    "                               'xytext':(-5, -5), 'textcoords':'offset points', \n",
    "                               'horizontalalignment':'right', 'verticalalignment':'top', \n",
    "                               'fontsize':15, 'color':'white', 'family':'monospace', \n",
    "                               'path_effects':[PathEffects.withStroke(linewidth=3, foreground='black')]},\n",
    "                               **annotation_kwargs2)\n",
    "   \n",
    "    \n",
    "    ###################\n",
    "    # Initialise plot #\n",
    "    ################### \n",
    "    \n",
    "    # First test if there are three bands, and that all exist in both datasets:\n",
    "    if ((len(bands1) == 3) | (len(bands1) == 1)) & all([(b1 in ds1.data_vars) for b1 in bands1]) & \\\n",
    "       ((len(bands2) == 3) | (len(bands2) == 1)) & all([(b2 in ds2.data_vars) for b2 in bands2]):  \n",
    "\n",
    "        # Import xarrays as lists of three band numpy arrays\n",
    "        imagelist1 = _ds_to_arrraylist(ds1, bands=bands1, reflect_stand=reflect_stand1)\n",
    "        imagelist2 = _ds_to_arrraylist(ds2, bands=bands2, reflect_stand=reflect_stand2)\n",
    "        \n",
    "        # Test that shapes are the same:\n",
    "        if imagelist1[0].shape[0:1] == imagelist2[0].shape[0:1]:\n",
    "            \n",
    "            # Set up figure\n",
    "            fig, (ax1, ax2) = plt.subplots(ncols=2) \n",
    "            fig.patch.set_facecolor('black')\n",
    "            fig.subplots_adjust(left=0, bottom=0, right=1, top=1, wspace=0, hspace=0)\n",
    "            fig.set_size_inches(10.0, height * 0.5, forward=True)\n",
    "            ax1.axis('off')\n",
    "            ax2.axis('off')\n",
    "            \n",
    "            extents1 = [float(ds1.x.min()), float(ds1.x.max()),\n",
    "                       float(ds1.y.min()), float(ds1.y.max())]\n",
    "            \n",
    "            extents2 = [float(ds2.x.min()), float(ds2.x.max()),\n",
    "                       float(ds2.y.min()), float(ds2.y.max())]\n",
    "            \n",
    "            # Initialise axesimage objects to be updated during animation\n",
    "            im1 = ax1.imshow(imagelist1[0], **onebandplot_kwargs1, extent = extents1)\n",
    "            im2 = ax2.imshow(imagelist2[0], **onebandplot_kwargs2, extent = extents2)\n",
    "            \n",
    "            #define the parameters of the overlaying shapefile(s)\n",
    "            shapefile_kwargs1 = dict({'linewidth':1, 'edgecolor':'black', 'facecolor':\"#00000000\"}, \n",
    "                                        **shapefile_kwargs1)\n",
    "            shapefile_kwargs2 = dict({'linewidth':1, 'edgecolor':'black', 'facecolor':\"#00000000\"}, \n",
    "                                        **shapefile_kwargs2)\n",
    "\n",
    "            # add shapefile overlay(s)\n",
    "            if shapefile_path1 is not None:\n",
    "                for shapefile in shapefile_path1:\n",
    "                    shapefile = gpd.read_file(shapefile)\n",
    "                    shapefile.plot(ax = ax1, **shapefile_kwargs1)\n",
    "            \n",
    "            if shapefile_path2 is not None:\n",
    "                for shapefile in shapefile_path2:\n",
    "                    shapefile = gpd.read_file(shapefile)\n",
    "                    shapefile.plot(ax = ax2, **shapefile_kwargs2)\n",
    "            \n",
    "            # Initialise annotation objects to be updated during animation\n",
    "            t1 = ax1.annotate('', **annotation_kwargs1)   \n",
    "            t2 = ax2.annotate('', **annotation_kwargs2)  \n",
    "            \n",
    "            # Optionally add colourbars for one band images\n",
    "            if (len(bands1) == 1) & onebandplot_cbar1:                \n",
    "                _add_colourbar(ax1, im1, fontsize=11,\n",
    "                               vmin=onebandplot_kwargs1['vmin'], \n",
    "                               vmax=onebandplot_kwargs1['vmax'])\n",
    "                \n",
    "            if (len(bands2) == 1) & onebandplot_cbar2:                \n",
    "                _add_colourbar(ax2, im2, fontsize=11,\n",
    "                               vmin=onebandplot_kwargs2['vmin'], \n",
    "                               vmax=onebandplot_kwargs2['vmax'])\n",
    "\n",
    "            # Function to update figure\n",
    "            def update_figure(frame_i):\n",
    "\n",
    "                ####################\n",
    "                # Plot first panel #\n",
    "                ####################  \n",
    "\n",
    "                # Get human-readable date info (e.g. \"16 May 1990\")\n",
    "                ts = ds1.time.isel(time=frame_i).dt\n",
    "                year = ts.year.item()\n",
    "                month = ts.month.item()\n",
    "                day = ts.day.item()\n",
    "\n",
    "                # Create annotation string based on title and date specifications:\n",
    "                title1 = title_list1[frame_i]\n",
    "                if title1 and show_date1:\n",
    "                    title_date1 = '{} {} {}\\n{}'.format(day, calendar.month_abbr[month], year, title1)\n",
    "                elif title1 and not show_date1:\n",
    "                    title_date1 = '{}'.format(title1)\n",
    "                elif show_date1 and not title1:\n",
    "                    title_date1 = '{} {} {}'.format(day, calendar.month_abbr[month], year)           \n",
    "                else:\n",
    "                    title_date1 = ''\n",
    "\n",
    "                # Update figure for frame\n",
    "                im1.set_array(imagelist1[frame_i])\n",
    "                t1.set_text(title_date1) \n",
    "\n",
    "\n",
    "                #####################\n",
    "                # Plot second panel #\n",
    "                ##################### \n",
    "\n",
    "                # Get human-readable date info (e.g. \"16 May 1990\")\n",
    "                ts = ds2.time.isel(time=frame_i).dt\n",
    "                year = ts.year.item()\n",
    "                month = ts.month.item()\n",
    "                day = ts.day.item()\n",
    "\n",
    "                # Create annotation string based on title and date specifications:\n",
    "                title2 = title_list2[frame_i]\n",
    "                if title2 and show_date2:\n",
    "                    title_date2 = '{} {} {}\\n{}'.format(day, calendar.month_abbr[month], year, title2)\n",
    "                elif title2 and not show_date2:\n",
    "                    title_date2 = '{}'.format(title2)\n",
    "                elif show_date2 and not title2:\n",
    "                    title_date2 = '{} {} {}'.format(day, calendar.month_abbr[month], year)           \n",
    "                else:\n",
    "                    title_date2 = ''\n",
    "\n",
    "                # Update figure for frame\n",
    "                im2.set_array(imagelist2[frame_i])\n",
    "                t2.set_text(title_date2) \n",
    "\n",
    "                # Return the artists set\n",
    "                return [im1, im2, t1, t2]\n",
    "\n",
    "\n",
    "            ##############################\n",
    "            # Generate and run animation #\n",
    "            ##############################\n",
    "\n",
    "            # Generate animation\n",
    "            frames_to_run = min(timesteps1, timesteps2)\n",
    "            print('Generating {} frame animation (i.e. timesteps in shortest dataset)'.format(frames_to_run))\n",
    "            ani = animation.FuncAnimation(fig, update_figure, frames=frames_to_run, interval=interval, blit=True)\n",
    "\n",
    "            # Export as either MP4 or GIF\n",
    "            if output_path[-3:] == 'mp4':\n",
    "                print('    Exporting animation to {}'.format(output_path))\n",
    "                ani.save(output_path, dpi=width_pixels / 10.0)\n",
    "\n",
    "            elif output_path[-3:] == 'wmv':\n",
    "                print('    Exporting animation to {}'.format(output_path))\n",
    "                ani.save(output_path, dpi=width_pixels / 10.0, \n",
    "                         writer=animation.FFMpegFileWriter(fps=1000 / interval, bitrate=4000, codec='wmv2'))\n",
    "\n",
    "            elif output_path[-3:] == 'gif':\n",
    "                print('    Exporting animation to {}'.format(output_path))\n",
    "                ani.save(output_path, dpi=width_pixels / 10.0, writer='imagemagick')\n",
    "\n",
    "            else:\n",
    "                print('    Output file type must be either .mp4, .wmv or .gif')\n",
    "        \n",
    "        else:\n",
    "            print('Ensure that ds1 {} has the same xy dimensions as ds2 {}'.format(imagelist1[0].shape[0:1], \n",
    "                                                                                   imagelist2[0].shape[0:1])) \n",
    "    else:        \n",
    "        print('Please select either one or three bands that all exist in the input datasets') \n",
    "\n"
   ]
  },
  {
   "cell_type": "code",
   "execution_count": 157,
   "metadata": {
    "ExecuteTime": {
     "end_time": "2018-08-01T04:40:11.327384Z",
     "start_time": "2018-08-01T04:40:11.315120Z"
    }
   },
   "outputs": [],
   "source": [
    "#Define function to either read or load environmental data from Cambodia Cube\n",
    "def LoadAreaOfInterest(study_area):\n",
    "    '''\n",
    "    Firstly, LoadAreaOfInterest checks whether a pickle, that contains an xarray of nbar data, \n",
    "    is saved in the output folder. If there is no pickle, the function searches the \n",
    "    \"AreaOfInterest\" function to gain lat/lon information for that particular study_area. If \n",
    "    there is no lat/lon coordinates in the AreaOfInterest function, then an error is returned. \n",
    "    If the coordinates are found, nbar data is loaded and masked. Finally data from all \n",
    "    sensors are concatenated together into one xarray.\n",
    "   \n",
    "    Last modified: March 2018\n",
    "    \n",
    "    Author: Erin Telfer\n",
    "    \n",
    "    Inputs: \n",
    "    study_area - the name of the study area\n",
    "    '''\n",
    "    \n",
    "    study_area=study_area.lower().replace(\" \",\"\")\n",
    "    lat_min, lat_max, lon_min, lon_max = AreaOfInterest(study_area)\n",
    "            \n",
    "    print(\"Loading Cambodia Cube data\")\n",
    "    dataset = {}\n",
    "\n",
    "    #query is created\n",
    "    query = {'time': (start_of_epoch, end_of_epoch),}\n",
    "    query['x'] = (lon_min, lon_max)\n",
    "    query['y'] = (lat_max, lat_min)\n",
    "    query['crs'] = 'EPSG:4326'\n",
    "    #query['resolution'] = (-0.5,0.5)\n",
    "\n",
    "    print(query)\n",
    "\n",
    "    for item in list_of_products: #loop through specified\n",
    "        environmental_variable = cdc.load(product= item, group_by='solar_day', **query)\n",
    "        #retrieve the projection information\n",
    "        crs = environmental_variable.crs\n",
    "        crswkt = environmental_variable.crs.wkt\n",
    "        affine = environmental_variable.affine\n",
    "        dataset[item] = environmental_variable\n",
    "\n",
    "        print('loaded %s' % item) \n",
    "    print('ls load complete')\n",
    "\n",
    "\n",
    "    #data from different sensors are joined together and sorted so that observations are sorted by time rather than sensor\n",
    "    environmental_variable = xr.concat(dataset.values(), 'time')\n",
    "    environmental_variable = environmental_variable.sortby('time')\n",
    "    environmental_variable.attrs['crs'] = crs\n",
    "    environmental_variable.attrs['affin|e'] = affine          \n",
    "                    \n",
    "    #print(\"saving data as {0}.pkl\".format(study_area))\n",
    "\n",
    "    #pickle.dump(nbar_clean, open(pickle_location,\"wb\")) #save nbar as pickle\n",
    "    return environmental_variable"
   ]
  },
  {
   "cell_type": "code",
   "execution_count": 158,
   "metadata": {
    "ExecuteTime": {
     "end_time": "2018-08-01T04:40:12.191458Z",
     "start_time": "2018-08-01T04:40:12.180004Z"
    }
   },
   "outputs": [],
   "source": [
    "#Define function to define the coordinates for the study area#Define \n",
    "def AreaOfInterest(study_area):\n",
    "    if study_area == 'phumsrahkaev':\n",
    "        lat_min = 13.000 #down\n",
    "        lat_max = 13.100 #up\n",
    "        lon_min = 103.300 #left\n",
    "        lon_max = 103.400 #right  \n",
    "    elif study_area == 'outapaong':\n",
    "        lat_min = 12.600 #down\n",
    "        lat_max = 12.800 #up\n",
    "        lon_min = 103.600 #left\n",
    "        lon_max = 103.800 #right\n",
    "    elif study_area == 'mondulkiri':\n",
    "        lat_min = 12.863 #down\n",
    "        lat_max = 13.663 #up\n",
    "        lon_min = 106.350 #left\n",
    "        lon_max = 107.236 #right\n",
    "    elif study_area == 'krongstungtreng':\n",
    "        lat_min = 13.181 #down\n",
    "        lat_max = 13.681 #up\n",
    "        lon_min = 105.781 #left\n",
    "        lon_max = 106.381 #right\n",
    "    elif study_area == 'kaohnheaek':\n",
    "        lat_min = 13.000 #down\n",
    "        lat_max = 13.100 #up\n",
    "        lon_min = 107.000 #left\n",
    "        lon_max = 107.100 #right\n",
    "    elif study_area == 'neakleoang':\n",
    "        lat_min = 11.246 #down\n",
    "        lat_max = 11.532 #up\n",
    "        lon_min = 105.141 #left\n",
    "        lon_max = 105.380 #right\n",
    "    elif study_area == 'tonlesaplake':\n",
    "        lat_min = 13.020 #down\n",
    "        lat_max = 13.120 #up\n",
    "        lon_min = 103.740 #left\n",
    "        lon_max = 103.840 #right\n",
    "    elif study_area == 'maximum_extent':\n",
    "        lat_min = 9.25 #down\n",
    "        lat_max = 15.25 #up\n",
    "        lon_min = 101.75 #left\n",
    "        lon_max = 108.25 #right\n",
    "    elif study_area == 'kampongchhnang':\n",
    "        lat_min = 11.95 #down\n",
    "        lat_max = 12.1 #up\n",
    "        lon_min = 104.75 #left\n",
    "        lon_max = 105.00 #right        \n",
    "    else:\n",
    "        print('FileNotFoundError')\n",
    "    return (lat_min, lat_max, lon_min, lon_max)"
   ]
  },
  {
   "cell_type": "code",
   "execution_count": 159,
   "metadata": {
    "ExecuteTime": {
     "end_time": "2018-08-01T04:40:13.574702Z",
     "start_time": "2018-08-01T04:40:13.567034Z"
    }
   },
   "outputs": [],
   "source": [
    "def write_your_netcdf(data, dataset_name, filename, crs):\n",
    "\n",
    "    \"\"\"\n",
    "    This function turns an xarray dataarray into a dataset so we can write it to netcdf. \n",
    "    It adds on a crs definition from the original array. data = your xarray dataset, dataset_name \n",
    "    is a string describing your variable\n",
    "    \n",
    "    Last modified: May 2018\n",
    "    Author: Bex Dunn    \n",
    "    \"\"\" \n",
    "   \n",
    "    #turn array into dataset so we can write the netcdf\n",
    "    if isinstance(data,xr.DataArray):\n",
    "        dataset= data.to_dataset(name=dataset_name)\n",
    "    elif isinstance(data,xr.Dataset):\n",
    "        dataset = data\n",
    "    else:\n",
    "        print('your data might be the wrong type, it is: '+type(data))\n",
    "    #grab our crs attributes to write a spatially-referenced netcdf\n",
    "    dataset.attrs['crs'] = crs\n",
    "\n",
    "    try:\n",
    "        write_dataset_to_netcdf(dataset, filename)\n",
    "    except RuntimeError as err:\n",
    "        print(\"RuntimeError: {0}\".format(err))    "
   ]
  },
  {
   "cell_type": "code",
   "execution_count": 160,
   "metadata": {
    "ExecuteTime": {
     "end_time": "2018-08-01T04:40:14.357167Z",
     "start_time": "2018-08-01T04:40:14.344720Z"
    }
   },
   "outputs": [],
   "source": [
    "#Define function to create subplots of all scenes within an array as subplots\n",
    "def one_band_image_subplots(ds, num_cols, figsize = [10,40], left  = 0.125, \n",
    "                              right = 0.9, bottom = 0.1, top = 0.9, \n",
    "                              wspace = 0.2, hspace = 0.4):\n",
    "    '''\n",
    "    one_band_image_subplots takes a dataset with one band and multiple time steps, \n",
    "    and plots them in image. \n",
    "    Last modified: March 2018\n",
    "    Author: Mike Barnes\n",
    "    Modified by: Claire Krause and Erin Telfer\n",
    "    \n",
    "    Inputs: \n",
    "    ds -   Dataset containing the bands to be plotted\n",
    "    num_cols - number of columns for the subplot\n",
    "    \n",
    "    Optional:\n",
    "    figsize - dimensions for the output figure\n",
    "    left  - the space on the left side of the subplots of the figure\n",
    "    right - the space on the right side of the subplots of the figure\n",
    "    bottom - the space on the bottom of the subplots of the figure\n",
    "    top - the space on the top of the subplots of the figure\n",
    "    wspace - the amount of width reserved for blank space between subplots\n",
    "    hspace - the amount of height reserved for white space between subplots\n",
    "    '''\n",
    "    # Find the number of rows/columns we need, based on the number of time steps in ds\n",
    "    fig = plt.figure(figsize = figsize)\n",
    "    timesteps = ds.time.size\n",
    "    num_rows = int(np.ceil(timesteps/num_cols))\n",
    "    fig, axes = plt.subplots(num_rows, num_cols, figsize = figsize)\n",
    "    fig.subplots_adjust(left  = left, right = right, bottom = bottom, top = top, \n",
    "                        wspace = wspace, hspace = hspace)\n",
    "    try: #loop through all scenes, prepare imagery and create subplots\n",
    "        for i, ax in enumerate(fig.axes):\n",
    "            image_ds = ds.rainfall.isel(time =i)\n",
    "            ax.set_title(str(image_ds.time.values)[0:10])\n",
    "            ax.imshow(image_ds, interpolation = 'nearest') #plot image as subplot\n",
    "    except IndexError: #if there are an odd number of plots, this code will allow plotting of images\n",
    "        fig.delaxes(ax)\n",
    "        plt.draw() "
   ]
  },
  {
   "cell_type": "markdown",
   "metadata": {},
   "source": [
    "# Datacube query and pre-processing"
   ]
  },
  {
   "cell_type": "code",
   "execution_count": 161,
   "metadata": {
    "ExecuteTime": {
     "end_time": "2018-08-01T04:40:15.651776Z",
     "start_time": "2018-08-01T04:40:15.648071Z"
    }
   },
   "outputs": [],
   "source": [
    "#define study area\n",
    "study_area = 'kampongchhnang' #name of study area\n",
    "#study_area=study_area.lower().replace(\" \",\"\") #reformat to remove uppercase and spaces\n",
    "\n",
    "#define temporal range ()\n",
    "start_of_epoch = '2015-01-01'\n",
    "end_of_epoch =  '2016-12-01'\n",
    "\n",
    "#specify output folder\n",
    "output_folder= '/g/data/u46/users/sc0554/climate_indices_input/'"
   ]
  },
  {
   "cell_type": "markdown",
   "metadata": {},
   "source": [
    "** Load the PET and Rainfall data from datacube **"
   ]
  },
  {
   "cell_type": "code",
   "execution_count": 162,
   "metadata": {
    "ExecuteTime": {
     "end_time": "2018-08-01T04:40:32.620639Z",
     "start_time": "2018-08-01T04:40:18.113883Z"
    },
    "scrolled": true
   },
   "outputs": [
    {
     "name": "stdout",
     "output_type": "stream",
     "text": [
      "Loading Cambodia Cube data\n",
      "{'time': ('2015-01-01', '2016-12-01'), 'x': (104.75, 105.0), 'y': (12.1, 11.95), 'crs': 'EPSG:4326'}\n"
     ]
    },
    {
     "name": "stderr",
     "output_type": "stream",
     "text": [
      "/g/data/v10/public/modules/dea/20180705/lib/python3.6/site-packages/datacube/utils/__init__.py:206: RuntimeWarning: invalid value encountered in double_scalars\n",
      "  res = (data[data.size - 1] - data[0]) / (data.size - 1.0)\n"
     ]
    },
    {
     "name": "stdout",
     "output_type": "stream",
     "text": [
      "loaded rainfall_grids_1998_2017\n",
      "ls load complete\n",
      "<xarray.DataArray 'rainfall' (time: 701, latitude: 2, longitude: 1)>\n",
      "array([[[0.],\n",
      "        [0.]],\n",
      "\n",
      "       [[0.],\n",
      "        [0.]],\n",
      "\n",
      "       ...,\n",
      "\n",
      "       [[0.],\n",
      "        [0.]],\n",
      "\n",
      "       [[0.],\n",
      "        [0.]]], dtype=float32)\n",
      "Coordinates:\n",
      "  * latitude   (latitude) float64 12.12 11.88\n",
      "  * longitude  (longitude) float64 104.9\n",
      "  * time       (time) datetime64[ns] 2015-01-01T10:30:00 2015-01-02T10:30:00 ...\n",
      "Attributes:\n",
      "    nodata:   -9999.9004\n",
      "    units:    mm/hr\n",
      "    crs:      EPSG:4326\n",
      "Loading Cambodia Cube data\n",
      "{'time': ('2015-01-01', '2016-12-01'), 'x': (104.75, 105.0), 'y': (12.1, 11.95), 'crs': 'EPSG:4326'}\n"
     ]
    },
    {
     "name": "stderr",
     "output_type": "stream",
     "text": [
      "/g/data/v10/public/modules/dea/20180705/lib/python3.6/site-packages/datacube/utils/__init__.py:206: RuntimeWarning: invalid value encountered in double_scalars\n",
      "  res = (data[data.size - 1] - data[0]) / (data.size - 1.0)\n"
     ]
    },
    {
     "name": "stdout",
     "output_type": "stream",
     "text": [
      "loaded pet_grids_1979_2016\n",
      "ls load complete\n",
      "<xarray.DataArray 'pet' (time: 701, latitude: 2, longitude: 1)>\n",
      "array([[[3.911699],\n",
      "        [3.889494]],\n",
      "\n",
      "       [[3.973222],\n",
      "        [4.000264]],\n",
      "\n",
      "       ...,\n",
      "\n",
      "       [[3.52897 ],\n",
      "        [3.199676]],\n",
      "\n",
      "       [[3.067859],\n",
      "        [2.808222]]], dtype=float32)\n",
      "Coordinates:\n",
      "  * latitude   (latitude) float64 12.25 11.75\n",
      "  * longitude  (longitude) float64 104.8\n",
      "  * time       (time) datetime64[ns] 2015-01-01T10:30:00 2015-01-02T10:30:00 ...\n",
      "Attributes:\n",
      "    nodata:   NaN\n",
      "    units:    mm/day\n",
      "    crs:      EPSG:4326\n"
     ]
    }
   ],
   "source": [
    "# load the PET and Rainfall from the datacube\n",
    "list_of_products = ['rainfall_grids_1998_2017']\n",
    "rainfall=LoadAreaOfInterest(study_area)\n",
    "print(rainfall.rainfall)\n",
    "list_of_products = ['pet_grids_1979_2016']\n",
    "pet=LoadAreaOfInterest(study_area)\n",
    "pet = pet.rename({'PET': 'pet'})\n",
    "print(pet.pet)"
   ]
  },
  {
   "cell_type": "markdown",
   "metadata": {
    "heading_collapsed": true
   },
   "source": [
    "### Mask datacube using shapefile of Cambodia"
   ]
  },
  {
   "cell_type": "code",
   "execution_count": 24,
   "metadata": {
    "ExecuteTime": {
     "end_time": "2018-08-01T02:58:49.836475Z",
     "start_time": "2018-08-01T02:58:49.605399Z"
    },
    "hidden": true
   },
   "outputs": [],
   "source": [
    "shape_file = os.path.expanduser(\"/g/data/u46/users/ext547/ewater/input_data/Cambodia_boundary/KHM_adm0.shp\")\n",
    "with fiona.open(shape_file) as shapes:\n",
    "        crs = geometry.CRS(shapes.crs_wkt)\n",
    "        first_geometry = next(iter(shapes))['geometry']\n",
    "        geom = geometry.Geometry(first_geometry, crs=crs)"
   ]
  },
  {
   "cell_type": "code",
   "execution_count": 25,
   "metadata": {
    "ExecuteTime": {
     "end_time": "2018-08-01T02:58:50.615038Z",
     "start_time": "2018-08-01T02:58:50.495076Z"
    },
    "hidden": true
   },
   "outputs": [
    {
     "name": "stderr",
     "output_type": "stream",
     "text": [
      "/g/data/v10/public/modules/dea/20180705/lib/python3.6/site-packages/datacube/utils/__init__.py:206: RuntimeWarning: invalid value encountered in double_scalars\n",
      "  res = (data[data.size - 1] - data[0]) / (data.size - 1.0)\n"
     ]
    }
   ],
   "source": [
    "rainfall_mask = rasterio.features.geometry_mask([geom.to_crs(rainfall.geobox.crs) for geoms in [geom]],\n",
    "                                           out_shape=rainfall.geobox.shape,\n",
    "                                           transform=rainfall.geobox.affine,\n",
    "                                           all_touched=True,\n",
    "                                           invert=True)\n",
    "pet_mask = rasterio.features.geometry_mask([geom.to_crs(pet.geobox.crs) for geoms in [geom]],\n",
    "                                           out_shape=pet.geobox.shape,\n",
    "                                           transform=pet.geobox.affine,\n",
    "                                           all_touched=True,\n",
    "                                           invert=True)\n",
    "\n",
    "rainfall_masked = rainfall.where(rainfall_mask)\n",
    "pet_masked = pet.where(pet_mask)"
   ]
  },
  {
   "cell_type": "markdown",
   "metadata": {},
   "source": [
    "### Calculate monthly totals\n",
    "**Plot an example date for queried data**"
   ]
  },
  {
   "cell_type": "code",
   "execution_count": 140,
   "metadata": {
    "ExecuteTime": {
     "end_time": "2018-08-01T04:26:13.967039Z",
     "start_time": "2018-08-01T04:26:13.154852Z"
    },
    "scrolled": true
   },
   "outputs": [
    {
     "name": "stdout",
     "output_type": "stream",
     "text": [
      "rainfall\n",
      "pet\n"
     ]
    }
   ],
   "source": [
    "environmental_data = {'rainfall': rainfall, 'pet':pet}\n",
    "monthly_environmental_data = {}\n",
    "#resample to monthly averages and assign spatial and time units\n",
    "for key, data in environmental_data.items():\n",
    "    print (key)\n",
    "    data[key].values[data[key].values == -9999.9] = np.nan\n",
    "    #sum the total amount for the month\n",
    "    data = data.resample(time = 'm').sum()\n",
    "    data.attrs['crs'] = environmental_data[key].crs\n",
    "    data.attrs['affin|e'] =environmental_data[key].attrs['affin|e']\n",
    "    data.time.attrs['units'] = environmental_data[key].time.units #'seconds since 1970-01-01 00:00:00'\n",
    "    data[key].attrs['units'] = 'millimeter'\n",
    "    data = data.transpose('latitude', 'longitude', 'time')\n",
    "    monthly_environmental_data[key] = data\n",
    "\n",
    "# environmental_data_masked = {'rainfall': rainfall_masked, 'pet':pet_masked}\n",
    "# monthly_environmental_data_masked = {}\n",
    "# #resample to monthly averages and assign spatial and time units\n",
    "# for key, data in environmental_data_masked.items():\n",
    "#     print (key)\n",
    "#     data[key].values[data[key].values == -9999.9] = np.nan\n",
    "#     #sum the total amount for the month\n",
    "#     data = data.resample(time = 'm').sum()\n",
    "#     data.attrs['crs'] = environmental_data_masked[key].crs\n",
    "#     data.attrs['affin|e'] =environmental_data_masked[key].attrs['affin|e']\n",
    "#     data.time.attrs['units'] = environmental_data_masked[key].time.units #'seconds since 1970-01-01 00:00:00'\n",
    "#     data[key].attrs['units'] = 'millimeter'\n",
    "#     data = data.transpose('latitude', 'longitude', 'time')\n",
    "#     monthly_environmental_data_masked[key] = data"
   ]
  },
  {
   "cell_type": "code",
   "execution_count": 127,
   "metadata": {
    "ExecuteTime": {
     "end_time": "2018-08-01T04:17:59.452877Z",
     "start_time": "2018-08-01T04:17:59.446802Z"
    }
   },
   "outputs": [],
   "source": [
    "kk = monthly_environmental_data.copy()"
   ]
  },
  {
   "cell_type": "code",
   "execution_count": 129,
   "metadata": {
    "ExecuteTime": {
     "end_time": "2018-08-01T04:18:10.129627Z",
     "start_time": "2018-08-01T04:18:10.105958Z"
    }
   },
   "outputs": [
    {
     "data": {
      "text/plain": [
       "<xarray.DataArray 'rainfall' (latitude: 2, longitude: 1, time: 228)>\n",
       "array([[[0.0000e+00, 0.0000e+00, ..., 1.2789e+02, 0.0000e+00]],\n",
       "\n",
       "       [[0.0000e+00, 3.0000e-02, ..., 2.7138e+02, 0.0000e+00]]], dtype=float32)\n",
       "Coordinates:\n",
       "  * time       (time) datetime64[ns] 1998-01-31 1998-02-28 1998-03-31 ...\n",
       "  * latitude   (latitude) float64 12.25 11.75\n",
       "  * longitude  (longitude) float64 104.8\n",
       "Attributes:\n",
       "    units:    millimeter"
      ]
     },
     "execution_count": 129,
     "metadata": {},
     "output_type": "execute_result"
    }
   ],
   "source": [
    "monthly_environmental_data['rainfall'].rainfall"
   ]
  },
  {
   "cell_type": "code",
   "execution_count": 141,
   "metadata": {
    "ExecuteTime": {
     "end_time": "2018-08-01T04:26:21.545614Z",
     "start_time": "2018-08-01T04:26:21.210932Z"
    }
   },
   "outputs": [
    {
     "data": {
      "image/png": "[encoded data removed]",
      "text/plain": [
       "<Figure size 432x288 with 2 Axes>"
      ]
     },
     "metadata": {},
     "output_type": "display_data"
    }
   ],
   "source": [
    "plt.subplot(121)\n",
    "monthly_environmental_data['rainfall'].rainfall.isel(time = 10).plot()\n",
    "plt.subplot(122)\n",
    "monthly_environmental_data_masked['rainfall'].rainfall.isel(time = 10).plot()\n",
    "\n",
    "plt.tight_layout()\n",
    "plt.show()\n"
   ]
  },
  {
   "cell_type": "code",
   "execution_count": 131,
   "metadata": {
    "ExecuteTime": {
     "end_time": "2018-08-01T04:18:16.828285Z",
     "start_time": "2018-08-01T04:18:16.553020Z"
    }
   },
   "outputs": [
    {
     "data": {
      "text/plain": [
       "[<matplotlib.lines.Line2D at 0x7f3b6b7ccba8>]"
      ]
     },
     "execution_count": 131,
     "metadata": {},
     "output_type": "execute_result"
    },
    {
     "data": {
      "image/png": "[encoded data removed]",
      "text/plain": [
       "<Figure size 432x288 with 1 Axes>"
      ]
     },
     "metadata": {},
     "output_type": "display_data"
    }
   ],
   "source": [
    "monthly_environmental_data['pet'].pet.isel(time = 10).plot()"
   ]
  },
  {
   "cell_type": "code",
   "execution_count": 132,
   "metadata": {
    "ExecuteTime": {
     "end_time": "2018-08-01T04:18:20.640936Z",
     "start_time": "2018-08-01T04:18:20.134735Z"
    },
    "scrolled": false
   },
   "outputs": [
    {
     "data": {
      "text/plain": [
       "[<matplotlib.lines.Line2D at 0x7f3b6f53fe10>]"
      ]
     },
     "execution_count": 132,
     "metadata": {},
     "output_type": "execute_result"
    },
    {
     "data": {
      "image/png": "[encoded data removed]",
      "text/plain": [
       "<Figure size 792x504 with 1 Axes>"
      ]
     },
     "metadata": {},
     "output_type": "display_data"
    }
   ],
   "source": [
    "fig = plt.figure(figsize=(11,7))\n",
    "monthly_environmental_data['rainfall'].rainfall.mean(dim = ['latitude', 'longitude']).plot()"
   ]
  },
  {
   "cell_type": "code",
   "execution_count": 111,
   "metadata": {
    "ExecuteTime": {
     "end_time": "2018-08-01T04:05:59.128662Z",
     "start_time": "2018-08-01T04:05:59.125893Z"
    }
   },
   "outputs": [],
   "source": [
    "# fig = plt.figure(figsize=(11,7))\n",
    "# rainfall_masked.rainfall.mean(dim = ['latitude', 'longitude']).plot()"
   ]
  },
  {
   "cell_type": "code",
   "execution_count": 112,
   "metadata": {
    "ExecuteTime": {
     "end_time": "2018-08-01T04:05:59.142433Z",
     "start_time": "2018-08-01T04:05:59.130864Z"
    },
    "scrolled": true
   },
   "outputs": [],
   "source": [
    "# fig = plt.figure(figsize=(11,7))\n",
    "# pet_masked.pet.mean(dim = ['latitude', 'longitude']).plot()"
   ]
  },
  {
   "cell_type": "code",
   "execution_count": 113,
   "metadata": {
    "ExecuteTime": {
     "end_time": "2018-08-01T04:05:59.499838Z",
     "start_time": "2018-08-01T04:05:59.145232Z"
    },
    "scrolled": true
   },
   "outputs": [
    {
     "data": {
      "text/plain": [
       "[<matplotlib.lines.Line2D at 0x7f3b8d476e80>]"
      ]
     },
     "execution_count": 113,
     "metadata": {},
     "output_type": "execute_result"
    },
    {
     "data": {
      "image/png": "[encoded data removed]",
      "text/plain": [
       "<Figure size 792x504 with 1 Axes>"
      ]
     },
     "metadata": {},
     "output_type": "display_data"
    }
   ],
   "source": [
    "fig = plt.figure(figsize=(11,7))\n",
    "monthly_environmental_data['pet'].pet.mean(dim = ['latitude', 'longitude']).plot()"
   ]
  },
  {
   "cell_type": "code",
   "execution_count": 133,
   "metadata": {
    "ExecuteTime": {
     "end_time": "2018-08-01T04:18:28.408575Z",
     "start_time": "2018-08-01T04:18:28.179515Z"
    }
   },
   "outputs": [
    {
     "data": {
      "text/plain": [
       "<matplotlib.image.AxesImage at 0x7f3b77862b70>"
      ]
     },
     "execution_count": 133,
     "metadata": {},
     "output_type": "execute_result"
    },
    {
     "data": {
      "image/png": "[encoded data removed]",
      "text/plain": [
       "<Figure size 432x288 with 1 Axes>"
      ]
     },
     "metadata": {},
     "output_type": "display_data"
    }
   ],
   "source": [
    "plt.imshow(monthly_environmental_data['rainfall'].rainfall.isel(time=3))"
   ]
  },
  {
   "cell_type": "markdown",
   "metadata": {},
   "source": [
    "### Save out input data as NETCDF"
   ]
  },
  {
   "cell_type": "code",
   "execution_count": 98,
   "metadata": {
    "ExecuteTime": {
     "end_time": "2018-08-01T03:58:25.723893Z",
     "start_time": "2018-08-01T03:58:25.707460Z"
    },
    "scrolled": false
   },
   "outputs": [
    {
     "name": "stdout",
     "output_type": "stream",
     "text": [
      "RuntimeError: Storage Unit already exists: /g/data/u46/users/sc0554/climate_indices_input/rainfall_kampongchhnang_1998_2016_monthly.nc\n",
      "RuntimeError: Storage Unit already exists: /g/data/u46/users/sc0554/climate_indices_input/pet_kampongchhnang_1998_2016_monthly.nc\n"
     ]
    }
   ],
   "source": [
    "for key, data in monthly_environmental_data.items():\n",
    "    write_your_netcdf(data = data, dataset_name = key, filename = '/g/data/u46/users/sc0554/climate_indices_input/{0}_kampongchhnang_1998_2016_monthly.nc'.format(key), crs = data.crs)\n",
    "#SPEI_input_grouped.to_netcdf(path = '/g/data/u46/users/sc0554/climate_indices_input/rainfalltest98_16.nc', format = 'NETCDF4')"
   ]
  },
  {
   "cell_type": "markdown",
   "metadata": {},
   "source": [
    "### Calculate SPEI using climate_indices module"
   ]
  },
  {
   "cell_type": "code",
   "execution_count": 99,
   "metadata": {
    "ExecuteTime": {
     "end_time": "2018-08-01T03:58:33.792836Z",
     "start_time": "2018-08-01T03:58:30.122674Z"
    },
    "scrolled": false
   },
   "outputs": [
    {
     "name": "stdout",
     "output_type": "stream",
     "text": [
      "Python 3.6.5 :: Anaconda, Inc.\n",
      "Python 3.6.5\n",
      "1.14.5\n",
      "2018-08-01  13:58:33 INFO Start time:    2018-08-01 13:58:33.220000\n",
      "2018-08-01  13:58:33 INFO Computing 3-month SPEI for latitude index 0\n",
      "2018-08-01  13:58:33 INFO End time:      2018-08-01 13:58:33.516857\n",
      "2018-08-01  13:58:33 INFO Elapsed time:  0:00:00.296857\n"
     ]
    }
   ],
   "source": [
    "! /g/data/u46/users/sc0554/call_climate_indices.sh --index spei --periodicity monthly --netcdf_precip /g/data/u46/users/sc0554/climate_indices_input/rainfall_kampongchhnang_1998_2016_monthly.nc --var_name_precip rainfall --netcdf_pet /g/data/u46/users/sc0554/climate_indices_input/pet_kampongchhnang_1998_2016_monthly.nc --output_file_base /g/data/u46/users/sc0554/climate_indices_output/kampongchhnang_1998_2016 --var_name_pet pet --scales 3 --calibration_start_year 1998 --calibration_end_year 2016\n",
    "#! /g/data/u46/users/sc0554/call_climate_indices.sh --index spei --periodicity monthly --netcdf_precip /g/data/u46/users/sc0554/climate_indices_input/rainfall_cambodia_1998_2016_monthly_masked.nc --var_name_precip rainfall --netcdf_pet /g/data/u46/users/sc0554/climate_indices_input/pet_cambodia_1998_2016_monthly_masked.nc --output_file_base /g/data/u46/users/sc0554/climate_indices_output/cambodia_masked --var_name_pet pet --scales 12 --calibration_start_year 1998 --calibration_end_year 2016"
   ]
  },
  {
   "cell_type": "markdown",
   "metadata": {},
   "source": [
    "# Read in SPEI data"
   ]
  },
  {
   "cell_type": "markdown",
   "metadata": {},
   "source": [
    "**Read in modelled drought index data**"
   ]
  },
  {
   "cell_type": "code",
   "execution_count": 100,
   "metadata": {
    "ExecuteTime": {
     "end_time": "2018-08-01T03:58:37.660007Z",
     "start_time": "2018-08-01T03:58:37.621504Z"
    }
   },
   "outputs": [],
   "source": [
    "cambodia_spei_03 = xr.open_dataset('/g/data/u46/users/sc0554/climate_indices_output/kampongchhnang_1998_2016_spei_gamma_03.nc')\n",
    "cambodia_spei_03 = cambodia_spei_03.transpose('time', 'latitude', 'longitude')\n",
    "# cambodia_spei_06 = xr.open_dataset('/g/data/u46/users/sc0554/climate_indices_output/cambodia_spei_gamma_06.nc')\n",
    "# cambodia_spei_06 = cambodia_spei_06.transpose('time', 'latitude', 'longitude')\n",
    "# cambodia_spei_12 = xr.open_dataset('/g/data/u46/users/sc0554/climate_indices_output/cambodia_masked_spei_gamma_12.nc')\n",
    "# cambodia_spei_12 = cambodia_spei_12.transpose('time', 'latitude', 'longitude')"
   ]
  },
  {
   "cell_type": "code",
   "execution_count": 101,
   "metadata": {
    "ExecuteTime": {
     "end_time": "2018-08-01T03:58:38.001462Z",
     "start_time": "2018-08-01T03:58:37.980080Z"
    },
    "scrolled": true
   },
   "outputs": [
    {
     "name": "stderr",
     "output_type": "stream",
     "text": [
      "/g/data/v10/public/modules/dea-env/20180629/lib/python3.6/site-packages/dask/utils.py:1010: UserWarning: Deprecated, see dask.base.get_scheduler instead\n",
      "  warnings.warn(\"Deprecated, see dask.base.get_scheduler instead\")\n"
     ]
    }
   ],
   "source": [
    "# Save transformed SPEI xarray as netcdf for use with ncview\n",
    "cambodia_spei_03.to_netcdf(path = '/g/data/u46/users/sc0554/climate_indices_output/cambodia_monthly_spei_gamma_03_transform.nc', format = 'NETCDF4')\n",
    "# cambodia_spei_12.to_netcdf(path = '/g/data/u46/users/sc0554/climate_indices_output/cambodia_monthly_spei_gamma_12_transform.nc', format = 'NETCDF4')"
   ]
  },
  {
   "cell_type": "code",
   "execution_count": 103,
   "metadata": {
    "ExecuteTime": {
     "end_time": "2018-08-01T03:58:56.446713Z",
     "start_time": "2018-08-01T03:58:56.426923Z"
    },
    "scrolled": true
   },
   "outputs": [
    {
     "data": {
      "text/plain": [
       "<xarray.DataArray 'spei_gamma_03' (time: 228, latitude: 1, longitude: 1)>\n",
       "array([[[     nan]],\n",
       "\n",
       "       [[     nan]],\n",
       "\n",
       "       ...,\n",
       "\n",
       "       [[2.435229]],\n",
       "\n",
       "       [[2.834616]]], dtype=float32)\n",
       "Coordinates:\n",
       "  * time       (time) datetime64[ns] 1998-01-31 1998-02-28 1998-03-31 ...\n",
       "  * latitude   (latitude) float64 12.25\n",
       "  * longitude  (longitude) float64 104.8\n",
       "Attributes:\n",
       "    valid_min:  -3.09\n",
       "    valid_max:  3.09\n",
       "    long_name:  Standardized Precipitation Evapotranspiration Index (Gamma di..."
      ]
     },
     "execution_count": 103,
     "metadata": {},
     "output_type": "execute_result"
    }
   ],
   "source": [
    "cambodia_spei_03.spei_gamma_03"
   ]
  },
  {
   "cell_type": "markdown",
   "metadata": {},
   "source": [
    "# Create geomedians based on SPEI quartiles"
   ]
  },
  {
   "cell_type": "markdown",
   "metadata": {},
   "source": [
    "** Calculate quantiles **"
   ]
  },
  {
   "cell_type": "code",
   "execution_count": null,
   "metadata": {
    "ExecuteTime": {
     "end_time": "2018-08-01T01:59:41.836719Z",
     "start_time": "2018-08-01T01:56:53.271Z"
    }
   },
   "outputs": [],
   "source": [
    "cambodia_spei_03.spei_gamma_03"
   ]
  },
  {
   "cell_type": "code",
   "execution_count": null,
   "metadata": {
    "ExecuteTime": {
     "end_time": "2018-08-01T01:59:41.838061Z",
     "start_time": "2018-08-01T01:56:53.739Z"
    },
    "scrolled": true
   },
   "outputs": [],
   "source": [
    "spei_quantiles = cambodia_spei_03.spei_gamma_03.quantile([0,0.25, 0.5, 0.75, 1], dim = ['time', 'latitude', 'longitude'], keep_attrs = True, )\n",
    "spei_quantiles = spei_quantiles.values.tolist()\n",
    "# spei_quantiles = [item for sublist in spei_quantiles for item in sublist]\n",
    "# spei_quantiles = [item for sublist in spei_quantiles for item in sublist]\n",
    "print(spei_quantiles)"
   ]
  },
  {
   "cell_type": "code",
   "execution_count": null,
   "metadata": {
    "ExecuteTime": {
     "end_time": "2018-08-01T01:59:41.839370Z",
     "start_time": "2018-08-01T01:56:54.305Z"
    }
   },
   "outputs": [],
   "source": [
    "spei_q1 = cambodia_spei_03.where((cambodia_spei_03.spei_gamma_03 < spei_quantiles[1]) &\n",
    "                                 (cambodia_spei_03.spei_gamma_03 >= spei_quantiles[0]), drop=True)\n",
    "spei_q2 = cambodia_spei_03.where((cambodia_spei_03.spei_gamma_03 < spei_quantiles[2]) &\n",
    "                                 (cambodia_spei_03.spei_gamma_03 >= spei_quantiles[1]), drop=True)\n",
    "spei_q3 = cambodia_spei_03.where((cambodia_spei_03.spei_gamma_03 < spei_quantiles[3]) &\n",
    "                                 (cambodia_spei_03.spei_gamma_03 >= spei_quantiles[2]), drop=True)\n",
    "spei_q4 = cambodia_spei_03.where((cambodia_spei_03.spei_gamma_03 <= spei_quantiles[4]) &\n",
    "                                 (cambodia_spei_03.spei_gamma_03 >= spei_quantiles[3]), drop=True)"
   ]
  },
  {
   "cell_type": "markdown",
   "metadata": {},
   "source": [
    "## Query datacube for Landsat data"
   ]
  },
  {
   "cell_type": "code",
   "execution_count": 153,
   "metadata": {
    "ExecuteTime": {
     "end_time": "2018-08-01T04:32:44.506594Z",
     "start_time": "2018-08-01T04:32:44.491467Z"
    }
   },
   "outputs": [],
   "source": [
    "def LoadAreaOfInterest(study_area):\n",
    "    '''\n",
    "    Firstly, LoadAreaOfInterest checks whether a pickle, that contains an xarray of nbar data, \n",
    "    is saved in the output folder. If there is no pickle, the function searches the \n",
    "    \"AreaOfInterest\" function to gain lat/lon information for that particular study_area. If \n",
    "    there is no lat/lon coordinates in the AreaOfInterest function, then an error is returned. \n",
    "    If the coordinates are found, nbar data is loaded and masked. Finally data from all \n",
    "    sensors are concatenated together into one xarray.\n",
    "   \n",
    "    Last modified: March 2018\n",
    "    \n",
    "    Author: Erin Telfer\n",
    "    \n",
    "    Inputs: \n",
    "    study_area - the name of the study area\n",
    "    '''\n",
    "    \n",
    "    study_area=study_area.lower().replace(\" \",\"\")\n",
    "    pickle_location=('{0}{1}.pkl'.format(output_folder,study_area))\n",
    "    try:\n",
    "        nbar_clean= pickle.load( open(pickle_location, \"rb\" ) )\n",
    "        print(\"Nbar pickle has been found on file\")\n",
    "        print(\"Nbar pickle has been loaded\")\n",
    "        return(nbar_clean)\n",
    "    \n",
    "    except FileNotFoundError:\n",
    "        try:\n",
    "            print(\"No {0}.pkl file found on file\".format(study_area))\n",
    "            print(\"Location information from the AreaOfInterest function has been read\")\n",
    "\n",
    "            lat_min, lat_max, lon_min, lon_max = AreaOfInterest(study_area)\n",
    "            \n",
    "            print(\"Loading Cambodia Cube data\")\n",
    "            sensor_clean = {}\n",
    "\n",
    "            #define wavelengths/bands of interest\n",
    "            bands_of_interest = ['green',\n",
    "                                 'red', \n",
    "                                 'nir',\n",
    "                                 'pixel_qa',\n",
    "                                 #'blue',\n",
    "                                 #'swir2',\n",
    "                                 #'swir1'\n",
    "                                 ]\n",
    "\n",
    "            #query is created\n",
    "            query = {'time': (start_of_epoch, end_of_epoch),}\n",
    "            query['x'] = (lon_min, lon_max)\n",
    "            query['y'] = (lat_max, lat_min)\n",
    "            query['crs'] = 'EPSG:4326'\n",
    "\n",
    "            for sensor in sensors: #loop through specified\n",
    "                sensor_nbar = cdc.load(product= sensor+'_usgs_sr_scene',\n",
    "                                       measurements = bands_of_interest,group_by='solar_day',\n",
    "                                       **query) #load nbar , dask_chunks = {'x':200, 'y':200}\n",
    "                #retrieve the projection information before masking/sorting\n",
    "                crs = sensor_nbar.crs\n",
    "                crswkt = sensor_nbar.crs.wkt\n",
    "                affine = sensor_nbar.affine\n",
    "                #assign pq data variable\n",
    "                sensor_pq= sensor_nbar.pixel_qa\n",
    "                #create and use quality and cloud masks\n",
    "                mask_components = {'cloud_shadow': 'no_cloud_shadow',\n",
    "                           'cloud': 'no_cloud',}\n",
    "                quality_mask = masking.make_mask(sensor_pq, **mask_components)\n",
    "                good_data = quality_mask.loc[start_of_epoch:end_of_epoch]\n",
    "                sensor_nbar2 = sensor_nbar.where(good_data)\n",
    "                del (sensor_nbar)\n",
    "\n",
    "                #calculate the percentage cloud free for each scene\n",
    "                cloud_free = masking.make_mask(sensor_pq,\n",
    "                                               cloud_shadow= 'no_cloud_shadow',cloud= 'no_cloud')\n",
    "                mostly_cloud_free = cloud_free.mean(dim=('x','y')) >= cloud_free_threshold\n",
    "                \n",
    "                del(cloud_free)\n",
    "                #discard data that does not meet the cloud_free_threshold\n",
    "                mostly_good = sensor_nbar2.where(mostly_cloud_free).dropna(dim='time', \n",
    "                                                                           how='all')\n",
    "                nodata_mask=mostly_good.mean(dim=('x','y')) >= -9998\n",
    "                mostly_good=mostly_good.drop('pixel_qa')\n",
    "                mostly_good=mostly_good.where(nodata_mask).dropna(dim='time',\n",
    "                                                               how='all') \n",
    "                del(sensor_nbar2)\n",
    "                #assign masked data to array\n",
    "                sensor_clean[sensor] = mostly_good\n",
    "\n",
    "                print('loaded %s' % sensor) \n",
    "            print('ls load complete')\n",
    "\n",
    "\n",
    "            #data from different sensors are joined together and sorted so that observations are sorted by time rather than sensor\n",
    "            nbar_clean = xr.concat(sensor_clean.values(), 'time')\n",
    "            nbar_clean = nbar_clean.sortby('time')\n",
    "            nbar_clean.attrs['crs'] = crs\n",
    "            nbar_clean.attrs['affin|e'] = affine          \n",
    "                    \n",
    "            print(\"saving nbar data as {0}.pkl\".format(study_area))\n",
    "\n",
    "            pickle.dump(nbar_clean, open(pickle_location,\"wb\")) #save nbar as pickle\n",
    "            return nbar_clean\n",
    "        except TypeError:\n",
    "            print(\"please add lat/lon details to AreaOfInterest function\")"
   ]
  },
  {
   "cell_type": "code",
   "execution_count": 154,
   "metadata": {
    "ExecuteTime": {
     "end_time": "2018-08-01T04:32:45.736721Z",
     "start_time": "2018-08-01T04:32:45.733176Z"
    }
   },
   "outputs": [],
   "source": [
    "#define Landsat sensors of interest\n",
    "sensors = ['ls8']\n",
    "\n",
    "cloud_free_threshold = 0.10 \n",
    "\n",
    "#specify output folder\n",
    "output_folder= '/g/data/u46/users/sc0554/spei_geomedians/'"
   ]
  },
  {
   "cell_type": "code",
   "execution_count": 155,
   "metadata": {
    "ExecuteTime": {
     "end_time": "2018-08-01T04:33:40.124964Z",
     "start_time": "2018-08-01T04:32:47.190745Z"
    },
    "scrolled": false
   },
   "outputs": [
    {
     "name": "stdout",
     "output_type": "stream",
     "text": [
      "No kampongchhnang.pkl file found on file\n",
      "Location information from the AreaOfInterest function has been read\n",
      "Loading Cambodia Cube data\n",
      "loaded ls8\n",
      "ls load complete\n",
      "saving nbar data as kampongchhnang.pkl\n"
     ]
    }
   ],
   "source": [
    "nbar_clean=LoadAreaOfInterest(study_area)"
   ]
  },
  {
   "cell_type": "code",
   "execution_count": 54,
   "metadata": {
    "ExecuteTime": {
     "end_time": "2018-08-01T03:07:05.971072Z",
     "start_time": "2018-08-01T03:07:05.934471Z"
    }
   },
   "outputs": [
    {
     "data": {
      "text/plain": [
       "<xarray.Dataset>\n",
       "Dimensions:  (time: 219, x: 546, y: 554)\n",
       "Coordinates:\n",
       "  * y        (y) float64 1.354e+06 1.354e+06 1.354e+06 1.354e+06 1.354e+06 ...\n",
       "  * x        (x) float64 4.728e+05 4.728e+05 4.728e+05 4.729e+05 4.729e+05 ...\n",
       "  * time     (time) datetime64[ns] 1998-01-16T02:55:07.452056 ...\n",
       "Data variables:\n",
       "    green    (time, y, x) float64 845.0 845.0 845.0 799.0 845.0 891.0 845.0 ...\n",
       "    red      (time, y, x) float64 676.0 713.0 788.0 713.0 788.0 788.0 825.0 ...\n",
       "    nir      (time, y, x) float64 3.653e+03 3.302e+03 3.169e+03 3.565e+03 ...\n",
       "Attributes:\n",
       "    crs:      PROJCS[\"WGS 84\",GEOGCS[\"WGS 84\",DATUM[\"WGS_1984\",SPHEROID[\"WGS ...\n",
       "    affin|e:  | 30.00, 0.00, 472770.00|\\n| 0.00,-30.00, 1354230.00|\\n| 0.00, ..."
      ]
     },
     "execution_count": 54,
     "metadata": {},
     "output_type": "execute_result"
    }
   ],
   "source": [
    "nbar_clean"
   ]
  },
  {
   "cell_type": "code",
   "execution_count": 156,
   "metadata": {
    "ExecuteTime": {
     "end_time": "2018-08-01T04:34:46.775623Z",
     "start_time": "2018-08-01T04:34:46.429579Z"
    }
   },
   "outputs": [
    {
     "data": {
      "text/plain": [
       "<matplotlib.image.AxesImage at 0x7f3b6f20bd30>"
      ]
     },
     "execution_count": 156,
     "metadata": {},
     "output_type": "execute_result"
    },
    {
     "data": {
      "image/png": "[encoded data removed]",
      "text/plain": [
       "<Figure size 432x288 with 1 Axes>"
      ]
     },
     "metadata": {},
     "output_type": "display_data"
    }
   ],
   "source": [
    "plt.imshow(nbar_clean.green.isel(time=1))"
   ]
  },
  {
   "cell_type": "markdown",
   "metadata": {
    "heading_collapsed": true
   },
   "source": [
    "##  Select Landsat data using SPEI Quartile dates"
   ]
  },
  {
   "cell_type": "markdown",
   "metadata": {
    "hidden": true
   },
   "source": [
    "Select every landsat observation within a list of months"
   ]
  },
  {
   "cell_type": "code",
   "execution_count": null,
   "metadata": {
    "ExecuteTime": {
     "end_time": "2018-07-31T06:47:29.904361Z",
     "start_time": "2018-07-31T06:47:29.899018Z"
    },
    "hidden": true
   },
   "outputs": [],
   "source": [
    "months = nbar_clean.time.astype('datetime64[M]')"
   ]
  },
  {
   "cell_type": "code",
   "execution_count": null,
   "metadata": {
    "ExecuteTime": {
     "end_time": "2018-07-31T06:49:10.360208Z",
     "start_time": "2018-07-31T06:49:09.866246Z"
    },
    "hidden": true,
    "scrolled": true
   },
   "outputs": [],
   "source": [
    "spei_nbar_q1 = []\n",
    "spei_nbar_q2 = []\n",
    "spei_nbar_q3 = []\n",
    "spei_nbar_q4 = []\n",
    "\n",
    "for index, ds in nbar_clean.groupby(months):\n",
    "    if index in spei_q1.time.values.astype('datetime64[M]'):\n",
    "        spei_nbar_q1.append(ds)\n",
    "    if index in spei_q2.time.values.astype('datetime64[M]'):\n",
    "        spei_nbar_q2.append(ds)\n",
    "    if index in spei_q3.time.values.astype('datetime64[M]'):\n",
    "        spei_nbar_q3.append(ds)\n",
    "    if index in spei_q4.time.values.astype('datetime64[M]'):\n",
    "        spei_nbar_q4.append(ds)"
   ]
  },
  {
   "cell_type": "code",
   "execution_count": null,
   "metadata": {
    "ExecuteTime": {
     "end_time": "2018-07-31T06:51:51.474829Z",
     "start_time": "2018-07-31T06:50:00.532771Z"
    },
    "hidden": true,
    "scrolled": true
   },
   "outputs": [],
   "source": [
    "spei_nbar_q1 = xr.merge(spei_nbar_q1)\n",
    "spei_nbar_q2 = xr.merge(spei_nbar_q2)\n",
    "spei_nbar_q3 = xr.merge(spei_nbar_q3)\n",
    "spei_nbar_q4 = xr.merge(spei_nbar_q4)"
   ]
  },
  {
   "cell_type": "code",
   "execution_count": null,
   "metadata": {
    "ExecuteTime": {
     "end_time": "2018-07-31T06:58:13.999356Z",
     "start_time": "2018-07-31T06:55:00.253326Z"
    },
    "hidden": true
   },
   "outputs": [],
   "source": [
    "from datacube_stats.statistics import GeoMedian\n",
    "spei_nbar_q1_geomedian = GeoMedian().compute(spei_nbar_q1)\n",
    "spei_nbar_q2_geomedian = GeoMedian().compute(spei_nbar_q2)\n",
    "spei_nbar_q3_geomedian = GeoMedian().compute(spei_nbar_q3)\n",
    "spei_nbar_q4_geomedian = GeoMedian().compute(spei_nbar_q4)\n",
    "\n"
   ]
  },
  {
   "cell_type": "code",
   "execution_count": null,
   "metadata": {
    "ExecuteTime": {
     "end_time": "2018-07-31T07:09:26.119874Z",
     "start_time": "2018-07-31T07:09:26.108021Z"
    },
    "hidden": true
   },
   "outputs": [],
   "source": [
    "#Define function to create a RGB composite images of all scenes within an array as subplots\n",
    "def three_band_image(ds, bands,title,figsize = [10,10]):\n",
    "    '''\n",
    "    threeBandImage takes three spectral bands and plots them on the RGB bands of an \n",
    "    image. \n",
    "    \n",
    "    Last modified: March 2018\n",
    "    Author: Mike Barnes\n",
    "    Modified by: Claire Krause and Erin Telfer\n",
    "    Inputs: \n",
    "    ds -   Dataset containing the bands to be plotted\n",
    "    bands - list of three bands to be plotted\n",
    "    \n",
    "    Optional:\n",
    "    time - Index value of the time dimension of ds to be plotted\n",
    "    figsize - dimensions for the output figure\n",
    "    '''\n",
    "    rgb = ds.to_array(dim='color').sel(color=bands).transpose('y', 'x', 'color')\n",
    "    fake_saturation = 6000.0\n",
    "    rgb = rgb.astype('double')\n",
    "    clipped_visible = rgb.where(rgb<fake_saturation).fillna(fake_saturation)\n",
    "    print(type(clipped_visible))\n",
    "    max_val = clipped_visible.max(['y', 'x'])\n",
    "    scaled = (clipped_visible / max_val)\n",
    "\n",
    "    fig = plt.figure(figsize = figsize)\n",
    "    plt.title(title, fontsize=16)\n",
    "    plt.imshow(scaled)"
   ]
  },
  {
   "cell_type": "code",
   "execution_count": null,
   "metadata": {
    "ExecuteTime": {
     "end_time": "2018-07-31T07:15:53.106568Z",
     "start_time": "2018-07-31T07:15:52.385885Z"
    },
    "hidden": true,
    "scrolled": true
   },
   "outputs": [],
   "source": [
    "three_band_image(spei_nbar_q4_geomedian,['red','nir', 'green'], title = 'bleh')"
   ]
  },
  {
   "cell_type": "code",
   "execution_count": null,
   "metadata": {
    "ExecuteTime": {
     "end_time": "2018-07-31T07:15:36.608480Z",
     "start_time": "2018-07-31T07:15:36.541389Z"
    },
    "hidden": true
   },
   "outputs": [],
   "source": [
    "plt.subplot(141)\n",
    "three_band_image(spei_nbar_q1_geomedian,['red','nir', 'green'], title = 'bleh')\n",
    "plt.subplot(142)\n",
    "three_band_image(spei_nbar_q2_geomedian,['red','nir', 'green'], title = 'bleh')\n",
    "plt.subplot(143)\n",
    "three_band_image(spei_nbar_q3_geomedian,['red','nir', 'green'], title = 'bleh')\n",
    "plt.subplot(144)\n",
    "three_band_image(spei_nbar_q4_geomedian,['red','nir', 'green'], title = 'bleh')\n"
   ]
  },
  {
   "cell_type": "code",
   "execution_count": null,
   "metadata": {
    "ExecuteTime": {
     "end_time": "2018-07-31T07:11:53.939181Z",
     "start_time": "2018-07-31T07:11:53.321727Z"
    },
    "hidden": true
   },
   "outputs": [],
   "source": [
    "fig, axes = plt.subplots(1,4, figsize = (10,10))\n",
    "axes[0].three_band_image(spei_nbar_q1_geomedian,['red','nir', 'green'], title = 'bleh')\n",
    "axes[1].imshow(spei_nbar_q2_geomedian.nir)\n",
    "axes[2].imshow(spei_nbar_q3_geomedian.nir)\n",
    "axes[3].imshow(spei_nbar_q4_geomedian.nir)"
   ]
  },
  {
   "cell_type": "markdown",
   "metadata": {
    "heading_collapsed": true
   },
   "source": [
    "# Plot and animate results"
   ]
  },
  {
   "cell_type": "markdown",
   "metadata": {
    "hidden": true
   },
   "source": [
    "**Resample to Seasonal mean**"
   ]
  },
  {
   "cell_type": "code",
   "execution_count": null,
   "metadata": {
    "ExecuteTime": {
     "end_time": "2018-07-23T00:55:39.148741Z",
     "start_time": "2018-07-23T00:48:46.723Z"
    },
    "hidden": true
   },
   "outputs": [],
   "source": [
    "# cambodia_spei_03_seasonal = cambodia_spei_03.resample(time=\"Q-DEC\").mean()"
   ]
  },
  {
   "cell_type": "markdown",
   "metadata": {
    "hidden": true
   },
   "source": [
    "**Plot each image at each time step**"
   ]
  },
  {
   "cell_type": "code",
   "execution_count": null,
   "metadata": {
    "ExecuteTime": {
     "end_time": "2018-07-23T02:07:18.778618Z",
     "start_time": "2018-07-23T02:06:19.799578Z"
    },
    "hidden": true
   },
   "outputs": [],
   "source": [
    "fig, axes = plt.subplots(100, 3, sharex='col', sharey='row', figsize = (12, 500))\n",
    "for i in range(100):\n",
    "    spei_plot = axes[i][0].imshow(cambodia_spei_03.spei_gamma_03.isel(time=i).values)\n",
    "    plt.colorbar(spei_plot)\n",
    "    axes[i][1].imshow(monthly_environmental_data['rainfall'].rainfall.isel(time=i).values)\n",
    "    axes[i][2].imshow(monthly_environmental_data['pet'].pet.isel(time=i).values)\n",
    "plt.tight_layout()\n",
    "plt.show()"
   ]
  },
  {
   "cell_type": "code",
   "execution_count": null,
   "metadata": {
    "ExecuteTime": {
     "end_time": "2018-07-19T04:02:34.984536Z",
     "start_time": "2018-07-19T04:02:22.271538Z"
    },
    "hidden": true,
    "scrolled": false
   },
   "outputs": [],
   "source": [
    "# spei_03_seasonal_plot = cambodia_spei_03_seasonal.spei_gamma_03.plot(x='longitude', y = 'latitude', col='time', col_wrap=3)\n",
    "# spei_06_seasonal_plot = cambodia_spei_06_seasonal.spei_gamma_06.plot(x='longitude', y = 'latitude', col='time', col_wrap=3)\n",
    "# spei_12_seasonal_plot = cambodia_spei_12_seasonal.spei_gamma_12.plot(x='longitude', y = 'latitude', col='time', col_wrap=3)"
   ]
  },
  {
   "cell_type": "markdown",
   "metadata": {
    "hidden": true
   },
   "source": [
    "**Mean (spatial) SPEI plotting**\n"
   ]
  },
  {
   "cell_type": "code",
   "execution_count": null,
   "metadata": {
    "ExecuteTime": {
     "end_time": "2018-07-26T00:16:36.244979Z",
     "start_time": "2018-07-26T00:16:35.835001Z"
    },
    "hidden": true,
    "scrolled": true
   },
   "outputs": [],
   "source": [
    "#Comparison plot of mean SPEI for Cambodia over time at monthly interval for 3 different SPEI time scales\n",
    "fig, ax1 = plt.subplots(figsize=(13,5))\n",
    "cambodia_spei_03.spei_gamma_03.mean(dim = ['latitude', 'longitude']).plot()\n",
    "#ambodia_spei_06.spei_gamma_06.mean(dim = ['latitude', 'longitude']).plot()\n",
    "# cambodia_spei_12.spei_gamma_12.mean(dim = ['latitude', 'longitude']).plot()\n",
    "plt.xlabel('Years')\n",
    "plt.ylabel('SPEI - 3 month')\n",
    "#plt.legend()\n",
    "plt.title('Standardised Precipitation Evapotransipiration Index (SPEI) for Cambodia \\n Decreasing SPEI values = increasing drought intensity')\n",
    "plt.grid()\n",
    "ax1.set_ylim(-2.5, 2.5)\n",
    "ax1.axhline(y=0, color ='k', linestyle = 'dotted')\n",
    "plt.tight_layout()\n",
    "# fig.savefig('SPEI_12_masked.jpg')"
   ]
  },
  {
   "cell_type": "code",
   "execution_count": null,
   "metadata": {
    "ExecuteTime": {
     "end_time": "2018-07-19T04:02:34.987678Z",
     "start_time": "2018-07-19T04:01:39.253Z"
    },
    "hidden": true,
    "scrolled": false
   },
   "outputs": [],
   "source": [
    "#Comparison plot of mean SPEI for Cambodia over time at seasonal interval \n",
    "# fig = plt.figure(figsize =(11, 7))\n",
    "# plot1, = cambodia_spei_03.spei_gamma_03.mean(dim = ['latitude', 'longitude']).plot()\n",
    "# plot2, = cambodia_spei_03_seasonal.spei_gamma_03.mean(dim = ['latitude', 'longitude']).plot()\n",
    "# plt.legend((plot1, plot2), ('monthly', 'seasonal'))\n",
    "# plt.title('SPEI_03 seasonal vs monthly comparison')\n",
    "# plt.tight_layout()\n",
    "# fig.savefig('SPEI_03_monthly_seasonal_comparison.jpg')"
   ]
  },
  {
   "cell_type": "code",
   "execution_count": null,
   "metadata": {
    "ExecuteTime": {
     "end_time": "2018-07-26T00:16:46.997625Z",
     "start_time": "2018-07-26T00:16:46.094824Z"
    },
    "hidden": true,
    "scrolled": true
   },
   "outputs": [],
   "source": [
    "### Plot SPEI and input variables on the same axis\n",
    "\n",
    "def make_patch_spines_invisible(ax):\n",
    "    ax.set_frame_on(True)\n",
    "    ax.patch.set_visible(False)\n",
    "    for sp in ax.spines.values():\n",
    "        sp.set_visible(False)\n",
    "\n",
    "fig, ax1 = plt.subplots(figsize=(13,5))\n",
    "fig.subplots_adjust(right=0.75)\n",
    "\n",
    "speiplot, = ax1.plot(cambodia_spei_03.time, cambodia_spei_03.spei_gamma_03.mean(dim = ['latitude', 'longitude']), 'r-')\n",
    "ax1.set_xlabel('Year')\n",
    "# Make the y-axis label, ticks and tick labels match the line color.\n",
    "ax1.set_ylabel('SPEI - 03 month')\n",
    "\n",
    "ax2 = ax1.twinx()\n",
    "rainfallplot, = ax2.plot(cambodia_spei_03.time, monthly_environmental_data_masked['rainfall'].rainfall.mean(dim = ['latitude', 'longitude']), 'b-')\n",
    "ax2.set_ylabel('precipitation (monthly total / mm)')\n",
    "\n",
    "# ax3 = ax1.twinx()\n",
    "# petplot, = ax3.plot(cambodia_spei_03.time, monthly_environmental_data['pet'].pet.mean(dim = ['latitude', 'longitude']), 'g-')\n",
    "# ax3.set_ylabel('PET')\n",
    "# ax3.set_ylim(80,140)\n",
    "\n",
    "# ax3.spines[\"right\"].set_position((\"axes\", 1.2))\n",
    "# make_patch_spines_invisible(ax3)\n",
    "# ax3.spines[\"right\"].set_visible(True)\n",
    "\n",
    "ax1.yaxis.label.set_color(speiplot.get_color())\n",
    "ax2.yaxis.label.set_color(rainfallplot.get_color())\n",
    "# ax3.yaxis.label.set_color(petplot.get_color())\n",
    "\n",
    "tkw = dict(size=4, width=1.5)\n",
    "ax1.tick_params(axis='y', colors=speiplot.get_color(), **tkw)\n",
    "ax2.tick_params(axis='y', colors=rainfallplot.get_color(), **tkw)\n",
    "# ax3.tick_params(axis='y', colors=petplot.get_color(), **tkw)\n",
    "ax1.tick_params(axis='x', **tkw)\n",
    "\n",
    "ax1.set_ylim(-2.5, 2.5)\n",
    "plt.grid()\n",
    "#ax1.axhline(y=0, color ='k', linestyle = 'dotted')\n",
    "plt.title('Standardised Precipitation Evapotransipiration Index (SPEI) and precipitation for Cambodia \\n Decreasing SPEI values = Increasing drought intensity')\n",
    "fig.tight_layout()\n",
    "plt.show()\n",
    "\n",
    "fig.savefig('SPEI_03_rainfall_comparison_masked.jpg')"
   ]
  },
  {
   "cell_type": "markdown",
   "metadata": {
    "hidden": true
   },
   "source": [
    "**Mean (temporal) SPEI plotting**"
   ]
  },
  {
   "cell_type": "code",
   "execution_count": null,
   "metadata": {
    "ExecuteTime": {
     "end_time": "2018-07-26T00:17:29.244870Z",
     "start_time": "2018-07-26T00:17:27.271301Z"
    },
    "hidden": true
   },
   "outputs": [],
   "source": [
    "# from mpl_toolkits import axes_grid1\n",
    "\n",
    "### Plot of the mean SPEI value for a time slice over the spatial area\n",
    "#Shows the likelihood of particular areas to be drought effected\n",
    "cambodia_spatial_mean_1 = cambodia_spei_03.spei_gamma_03.loc[dict(\n",
    "    time=slice('2005-01-01', '2005-12-01'))].mean(dim = 'time')\n",
    "cambodia_spatial_mean_2 = cambodia_spei_03.spei_gamma_03.loc[dict(\n",
    "    time=slice('2009-01-01', '2009-12-01'))].mean(dim= 'time')\n",
    "\n",
    "mean_spei_spatial_comparison = [cambodia_spatial_mean_1, cambodia_spatial_mean_2]\n",
    "\n",
    "input_shapefiles = ['/g/data/u46/users/sc0554/shapefiles/cambodia_boundary/KHM_adm0.shp', '/g/data/u46/users/sc0554/shapefiles/provinces/provinces.shp']\n",
    "fig, axes = plt.subplots(nrows=1, ncols=2, figsize =(10,10))\n",
    "for dat, ax in zip(mean_spei_spatial_comparison, axes.flat):\n",
    "    extents = [float(dat.longitude.min()), \n",
    "           float(dat.longitude.max()), \n",
    "           float(dat.latitude.min()), \n",
    "           float(dat.latitude.max())]\n",
    "    im = ax.imshow(dat, vmin=-3, vmax=3, cmap = 'bwr_r', extent = extents)\n",
    "    for shapefile in input_shapefiles:\n",
    "            shapefile_overlay = gpd.read_file(shapefile)\n",
    "            shapefile_overlay.plot(ax = ax, linewidth=1, edgecolor='black', facecolor=\"#00000000\")\n",
    "\n",
    "\n",
    "axes[0].set_title(\"Mean SPEI for Cambodia in 1998\")\n",
    "axes[1].set_title(\"Mean SPEI for Cambodia in 2009\")\n",
    "axes[0].set_xticklabels([])\n",
    "axes[0].set_yticklabels([])\n",
    "axes[1].set_xticklabels([])\n",
    "axes[1].set_yticklabels([])\n",
    "axes[0].set_xticks([])\n",
    "axes[0].set_yticks([])\n",
    "axes[1].set_xticks([])\n",
    "axes[1].set_yticks([])\n",
    "fig.colorbar(im,  ax=axes.ravel().tolist(), orientation='horizontal', \n",
    "             label = 'SPEI \\n Lower values indicate greater intensity drought', pad = 0.002)#, shrink = 0.9)\n",
    "                  \n",
    "# add shapefile overlay\n",
    "        \n",
    "# shapefile_overlay.plot('ax':ax1, 'linewidth':2, 'edgecolor':'black', 'facecolor':\"#00000000\"}, \n",
    "#                                     **shapefile_overlay_kwargs)\n",
    "\n",
    "plt.show()\n",
    "\n",
    "# fig, (a1, a2) = plt.subplots(1, 2, figsize = (10,10))\n",
    "# spei_2005 = a1.imshow(cambodia_spei_2005, vmin = -3, vmax = 3, cmap = 'bwr_r')\n",
    "# spei_2009 = a2.imshow(cambodia_spei_2009, vmin = -3, vmax =3, cmap = 'bwr_r')\n",
    "\n",
    "# a1.set_title(\"Mean SPEI for Cambodia in 1998\")\n",
    "# a2.set_title(\"Mean SPEI for Cambodia in 2009\")\n"
   ]
  },
  {
   "cell_type": "code",
   "execution_count": null,
   "metadata": {
    "ExecuteTime": {
     "end_time": "2018-07-24T00:44:33.450821Z",
     "start_time": "2018-07-24T00:44:32.189205Z"
    },
    "hidden": true
   },
   "outputs": [],
   "source": [
    "# cambodia_spatial_mean_1 = cambodia_spei_03.spei_gamma_03.loc[dict(\n",
    "#     time=slice('2005-01-01', '2005-12-01'))].mean(dim = 'time')\n",
    "# cambodia_spatial_mean_1 = cambodia_spatial_mean_1.rename({'latitude':'y', 'longitude': 'x'})\n",
    "\n",
    "# input_shapefiles = ['/g/data/u46/users/sc0554/shapefiles/cambodia_boundary/KHM_adm0.shp', '/g/data/u46/users/sc0554/shapefiles/cambodia_dams_2008/khm_daml_gov_v2.shp']\n",
    "\n",
    "# fig, axes = plt.subplots(nrows=1, ncols=1, figsize =(5,5))\n",
    "# extents = [float(cambodia_spatial_mean_1.x.min()), float(cambodia_spatial_mean_1.x.max()), float(cambodia_spatial_mean_1.y.min()), float(cambodia_spatial_mean_1.y.max())]\n",
    "# axes.imshow(cambodia_spatial_mean_1, vmin=-2, vmax=2, cmap = 'bwr_r', extent = extents)\n",
    "\n",
    "# if input_shapefiles is not None:\n",
    "#     for shapefile in input_shapefiles:\n",
    "#         shapefile_overlay = gpd.read_file(shapefile)\n",
    "#         shapefile_overlay.plot(ax = axes, linewidth=2, edgecolor='black', facecolor=\"#00000000\")\n",
    "#         #shapefile_overlay.plot(shapefile_overlay_kwargs)\n",
    "\n",
    "\n",
    "# plt.show()"
   ]
  },
  {
   "cell_type": "markdown",
   "metadata": {
    "ExecuteTime": {
     "end_time": "2018-07-10T05:40:50.777904Z",
     "start_time": "2018-07-10T05:40:50.769174Z"
    },
    "hidden": true
   },
   "source": [
    "**Animation Creation Station**"
   ]
  },
  {
   "cell_type": "code",
   "execution_count": null,
   "metadata": {
    "ExecuteTime": {
     "end_time": "2018-07-31T00:59:33.467667Z",
     "start_time": "2018-07-31T00:59:27.228163Z"
    },
    "hidden": true,
    "scrolled": true
   },
   "outputs": [],
   "source": [
    "input_shapefiles = ['/g/data/u46/users/sc0554/shapefiles/cambodia_boundary/KHM_adm0.shp', '/g/data/u46/users/sc0554/shapefiles/cambodia_dams_2008/khm_daml_gov_v2.shp']\n",
    "animated_timeseries(ds = cambodia_spei_03.isel(time = [0, 1 ,2 ,3, 4, 5, 6, 7, 8, 9]), output_path='/g/data/u46/users/sc0554/climate_indices_output/spei_03_test.gif',\n",
    "                    bands = ['spei_gamma_03'], show_date= True, onebandplot_cbar=True, x_dim = 'longitude', y_dim = 'latitude', shapefile_path = input_shapefiles,\n",
    "                    onebandplot_kwargs={'cmap':'bwr_r', 'vmin':-3, 'vmax':3}, interval=250)\n"
   ]
  },
  {
   "cell_type": "code",
   "execution_count": null,
   "metadata": {
    "ExecuteTime": {
     "end_time": "2018-07-31T03:33:04.298539Z",
     "start_time": "2018-07-31T03:30:42.134333Z"
    },
    "hidden": true
   },
   "outputs": [],
   "source": [
    "# input_shapefiles = ['/g/data/u46/users/sc0554/shapefiles/provinces/provinces.shp']\n",
    "# cambodia_spei_03_xy = cambodia_spei_03.rename({'latitude':'y', 'longitude': 'x'})\n",
    "# rainfall_xy = monthly_environmental_data['rainfall'].rename({'latitude':'y', 'longitude': 'x'})\n",
    "\n",
    "\n",
    "animated_doubletimeseries(ds1 = cambodia_spei_03, ds2= monthly_environmental_data['rainfall'], output_path='/g/data/u46/users/sc0554/climate_indices_output/SPEI_rainfall.gif', \n",
    "                                bands1 = ['spei_gamma_03'], bands2 = ['rainfall'], shapefile_path1 = input_shapefiles, shapefile_path2 = input_shapefiles,\n",
    "                          title1=\"SPEI\", title2='Rainfall',\n",
    "                          onebandplot_kwargs1={'cmap':'bwr_r', 'vmin':-3, 'vmax':3}, onebandplot_kwargs2={'cmap':'Blues', 'vmin':0, 'vmax':400}, interval=350, x_dim1 = 'longitude', y_dim1 = 'latitude', x_dim2 = 'longitude', y_dim2 = 'latitude')"
   ]
  },
  {
   "cell_type": "code",
   "execution_count": null,
   "metadata": {
    "ExecuteTime": {
     "end_time": "2018-07-11T03:11:13.159438Z",
     "start_time": "2018-07-11T03:10:40.587675Z"
    },
    "hidden": true
   },
   "outputs": [],
   "source": [
    "DEAPlotting.animated_doubletimeseries(ds1 = cambodia_spei_03, ds2= cambodia_spei_12, output_path='/g/data/u46/users/sc0554/climate_indices_output/spei_03_12_compare.gif', \n",
    "                                bands1 = ['spei_gamma_03'], bands2 = ['spei_gamma_12'], title1=\"SPEI_03\", title2='SPEI_12', onebandplot_kwargs1={\n",
    "                                    'cmap':'bwr_r', 'vmin':-3, 'vmax':3}, onebandplot_kwargs2={'cmap':'bwr_r', 'vmin':-3, 'vmax':3}, interval=350)"
   ]
  },
  {
   "cell_type": "code",
   "execution_count": null,
   "metadata": {
    "ExecuteTime": {
     "end_time": "2018-07-09T07:29:22.108412Z",
     "start_time": "2018-07-09T07:29:20.008699Z"
    },
    "hidden": true
   },
   "outputs": [],
   "source": [
    "#cambodia_spei_monthly.to_netcdf(path = '/g/data/u46/users/sc0554/climate_indices_output/cambodia_monthly_spei_gamma_03_transform.nc', format = 'NETCDF4')"
   ]
  }
 ],
 "metadata": {
  "kernelspec": {
   "display_name": "Python 3",
   "language": "python",
   "name": "python3"
  },
  "language_info": {
   "codemirror_mode": {
    "name": "ipython",
    "version": 3
   },
   "file_extension": ".py",
   "mimetype": "text/x-python",
   "name": "python",
   "nbconvert_exporter": "python",
   "pygments_lexer": "ipython3",
   "version": "3.6.5"
  }
 },
 "nbformat": 4,
 "nbformat_minor": 2
}
