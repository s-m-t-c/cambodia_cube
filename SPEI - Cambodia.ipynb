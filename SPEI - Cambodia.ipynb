{
 "cells": [
  {
   "cell_type": "markdown",
   "metadata": {
    "heading_collapsed": true
   },
   "source": [
    "# Imports and Functions"
   ]
  },
  {
   "cell_type": "code",
   "execution_count": null,
   "metadata": {
    "ExecuteTime": {
     "end_time": "2018-09-28T03:16:39.112923Z",
     "start_time": "2018-09-28T03:16:39.081109Z"
    },
    "hidden": true
   },
   "outputs": [],
   "source": [
    "from datacube import Datacube\n",
    "cdc = Datacube(config='/g/data/u46/users/ext547/ewater/cambodia_cube/cambodia.conf', app = \"Polygon drill\")\n",
    "from datacube_stats.statistics import GeoMedian\n",
    "from datacube.storage import masking\n",
    "from datacube.storage.masking import mask_to_dict\n",
    "from datacube.storage.storage import write_dataset_to_netcdf\n",
    "from datacube.utils import geometry\n",
    "\n",
    "import fiona\n",
    "import rasterio.features\n",
    "import geopandas as gpd\n",
    "\n",
    "import numpy as np\n",
    "import xarray as xr\n",
    "import pickle\n",
    "\n",
    "import matplotlib.pyplot as plt\n",
    "import matplotlib.gridspec as gridspec\n",
    "import matplotlib.animation as animation\n",
    "import matplotlib.patheffects as PathEffects\n",
    "from mpl_toolkits.axes_grid1.inset_locator import inset_axes\n",
    "%matplotlib inline\n",
    "\n",
    "from skimage import exposure\n",
    "\n",
    "import calendar\n",
    "\n",
    "#Import external dea-notebooks functions using relative link to Scripts directory\n",
    "import sys\n",
    "import os.path\n",
    "sys.path.append('/g/data/u46/users/sc0554/dea-notebooks/10_Scripts/')\n",
    "import DEAPlotting"
   ]
  },
  {
   "cell_type": "code",
   "execution_count": null,
   "metadata": {
    "ExecuteTime": {
     "end_time": "2018-09-28T03:16:39.125536Z",
     "start_time": "2018-09-28T03:16:39.115834Z"
    },
    "hidden": true
   },
   "outputs": [],
   "source": [
    "#Define function to either read or load environmental data from Cambodia Cube\n",
    "def LoadAreaOfInterest(study_area):\n",
    "    '''\n",
    "    Firstly, LoadAreaOfInterest checks whether a pickle, that contains an xarray of nbar data, \n",
    "    is saved in the output folder. If there is no pickle, the function searches the \n",
    "    \"AreaOfInterest\" function to gain lat/lon information for that particular study_area. If \n",
    "    there is no lat/lon coordinates in the AreaOfInterest function, then an error is returned. \n",
    "    If the coordinates are found, nbar data is loaded and masked. Finally data from all \n",
    "    sensors are concatenated together into one xarray.\n",
    "   \n",
    "    Last modified: March 2018\n",
    "    \n",
    "    Author: Erin Telfer\n",
    "    \n",
    "    Inputs: \n",
    "    study_area - the name of the study area\n",
    "    '''\n",
    "    \n",
    "    study_area=study_area.lower().replace(\" \",\"\")\n",
    "    lat_min, lat_max, lon_min, lon_max = AreaOfInterest(study_area)\n",
    "            \n",
    "    print(\"Loading Cambodia Cube data\")\n",
    "    dataset = {}\n",
    "\n",
    "    #query is created\n",
    "    query = {'time': (start_of_epoch, end_of_epoch),}\n",
    "    query['x'] = (lon_min, lon_max)\n",
    "    query['y'] = (lat_max, lat_min)\n",
    "    query['crs'] = 'EPSG:4326'\n",
    "    query['resolution'] = (-0.5,0.5)\n",
    "\n",
    "    #print(query)\n",
    "\n",
    "    for item in list_of_products: #loop through specified\n",
    "        environmental_variable = cdc.load(product= item, group_by='solar_day', **query)\n",
    "        #retrieve the projection information\n",
    "        crs = environmental_variable.crs\n",
    "        crswkt = environmental_variable.crs.wkt\n",
    "        affine = environmental_variable.affine\n",
    "        dataset[item] = environmental_variable\n",
    "\n",
    "        print('loaded %s' % item) \n",
    "    print('ls load complete')\n",
    "\n",
    "\n",
    "    #data from different sensors are joined together and sorted so that observations are sorted by time rather than sensor\n",
    "    environmental_variable = xr.concat(dataset.values(), 'time')\n",
    "    environmental_variable = environmental_variable.sortby('time')\n",
    "    environmental_variable.attrs['crs'] = crs\n",
    "    environmental_variable.attrs['affin|e'] = affine          \n",
    "                    \n",
    "    #print(\"saving data as {0}.pkl\".format(study_area))\n",
    "\n",
    "    #pickle.dump(nbar_clean, open(pickle_location,\"wb\")) #save nbar as pickle\n",
    "    return environmental_variable"
   ]
  },
  {
   "cell_type": "code",
   "execution_count": null,
   "metadata": {
    "ExecuteTime": {
     "end_time": "2018-09-28T03:16:39.146168Z",
     "start_time": "2018-09-28T03:16:39.134687Z"
    },
    "hidden": true
   },
   "outputs": [],
   "source": [
    "#Define function to define the coordinates for the study area#Define \n",
    "def AreaOfInterest(study_area):\n",
    "    if study_area == 'phumsrahkaev':\n",
    "        lat_min = 13.000 #down\n",
    "        lat_max = 13.100 #up\n",
    "        lon_min = 103.300 #left\n",
    "        lon_max = 103.400 #right  \n",
    "    elif study_area == 'outapaong':\n",
    "        lat_min = 12.600 #down\n",
    "        lat_max = 12.800 #up\n",
    "        lon_min = 103.600 #left\n",
    "        lon_max = 103.800 #right\n",
    "    elif study_area == 'mondulkiri':\n",
    "        lat_min = 12.863 #down\n",
    "        lat_max = 13.663 #up\n",
    "        lon_min = 106.350 #left\n",
    "        lon_max = 107.236 #right\n",
    "    elif study_area == 'krongstungtreng':\n",
    "        lat_min = 13.181 #down\n",
    "        lat_max = 13.681 #up\n",
    "        lon_min = 105.781 #left\n",
    "        lon_max = 106.381 #right\n",
    "    elif study_area == 'kaohnheaek':\n",
    "        lat_min = 13.000 #down\n",
    "        lat_max = 13.100 #up\n",
    "        lon_min = 107.000 #left\n",
    "        lon_max = 107.100 #right\n",
    "    elif study_area == 'neakleoang':\n",
    "        lat_min = 11.246 #down\n",
    "        lat_max = 11.532 #up\n",
    "        lon_min = 105.141 #left\n",
    "        lon_max = 105.380 #right\n",
    "    elif study_area == 'tonlesaplake':\n",
    "        lat_min = 13.020 #down\n",
    "        lat_max = 13.120 #up\n",
    "        lon_min = 103.740 #left\n",
    "        lon_max = 103.840 #right\n",
    "    elif study_area == 'maximum_extent':\n",
    "        lat_min = 9.25 #down\n",
    "        lat_max = 15.25 #up\n",
    "        lon_min = 101.75 #left\n",
    "        lon_max = 108.25 #right\n",
    "    elif study_area == 'kampongchhnang':\n",
    "        lat_min = 12 #down\n",
    "        lat_max = 12.25 #up\n",
    "        lon_min = 104.75 #left\n",
    "        lon_max = 105.0 #right        \n",
    "    else:\n",
    "        print('FileNotFoundError')\n",
    "    return (lat_min, lat_max, lon_min, lon_max)"
   ]
  },
  {
   "cell_type": "code",
   "execution_count": null,
   "metadata": {
    "ExecuteTime": {
     "end_time": "2018-09-28T03:16:39.158051Z",
     "start_time": "2018-09-28T03:16:39.148951Z"
    },
    "hidden": true
   },
   "outputs": [],
   "source": [
    "def write_your_netcdf(data, dataset_name, filename, crs):\n",
    "\n",
    "    \"\"\"\n",
    "    This function turns an xarray dataarray into a dataset so we can write it to netcdf. \n",
    "    It adds on a crs definition from the original array. data = your xarray dataset, dataset_name \n",
    "    is a string describing your variable\n",
    "    \n",
    "    Last modified: May 2018\n",
    "    Author: Bex Dunn    \n",
    "    \"\"\" \n",
    "   \n",
    "    #turn array into dataset so we can write the netcdf\n",
    "    if isinstance(data,xr.DataArray):\n",
    "        dataset= data.to_dataset(name=dataset_name)\n",
    "    elif isinstance(data,xr.Dataset):\n",
    "        dataset = data\n",
    "    else:\n",
    "        print('your data might be the wrong type, it is: '+type(data))\n",
    "    #grab our crs attributes to write a spatially-referenced netcdf\n",
    "    dataset.attrs['crs'] = crs\n",
    "\n",
    "    try:\n",
    "        write_dataset_to_netcdf(dataset, filename)\n",
    "    except RuntimeError as err:\n",
    "        print(\"RuntimeError: {0}\".format(err))    "
   ]
  },
  {
   "cell_type": "code",
   "execution_count": null,
   "metadata": {
    "ExecuteTime": {
     "end_time": "2018-09-28T03:16:39.176038Z",
     "start_time": "2018-09-28T03:16:39.161134Z"
    },
    "hidden": true
   },
   "outputs": [],
   "source": [
    "#Define function to create subplots of all scenes within an array as subplots\n",
    "def one_band_image_subplots(ds, num_cols, figsize = [10,40], left  = 0.125, \n",
    "                              right = 0.9, bottom = 0.1, top = 0.9, \n",
    "                              wspace = 0.2, hspace = 0.4):\n",
    "    '''\n",
    "    one_band_image_subplots takes a dataset with one band and multiple time steps, \n",
    "    and plots them in image. \n",
    "    Last modified: March 2018\n",
    "    Author: Mike Barnes\n",
    "    Modified by: Claire Krause and Erin Telfer\n",
    "    \n",
    "    Inputs: \n",
    "    ds -   Dataset containing the bands to be plotted\n",
    "    num_cols - number of columns for the subplot\n",
    "    \n",
    "    Optional:\n",
    "    figsize - dimensions for the output figure\n",
    "    left  - the space on the left side of the subplots of the figure\n",
    "    right - the space on the right side of the subplots of the figure\n",
    "    bottom - the space on the bottom of the subplots of the figure\n",
    "    top - the space on the top of the subplots of the figure\n",
    "    wspace - the amount of width reserved for blank space between subplots\n",
    "    hspace - the amount of height reserved for white space between subplots\n",
    "    '''\n",
    "    # Find the number of rows/columns we need, based on the number of time steps in ds\n",
    "    fig = plt.figure(figsize = figsize)\n",
    "    timesteps = ds.time.size\n",
    "    num_rows = int(np.ceil(timesteps/num_cols))\n",
    "    fig, axes = plt.subplots(num_rows, num_cols, figsize = figsize)\n",
    "    fig.subplots_adjust(left  = left, right = right, bottom = bottom, top = top, \n",
    "                        wspace = wspace, hspace = hspace)\n",
    "    try: #loop through all scenes, prepare imagery and create subplots\n",
    "        for i, ax in enumerate(fig.axes):\n",
    "            image_ds = ds.rainfall.isel(time =i)\n",
    "            ax.set_title(str(image_ds.time.values)[0:10])\n",
    "            ax.imshow(image_ds, interpolation = 'nearest') #plot image as subplot\n",
    "    except IndexError: #if there are an odd number of plots, this code will allow plotting of images\n",
    "        fig.delaxes(ax)\n",
    "        plt.draw() "
   ]
  },
  {
   "cell_type": "markdown",
   "metadata": {
    "heading_collapsed": true
   },
   "source": [
    "# Datacube query and pre-processing"
   ]
  },
  {
   "cell_type": "code",
   "execution_count": null,
   "metadata": {
    "ExecuteTime": {
     "end_time": "2018-09-26T02:03:06.558981Z",
     "start_time": "2018-09-26T02:03:06.552599Z"
    },
    "hidden": true
   },
   "outputs": [],
   "source": [
    "#define study area\n",
    "study_area = 'maximum_extent' #name of study area\n",
    "#study_area=study_area.lower().replace(\" \",\"\") #reformat to remove uppercase and spaces\n",
    "\n",
    "#define temporal range ()\n",
    "start_of_epoch = '1998-01-01'\n",
    "end_of_epoch =  '2016-12-01'\n",
    "\n",
    "#specify output folder\n",
    "output_folder= '/g/data/u46/users/sc0554/drought_indices_cambodia/climate_indices_input/'"
   ]
  },
  {
   "cell_type": "markdown",
   "metadata": {
    "hidden": true
   },
   "source": [
    "**Load the PET and Rainfall data from datacube**"
   ]
  },
  {
   "cell_type": "code",
   "execution_count": null,
   "metadata": {
    "ExecuteTime": {
     "end_time": "2018-09-26T01:35:13.497726Z",
     "start_time": "2018-09-26T01:31:25.044007Z"
    },
    "hidden": true,
    "scrolled": false
   },
   "outputs": [],
   "source": [
    "# load the PET and Rainfall from the datacube\n",
    "list_of_products = ['rainfall_grids_1998_2017']\n",
    "rainfall=LoadAreaOfInterest(study_area)\n",
    "list_of_products = ['pet_grids_1979_2016']\n",
    "pet=LoadAreaOfInterest(study_area)\n",
    "pet = pet.rename({'PET': 'pet'})"
   ]
  },
  {
   "cell_type": "code",
   "execution_count": null,
   "metadata": {
    "ExecuteTime": {
     "end_time": "2018-09-27T01:54:00.833435Z",
     "start_time": "2018-09-27T01:54:00.742006Z"
    },
    "hidden": true
   },
   "outputs": [],
   "source": [
    "pet = xr.open_dataset('/g/data/u46/users/sc0554/drought_indices_cambodia/climate_indices_input/pet_cambodia_1998_2016_monthly.nc')\n",
    "rainfall = xr.open_dataset('/g/data/u46/users/sc0554/drought_indices_cambodia/climate_indices_input/rainfall_cambodia_1998_2016_monthly.nc')"
   ]
  },
  {
   "cell_type": "markdown",
   "metadata": {
    "heading_collapsed": true,
    "hidden": true
   },
   "source": [
    "### Mask datacube using shapefile of Cambodia"
   ]
  },
  {
   "cell_type": "code",
   "execution_count": null,
   "metadata": {
    "ExecuteTime": {
     "end_time": "2018-09-26T02:26:35.241117Z",
     "start_time": "2018-09-26T02:26:35.118751Z"
    },
    "hidden": true
   },
   "outputs": [],
   "source": [
    "shape_file = os.path.expanduser(\"/g/data/u46/users/sc0554/drought_indices_cambodia/shapefiles/cambodia_boundary/KHM_adm0.shp\")\n",
    "with fiona.open(shape_file) as shapes:\n",
    "        crs = geometry.CRS(shapes.crs_wkt)\n",
    "        first_geometry = next(iter(shapes))['geometry']\n",
    "        geom = geometry.Geometry(first_geometry, crs=crs)"
   ]
  },
  {
   "cell_type": "code",
   "execution_count": null,
   "metadata": {
    "ExecuteTime": {
     "end_time": "2018-09-26T02:26:35.691167Z",
     "start_time": "2018-09-26T02:26:35.634460Z"
    },
    "hidden": true,
    "scrolled": false
   },
   "outputs": [],
   "source": [
    "rainfall_mask = rasterio.features.geometry_mask([geom.to_crs(rainfall.geobox.crs) for geoms in [geom]],\n",
    "                                           out_shape=rainfall.geobox.shape,\n",
    "                                           transform=rainfall.geobox.affine,\n",
    "                                           all_touched=True,\n",
    "                                           invert=True)\n",
    "pet_mask = rasterio.features.geometry_mask([geom.to_crs(pet.geobox.crs) for geoms in [geom]],\n",
    "                                           out_shape=pet.geobox.shape,\n",
    "                                           transform=pet.geobox.affine,\n",
    "                                           all_touched=True,\n",
    "                                           invert=True)\n",
    "\n",
    "rainfall_masked = rainfall.where(rainfall_mask)\n",
    "pet_masked = pet.where(pet_mask)"
   ]
  },
  {
   "cell_type": "markdown",
   "metadata": {
    "heading_collapsed": true,
    "hidden": true
   },
   "source": [
    "### Calculate monthly totals\n",
    "**Plot an example date for queried data**"
   ]
  },
  {
   "cell_type": "code",
   "execution_count": null,
   "metadata": {
    "ExecuteTime": {
     "end_time": "2018-09-26T01:38:12.498361Z",
     "start_time": "2018-09-26T01:38:10.958355Z"
    },
    "hidden": true,
    "scrolled": true
   },
   "outputs": [],
   "source": [
    "environmental_data = {'rainfall': rainfall, 'pet':pet}\n",
    "monthly_environmental_data = {}\n",
    "#resample to monthly averages and assign spatial and time units\n",
    "for key, data in environmental_data.items():\n",
    "    print (key)\n",
    "    data[key].values[data[key].values == -9999.9] = np.nan\n",
    "    #sum the total amount for the month\n",
    "    data = data.resample(time = 'm').sum()\n",
    "    data.attrs['crs'] = environmental_data[key].crs\n",
    "    data.attrs['affin|e'] =environmental_data[key].attrs['affin|e']\n",
    "    data.time.attrs['units'] = environmental_data[key].time.units #'seconds since 1970-01-01 00:00:00'\n",
    "    data[key].attrs['units'] = 'millimeter'\n",
    "    data = data.transpose('latitude', 'longitude', 'time')\n",
    "    monthly_environmental_data[key] = data\n",
    "\n",
    "environmental_data_masked = {'rainfall': rainfall_masked, 'pet':pet_masked}\n",
    "monthly_environmental_data_masked = {}\n",
    "#resample to monthly averages and assign spatial and time units\n",
    "for key, data in environmental_data_masked.items():\n",
    "    print (key)\n",
    "    data[key].values[data[key].values == -9999.9] = np.nan\n",
    "    #sum the total amount for the month\n",
    "    data = data.resample(time = 'm').sum()\n",
    "    data.attrs['crs'] = environmental_data_masked[key].crs\n",
    "    data.attrs['affin|e'] =environmental_data_masked[key].attrs['affin|e']\n",
    "    data.time.attrs['units'] = environmental_data_masked[key].time.units #'seconds since 1970-01-01 00:00:00'\n",
    "    data[key].attrs['units'] = 'millimeter'\n",
    "    data = data.transpose('latitude', 'longitude', 'time')\n",
    "    monthly_environmental_data_masked[key] = data"
   ]
  },
  {
   "cell_type": "code",
   "execution_count": null,
   "metadata": {
    "ExecuteTime": {
     "end_time": "2018-09-26T01:37:23.611673Z",
     "start_time": "2018-09-26T01:37:23.137238Z"
    },
    "hidden": true
   },
   "outputs": [],
   "source": [
    "plt.subplot(121)\n",
    "monthly_environmental_data['rainfall'].rainfall.isel(time = 10).plot()\n",
    "plt.subplot(122)\n",
    "# monthly_environmental_data_masked['rainfall'].rainfall.isel(time = 10).plot()\n",
    "monthly_environmental_data['pet'].pet.isel(time = 10).plot()"
   ]
  },
  {
   "cell_type": "code",
   "execution_count": null,
   "metadata": {
    "ExecuteTime": {
     "end_time": "2018-09-26T01:37:25.079580Z",
     "start_time": "2018-09-26T01:37:24.499641Z"
    },
    "hidden": true
   },
   "outputs": [],
   "source": [
    "plt.subplot(121)\n",
    "monthly_environmental_data_masked['rainfall'].rainfall.isel(time = 10).plot()\n",
    "plt.subplot(122)\n",
    "monthly_environmental_data_masked['pet'].pet.isel(time = 10).plot()\n"
   ]
  },
  {
   "cell_type": "code",
   "execution_count": null,
   "metadata": {
    "ExecuteTime": {
     "end_time": "2018-09-26T01:37:46.745687Z",
     "start_time": "2018-09-26T01:37:46.433408Z"
    },
    "hidden": true
   },
   "outputs": [],
   "source": [
    "monthly_environmental_data_masked['pet'].pet.isel(time = 10).plot()\n"
   ]
  },
  {
   "cell_type": "code",
   "execution_count": null,
   "metadata": {
    "ExecuteTime": {
     "end_time": "2018-09-26T01:38:17.670833Z",
     "start_time": "2018-09-26T01:38:17.309893Z"
    },
    "hidden": true
   },
   "outputs": [],
   "source": [
    "monthly_environmental_data_masked['pet'].pet.isel(time = 10).plot()\n"
   ]
  },
  {
   "cell_type": "code",
   "execution_count": null,
   "metadata": {
    "ExecuteTime": {
     "end_time": "2018-09-26T01:35:16.110769Z",
     "start_time": "2018-09-26T01:35:15.753388Z"
    },
    "hidden": true,
    "scrolled": true
   },
   "outputs": [],
   "source": [
    "fig = plt.figure(figsize=(11,7))\n",
    "monthly_environmental_data['rainfall'].rainfall.mean(dim = ['latitude', 'longitude']).plot()"
   ]
  },
  {
   "cell_type": "code",
   "execution_count": null,
   "metadata": {
    "ExecuteTime": {
     "end_time": "2018-09-26T01:35:16.475935Z",
     "start_time": "2018-09-26T01:35:16.124477Z"
    },
    "hidden": true
   },
   "outputs": [],
   "source": [
    "fig = plt.figure(figsize=(11,7))\n",
    "monthly_environmental_data_masked['rainfall'].rainfall.mean(dim = ['latitude', 'longitude']).plot()"
   ]
  },
  {
   "cell_type": "code",
   "execution_count": null,
   "metadata": {
    "ExecuteTime": {
     "end_time": "2018-09-26T01:35:16.818391Z",
     "start_time": "2018-09-26T01:35:16.478464Z"
    },
    "hidden": true,
    "scrolled": true
   },
   "outputs": [],
   "source": [
    "fig = plt.figure(figsize=(11,7))\n",
    "monthly_environmental_data_masked['pet'].pet.mean(dim = ['latitude', 'longitude']).plot()"
   ]
  },
  {
   "cell_type": "code",
   "execution_count": null,
   "metadata": {
    "ExecuteTime": {
     "end_time": "2018-09-26T01:35:17.162151Z",
     "start_time": "2018-09-26T01:35:16.820659Z"
    },
    "hidden": true,
    "scrolled": true
   },
   "outputs": [],
   "source": [
    "fig = plt.figure(figsize=(11,7))\n",
    "monthly_environmental_data['pet'].pet.mean(dim = ['latitude', 'longitude']).plot()"
   ]
  },
  {
   "cell_type": "code",
   "execution_count": null,
   "metadata": {
    "ExecuteTime": {
     "end_time": "2018-09-26T01:35:17.356587Z",
     "start_time": "2018-09-26T01:35:17.164310Z"
    },
    "hidden": true
   },
   "outputs": [],
   "source": [
    "plt.imshow(monthly_environmental_data['rainfall'].rainfall.isel(time=1))"
   ]
  },
  {
   "cell_type": "markdown",
   "metadata": {
    "heading_collapsed": true,
    "hidden": true
   },
   "source": [
    "### Save out input data as NETCDF"
   ]
  },
  {
   "cell_type": "code",
   "execution_count": null,
   "metadata": {
    "ExecuteTime": {
     "end_time": "2018-08-01T05:48:04.800896Z",
     "start_time": "2018-08-01T05:48:04.565640Z"
    },
    "hidden": true,
    "scrolled": false
   },
   "outputs": [],
   "source": [
    "for key, data in monthly_environmental_data.items():\n",
    "    write_your_netcdf(data = data, dataset_name = key, filename = '/g/data/u46/users/sc0554/drought_indices_cambodia/climate_indices_input/{0}_cambodia_1998_2016_monthly.nc'.format(key), crs = data.crs)"
   ]
  },
  {
   "cell_type": "markdown",
   "metadata": {
    "heading_collapsed": true
   },
   "source": [
    "# Calculate SPEI using climate_indices module"
   ]
  },
  {
   "cell_type": "code",
   "execution_count": null,
   "metadata": {
    "ExecuteTime": {
     "end_time": "2018-09-26T01:40:42.203906Z",
     "start_time": "2018-09-26T01:40:23.602310Z"
    },
    "hidden": true,
    "scrolled": false
   },
   "outputs": [],
   "source": [
    "! /g/data/u46/users/sc0554/drought_indices_cambodia/call_climate_indices.sh --index spei --periodicity monthly --netcdf_precip /g/data/u46/users/sc0554/drought_indices_cambodia/climate_indices_input/rainfall_cambodia_1998_2016_monthly_masked.nc --var_name_precip rainfall --netcdf_pet /g/data/u46/users/sc0554/drought_indices_cambodia/climate_indices_input/pet_cambodia_1998_2016_monthly_masked.nc --output_file_base /g/data/u46/users/sc0554/drought_indices_cambodia/climate_indices_output/masked_2 --var_name_pet pet --scales 3 --calibration_start_year 1998 --calibration_end_year 2016"
   ]
  },
  {
   "cell_type": "markdown",
   "metadata": {
    "hidden": true
   },
   "source": [
    "**Read in, merge and write out modelled drought index data**"
   ]
  },
  {
   "cell_type": "code",
   "execution_count": null,
   "metadata": {
    "ExecuteTime": {
     "end_time": "2018-09-26T02:25:05.197314Z",
     "start_time": "2018-09-26T02:25:04.999163Z"
    },
    "hidden": true
   },
   "outputs": [],
   "source": [
    "cambodia_spei_03_gamma = xr.open_dataset('/g/data/u46/users/sc0554/drought_indices_cambodia/climate_indices_output/cambodia_spei_gamma_03.nc')\n",
    "cambodia_spei_03_gamma = cambodia_spei_03_gamma.transpose('time', 'latitude', 'longitude')\n",
    "cambodia_spei_06_gamma = xr.open_dataset('/g/data/u46/users/sc0554/drought_indices_cambodia/climate_indices_output/cambodia_spei_gamma_06.nc')\n",
    "cambodia_spei_06_gamma = cambodia_spei_06_gamma.transpose('time', 'latitude', 'longitude')\n",
    "cambodia_spei_12_gamma = xr.open_dataset('/g/data/u46/users/sc0554/drought_indices_cambodia/climate_indices_output/cambodia_spei_gamma_12.nc')\n",
    "cambodia_spei_12_gamma = cambodia_spei_12_gamma.transpose('time', 'latitude', 'longitude')\n",
    "cambodia_spei_03_pearson = xr.open_dataset('/g/data/u46/users/sc0554/drought_indices_cambodia/climate_indices_output/cambodia_spei_pearson_03.nc')\n",
    "cambodia_spei_03_pearson = cambodia_spei_03_pearson.transpose('time', 'latitude', 'longitude')\n",
    "cambodia_spei_06_pearson = xr.open_dataset('/g/data/u46/users/sc0554/drought_indices_cambodia/climate_indices_output/cambodia_spei_pearson_06.nc')\n",
    "cambodia_spei_06_pearson = cambodia_spei_06_pearson.transpose('time', 'latitude', 'longitude')\n",
    "cambodia_spei_12_pearson = xr.open_dataset('/g/data/u46/users/sc0554/drought_indices_cambodia/climate_indices_output/cambodia_spei_pearson_12.nc')\n",
    "cambodia_spei_12_pearson = cambodia_spei_12_pearson.transpose('time', 'latitude', 'longitude')\n",
    "\n",
    "cambodia_spei = [cambodia_spei_03_gamma,cambodia_spei_06_gamma,cambodia_spei_12_gamma, cambodia_spei_03_pearson, cambodia_spei_06_pearson, cambodia_spei_12_pearson]\n",
    "cambodia_spei = xr.merge(cambodia_spei)"
   ]
  },
  {
   "cell_type": "code",
   "execution_count": null,
   "metadata": {
    "ExecuteTime": {
     "end_time": "2018-09-26T02:25:11.535959Z",
     "start_time": "2018-09-26T02:25:11.327760Z"
    },
    "hidden": true
   },
   "outputs": [],
   "source": [
    "cambodia_masked_spei_03_gamma = xr.open_dataset('/g/data/u46/users/sc0554/drought_indices_cambodia/climate_indices_output/cambodia_masked_spei_gamma_03.nc')\n",
    "cambodia_masked_spei_03_gamma = cambodia_masked_spei_03_gamma.transpose('time', 'latitude', 'longitude')\n",
    "cambodia_masked_spei_06_gamma = xr.open_dataset('/g/data/u46/users/sc0554/drought_indices_cambodia/climate_indices_output/cambodia_masked_spei_gamma_06.nc')\n",
    "cambodia_masked_spei_06_gamma = cambodia_masked_spei_06_gamma.transpose('time', 'latitude', 'longitude')\n",
    "cambodia_masked_spei_12_gamma = xr.open_dataset('/g/data/u46/users/sc0554/drought_indices_cambodia/climate_indices_output/cambodia_masked_spei_gamma_12.nc')\n",
    "cambodia_masked_spei_12_gamma = cambodia_masked_spei_12_gamma.transpose('time', 'latitude', 'longitude')\n",
    "cambodia_masked_spei_03_pearson = xr.open_dataset('/g/data/u46/users/sc0554/drought_indices_cambodia/climate_indices_output/cambodia_masked_spei_pearson_03.nc')\n",
    "cambodia_masked_spei_03_pearson = cambodia_masked_spei_03_pearson.transpose('time', 'latitude', 'longitude')\n",
    "cambodia_masked_spei_06_pearson = xr.open_dataset('/g/data/u46/users/sc0554/drought_indices_cambodia/climate_indices_output/cambodia_masked_spei_pearson_06.nc')\n",
    "cambodia_masked_spei_06_pearson = cambodia_masked_spei_06_pearson.transpose('time', 'latitude', 'longitude')\n",
    "cambodia_masked_spei_12_pearson = xr.open_dataset('/g/data/u46/users/sc0554/drought_indices_cambodia/climate_indices_output/cambodia_masked_spei_pearson_12.nc')\n",
    "cambodia_masked_spei_12_pearson = cambodia_masked_spei_12_pearson.transpose('time', 'latitude', 'longitude')\n",
    "\n",
    "cambodia_masked_spei = [cambodia_masked_spei_03_gamma,cambodia_masked_spei_06_gamma,cambodia_masked_spei_12_gamma, cambodia_masked_spei_03_pearson, cambodia_masked_spei_06_pearson, cambodia_masked_spei_12_pearson]\n",
    "cambodia_masked_spei = xr.merge(cambodia_masked_spei)"
   ]
  },
  {
   "cell_type": "code",
   "execution_count": null,
   "metadata": {
    "ExecuteTime": {
     "end_time": "2018-08-15T00:29:38.704934Z",
     "start_time": "2018-08-15T00:29:38.618914Z"
    },
    "hidden": true,
    "scrolled": true
   },
   "outputs": [],
   "source": [
    "# Save transformed and combined SPEI xarray as netcdf\n",
    "cambodia_spei.to_netcdf(path = '/g/data/u46/users/sc0554/drought_indices_cambodia/climate_indices_output/cambodia_spei.nc', format = 'NETCDF4')\n",
    "cambodia_masked_spei.to_netcdf(path = '/g/data/u46/users/sc0554/drought_indices_cambodia/climate_indices_output/cambodia_masked_spei.nc', format = 'NETCDF4')"
   ]
  },
  {
   "cell_type": "markdown",
   "metadata": {},
   "source": [
    "# Calculate SPEI Quartiles"
   ]
  },
  {
   "cell_type": "code",
   "execution_count": null,
   "metadata": {
    "ExecuteTime": {
     "end_time": "2018-09-27T05:19:59.486017Z",
     "start_time": "2018-09-27T05:19:59.040042Z"
    }
   },
   "outputs": [],
   "source": [
    "# Open SPEI datasets\n",
    "\n",
    "cambodia_spei = xr.open_dataset('/g/data/u46/users/sc0554/drought_indices_cambodia/climate_indices_output/cambodia_spei.nc')\n",
    "cambodia_masked_spei = xr.open_dataset('/g/data/u46/users/sc0554/drought_indices_cambodia/climate_indices_output/cambodia_masked_spei.nc')"
   ]
  },
  {
   "cell_type": "code",
   "execution_count": null,
   "metadata": {
    "ExecuteTime": {
     "end_time": "2018-09-27T05:20:00.307549Z",
     "start_time": "2018-09-27T05:20:00.296027Z"
    }
   },
   "outputs": [],
   "source": [
    "cambodia_mean_spei_03 = cambodia_masked_spei.spei_gamma_03.mean(dim=('latitude', 'longitude'))\n",
    "cambodia_mean_spei_06 = cambodia_masked_spei.spei_gamma_06.mean(dim=('latitude', 'longitude'))"
   ]
  },
  {
   "cell_type": "code",
   "execution_count": null,
   "metadata": {
    "ExecuteTime": {
     "end_time": "2018-09-27T05:20:30.783740Z",
     "start_time": "2018-09-27T05:20:30.772363Z"
    },
    "scrolled": true
   },
   "outputs": [],
   "source": [
    "spei_quantiles = cambodia_mean_spei_03.quantile([0,0.25, 0.5, 0.75, 1], dim = ['time'], keep_attrs = True, )\n",
    "spei_quantiles = spei_quantiles.values.tolist()\n",
    "print(spei_quantiles)"
   ]
  },
  {
   "cell_type": "code",
   "execution_count": null,
   "metadata": {
    "ExecuteTime": {
     "end_time": "2018-09-27T05:21:40.090496Z",
     "start_time": "2018-09-27T05:21:40.060789Z"
    }
   },
   "outputs": [],
   "source": [
    "# Quartiles\n",
    "\n",
    "spei_q1 = cambodia_mean_spei_03.where((cambodia_mean_spei_03 < spei_quantiles[1]) &\n",
    "                                 (cambodia_mean_spei_03 >= spei_quantiles[0]), drop=True)\n",
    "spei_q2 = cambodia_mean_spei_03.where((cambodia_mean_spei_03 < spei_quantiles[2]) &\n",
    "                                 (cambodia_mean_spei_03 >= spei_quantiles[1]), drop=True)\n",
    "spei_q3 = cambodia_mean_spei_03.where((cambodia_mean_spei_03 < spei_quantiles[3]) &\n",
    "                                 (cambodia_mean_spei_03 >= spei_quantiles[2]), drop=True)\n",
    "spei_q4 = cambodia_mean_spei_03.where((cambodia_mean_spei_03 <= spei_quantiles[4]) &\n",
    "                                 (cambodia_mean_spei_03 >= spei_quantiles[3]), drop=True)"
   ]
  },
  {
   "cell_type": "code",
   "execution_count": null,
   "metadata": {
    "ExecuteTime": {
     "end_time": "2018-09-17T07:08:20.273637Z",
     "start_time": "2018-09-17T07:08:20.237391Z"
    }
   },
   "outputs": [],
   "source": [
    "# Hard boundaries\n",
    "\n",
    "# spei_q1 = cambodia_mean_spei_03.where((cambodia_mean_spei_03 < -1) &\n",
    "#                                  (cambodia_mean_spei_03 >= -2.199104), drop=True)\n",
    "# spei_q2 = cambodia_mean_spei_03.where((cambodia_mean_spei_03 < 0) &\n",
    "#                                  (cambodia_mean_spei_03 >= -1), drop=True)\n",
    "# spei_q3 = cambodia_mean_spei_03.where((cambodia_mean_spei_03 < 1) &\n",
    "#                                  (cambodia_mean_spei_03 >= 0), drop=True)\n",
    "# spei_q4 = cambodia_mean_spei_03.where((cambodia_mean_spei_03 <= 2.050907) &\n",
    "#                                  (cambodia_mean_spei_03 >= 1), drop=True)"
   ]
  },
  {
   "cell_type": "code",
   "execution_count": null,
   "metadata": {
    "ExecuteTime": {
     "end_time": "2018-09-17T07:08:35.935007Z",
     "start_time": "2018-09-17T07:08:35.873676Z"
    }
   },
   "outputs": [],
   "source": [
    "spei_q1.time.to_netcdf(\"spei_q1_dates_hard.nc\")\n",
    "spei_q2.time.to_netcdf(\"spei_q2_dates_hard.nc\")\n",
    "spei_q3.time.to_netcdf(\"spei_q3_dates_hard.nc\")\n",
    "spei_q4.time.to_netcdf(\"spei_q4_dates_hard.nc\")"
   ]
  }
 ],
 "metadata": {
  "kernelspec": {
   "display_name": "Python [default]",
   "language": "python",
   "name": "python3"
  },
  "language_info": {
   "codemirror_mode": {
    "name": "ipython",
    "version": 3
   },
   "file_extension": ".py",
   "mimetype": "text/x-python",
   "name": "python",
   "nbconvert_exporter": "python",
   "pygments_lexer": "ipython3",
   "version": "3.6.6"
  }
 },
 "nbformat": 4,
 "nbformat_minor": 2
}
