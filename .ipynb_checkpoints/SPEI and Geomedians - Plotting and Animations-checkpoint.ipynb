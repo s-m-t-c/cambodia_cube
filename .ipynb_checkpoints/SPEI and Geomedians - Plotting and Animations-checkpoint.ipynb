{
 "cells": [
  {
   "cell_type": "markdown",
   "metadata": {},
   "source": [
    "# Imports and Functions"
   ]
  },
  {
   "cell_type": "code",
   "execution_count": 1,
   "metadata": {
    "ExecuteTime": {
     "end_time": "2018-09-27T01:40:40.116001Z",
     "start_time": "2018-09-27T01:39:56.736143Z"
    }
   },
   "outputs": [],
   "source": [
    "from datacube import Datacube\n",
    "cdc = Datacube(config='/g/data/u46/users/ext547/ewater/cambodia_cube/cambodia.conf', app = \"Polygon drill\")\n",
    "from datacube.storage.storage import write_dataset_to_netcdf\n",
    "\n",
    "import fiona\n",
    "import rasterio.features\n",
    "import geopandas as gpd\n",
    "\n",
    "import numpy as np\n",
    "import xarray as xr\n",
    "import pickle\n",
    "\n",
    "import matplotlib.pyplot as plt\n",
    "import matplotlib.gridspec as gridspec \n",
    "import matplotlib.animation as animation\n",
    "import matplotlib.patheffects as PathEffects\n",
    "from mpl_toolkits.axes_grid1.inset_locator import inset_axes\n",
    "%matplotlib inline\n",
    "\n",
    "from skimage import exposure\n",
    "\n",
    "import calendar\n",
    "\n",
    "#Import external dea-notebooks functions using relative link to Scripts directory\n",
    "import sys\n",
    "import os.path\n",
    "sys.path.append('/g/data/u46/users/sc0554/dea-notebooks/10_Scripts/')\n",
    "import DEAPlotting\n",
    "import BandIndices\n",
    "import seaborn as sns; sns.set()\n",
    "import numpy as np; np.random.seed(0)"
   ]
  },
  {
   "cell_type": "code",
   "execution_count": 2,
   "metadata": {
    "ExecuteTime": {
     "end_time": "2018-09-27T01:40:40.139164Z",
     "start_time": "2018-09-27T01:40:40.127194Z"
    }
   },
   "outputs": [],
   "source": [
    "#Define function to create subplots of all scenes within an array as subplots\n",
    "def one_band_image_subplots(ds, num_cols, figsize = [10,40], left  = 0.125, \n",
    "                              right = 0.9, bottom = 0.1, top = 0.9, \n",
    "                              wspace = 0.2, hspace = 0.4):\n",
    "    '''\n",
    "    one_band_image_subplots takes a dataset with one band and multiple time steps, \n",
    "    and plots them in image. \n",
    "    Last modified: March 2018\n",
    "    Author: Mike Barnes\n",
    "    Modified by: Claire Krause and Erin Telfer\n",
    "    \n",
    "    Inputs: \n",
    "    ds -   Dataset containing the bands to be plotted\n",
    "    num_cols - number of columns for the subplot\n",
    "    \n",
    "    Optional:\n",
    "    figsize - dimensions for the output figure\n",
    "    left  - the space on the left side of the subplots of the figure\n",
    "    right - the space on the right side of the subplots of the figure\n",
    "    bottom - the space on the bottom of the subplots of the figure\n",
    "    top - the space on the top of the subplots of the figure\n",
    "    wspace - the amount of width reserved for blank space between subplots\n",
    "    hspace - the amount of height reserved for white space between subplots\n",
    "    '''\n",
    "    # Find the number of rows/columns we need, based on the number of time steps in ds\n",
    "    fig = plt.figure(figsize = figsize)\n",
    "    timesteps = ds.time.size\n",
    "    num_rows = int(np.ceil(timesteps/num_cols))\n",
    "    fig, axes = plt.subplots(num_rows, num_cols, figsize = figsize)\n",
    "    fig.subplots_adjust(left  = left, right = right, bottom = bottom, top = top, \n",
    "                        wspace = wspace, hspace = hspace)\n",
    "    try: #loop through all scenes, prepare imagery and create subplots\n",
    "        for i, ax in enumerate(fig.axes):\n",
    "            image_ds = ds.rainfall.isel(time =i)\n",
    "            ax.set_title(str(image_ds.time.values)[0:10])\n",
    "            ax.imshow(image_ds, interpolation = 'nearest') #plot image as subplot\n",
    "    except IndexError: #if there are an odd number of plots, this code will allow plotting of images\n",
    "        fig.delaxes(ax)\n",
    "        plt.draw() "
   ]
  },
  {
   "cell_type": "code",
   "execution_count": 3,
   "metadata": {
    "ExecuteTime": {
     "end_time": "2018-09-27T01:40:40.161295Z",
     "start_time": "2018-09-27T01:40:40.142076Z"
    }
   },
   "outputs": [],
   "source": [
    "#Define function to create a RGB composite images of all scenes within an array as subplots\n",
    "def three_band_image(ds, bands,title,figsize = [10,10]):\n",
    "    '''\n",
    "    threeBandImage takes three spectral bands and plots them on the RGB bands of an \n",
    "    image. \n",
    "    \n",
    "    Last modified: March 2018\n",
    "    Author: Mike Barnes\n",
    "    Modified by: Claire Krause and Erin Telfer\n",
    "    Inputs: \n",
    "    ds -   Dataset containing the bands to be plotted\n",
    "    bands - list of three bands to be plotted\n",
    "    \n",
    "    Optional:\n",
    "    time - Index value of the time dimension of ds to be plotted\n",
    "    figsize - dimensions for the output figure\n",
    "    '''\n",
    "    rgb = ds.to_array(dim='color').sel(color=bands).transpose('y', 'x', 'color')\n",
    "    fake_saturation = 6000.0\n",
    "    rgb = rgb.astype('double')\n",
    "    clipped_visible = rgb.where(rgb<fake_saturation).fillna(fake_saturation)\n",
    "    print(type(clipped_visible))\n",
    "    max_val = clipped_visible.max(['y', 'x'])\n",
    "    scaled = (clipped_visible / max_val)\n",
    "\n",
    "    fig = plt.figure(figsize = figsize)\n",
    "    plt.xticks([])\n",
    "    plt.yticks([])\n",
    "    plt.title(title, fontsize=16)\n",
    "    plt.imshow(scaled)"
   ]
  },
  {
   "cell_type": "code",
   "execution_count": 4,
   "metadata": {
    "ExecuteTime": {
     "end_time": "2018-09-27T01:40:40.176917Z",
     "start_time": "2018-09-27T01:40:40.164279Z"
    }
   },
   "outputs": [],
   "source": [
    "def make_patch_spines_invisible(ax):\n",
    "    ax.set_frame_on(True)\n",
    "    ax.patch.set_visible(False)\n",
    "    for sp in ax.spines.values():\n",
    "        sp.set_visible(False)"
   ]
  },
  {
   "cell_type": "code",
   "execution_count": 9,
   "metadata": {
    "ExecuteTime": {
     "end_time": "2018-09-27T01:46:18.167076Z",
     "start_time": "2018-09-27T01:46:18.159079Z"
    }
   },
   "outputs": [],
   "source": [
    "def calculate_indices(ds, index):\n",
    "    '''\n",
    "    Available indices are all calculated within the same function. If an\n",
    "    index is requested that is not coded in the function, an error is\n",
    "    raised.\n",
    "    Try/except statements are used to account for the different band\n",
    "    names for Landsat and Sentinel2 data.\n",
    "    Available indices:\n",
    "    - NDVI: Normalised Difference Vegetation Index\n",
    "    - GNDVI: Green Normalised Difference Vegetation Index\n",
    "    - NDWI: Normalised Difference Water Index\n",
    "    - NDMI: Normalised Difference Moisture Index\n",
    "    inputs:\n",
    "    ds - dataset containing the bands needed for index calculation\n",
    "    index - str of the index to be calculated\n",
    "    outputs:\n",
    "    indexout - result of the index calculation\n",
    "    \n",
    "    '''\n",
    "\n",
    "    if index == 'NDWI':\n",
    "        print('The formula we are using is (green - nir)/(green + nir)')\n",
    "        try:\n",
    "            indexout = ((ds.Band2 - ds.Band4)/(ds.Band2 + ds.Band4))\n",
    "        except AttributeError:\n",
    "            try:\n",
    "                indexout = ((ds.green - ds.nir1)/(ds.green + ds.nir1))\n",
    "            except:\n",
    "                print('Error! NDWI requires green and nir bands')\n",
    "    elif index == 'NDVI':\n",
    "        print('The formula we are using is (nir - red)/(nir + red)')\n",
    "        try:\n",
    "            indexout = ((ds.Band4 - ds.Band3)/(ds.Band4 + ds.Band3))\n",
    "        except AttributeError:\n",
    "            try:\n",
    "                indexout = ((ds.nir1 - ds.red)/(ds.nir1 + ds.red))\n",
    "            except:\n",
    "                print('Error! NDVI requires red and nir bands')\n",
    "        print('Hmmmmm. I don\\'t recognise that index. '\n",
    "              'Options I currently have are NDVI, GNDVI, NDMI and NDWI.')"
   ]
  },
  {
   "cell_type": "code",
   "execution_count": 10,
   "metadata": {
    "ExecuteTime": {
     "end_time": "2018-09-27T01:46:22.349809Z",
     "start_time": "2018-09-27T01:46:22.340616Z"
    }
   },
   "outputs": [],
   "source": [
    "def write_your_netcdf(data, dataset_name, filename, crs):\n",
    "\n",
    "    \"\"\"\n",
    "    This function turns an xarray dataarray into a dataset so we can write it to netcdf. \n",
    "    It adds on a crs definition from the original array. data = your xarray dataset, dataset_name \n",
    "    is a string describing your variable\n",
    "    \n",
    "    Last modified: May 2018\n",
    "    Author: Bex Dunn    \n",
    "    \"\"\" \n",
    "   \n",
    "    #turn array into dataset so we can write the netcdf\n",
    "    if isinstance(data,xr.DataArray):\n",
    "        dataset= data.to_dataset(name=dataset_name)\n",
    "    elif isinstance(data,xr.Dataset):\n",
    "        dataset = data\n",
    "    else:\n",
    "        print('your data might be the wrong type, it is: '+type(data))\n",
    "    #grab our crs attributes to write a spatially-referenced netcdf\n",
    "    dataset.attrs['crs'] = crs\n",
    "\n",
    "    try:\n",
    "        write_dataset_to_netcdf(dataset, filename)\n",
    "    except RuntimeError as err:\n",
    "        print(\"RuntimeError: {0}\".format(err))    "
   ]
  },
  {
   "cell_type": "markdown",
   "metadata": {},
   "source": [
    "# Read in data"
   ]
  },
  {
   "cell_type": "code",
   "execution_count": 6,
   "metadata": {
    "ExecuteTime": {
     "end_time": "2018-09-27T01:40:40.479402Z",
     "start_time": "2018-09-27T01:40:40.190649Z"
    }
   },
   "outputs": [],
   "source": [
    "cambodia_spei = xr.open_dataset('/g/data/u46/users/sc0554/drought_indices_cambodia/climate_indices_output/cambodia_spei.nc')\n",
    "cambodia_masked_spei = xr.open_dataset('/g/data/u46/users/sc0554/drought_indices_cambodia/climate_indices_output/cambodia_masked_spei.nc')\n",
    "#cambodia_spei_gamma = xr.open_dataset('/g/data/u46/users/sc0554/drought_indices_cambodia/climate_indices_output/cambodia_spei_gamma.nc')"
   ]
  },
  {
   "cell_type": "code",
   "execution_count": null,
   "metadata": {
    "ExecuteTime": {
     "end_time": "2018-09-26T01:49:56.396001Z",
     "start_time": "2018-09-26T01:49:56.257318Z"
    }
   },
   "outputs": [],
   "source": [
    "pet = xr.open_dataset('/g/data/u46/users/sc0554/drought_indices_cambodia/climate_indices_input/pet_cambodia_1998_2016_monthly.nc')\n",
    "pet = pet.isel(time=slice(2,len(pet.time)))\n",
    "pet_masked = xr.open_dataset('/g/data/u46/users/sc0554/drought_indices_cambodia/climate_indices_input/pet_cambodia_masked_1998_2016_monthly.nc')\n",
    "pet_masked = pet_masked.isel(time=slice(2,len(pet_masked.time)))\n",
    "\n",
    "rainfall = xr.open_dataset('/g/data/u46/users/sc0554/drought_indices_cambodia/climate_indices_input/rainfall_cambodia_1998_2016_monthly.nc')\n",
    "rainfall = rainfall.isel(time=slice(2,len(rainfall.time)))\n",
    "rainfall_masked = xr.open_dataset('/g/data/u46/users/sc0554/drought_indices_cambodia/climate_indices_input/rainfall_cambodia_masked_1998_2016_monthly.nc')\n",
    "rainfall_masked = rainfall_masked.isel(time=slice(2,len(rainfall_masked.time)))\n"
   ]
  },
  {
   "cell_type": "code",
   "execution_count": null,
   "metadata": {
    "ExecuteTime": {
     "end_time": "2018-09-26T01:49:56.970399Z",
     "start_time": "2018-09-26T01:49:56.398989Z"
    }
   },
   "outputs": [],
   "source": [
    "kampongcchhnang_q1 = xr.open_dataset('/g/data/u46/users/sc0554/drought_indices_cambodia/spei_geomedians_local/kampongcchhnang/spei_nbar_q1_geomedian.nc')\n",
    "kampongcchhnang_q4 = xr.open_dataset('/g/data/u46/users/sc0554/drought_indices_cambodia/spei_geomedians_local/kampongcchhnang/spei_nbar_q4_geomedian.nc')"
   ]
  },
  {
   "cell_type": "code",
   "execution_count": null,
   "metadata": {
    "ExecuteTime": {
     "end_time": "2018-09-26T01:49:57.030482Z",
     "start_time": "2018-09-26T01:49:56.973378Z"
    }
   },
   "outputs": [],
   "source": [
    "cambodia_spei_nbar_geomedian_q1 = xr.open_dataset('/g/data/u46/users/sc0554/drought_indices_cambodia/spei_geomedians_national_quartile/q1_geomedian/q1_geomedian_masked.nc')"
   ]
  },
  {
   "cell_type": "code",
   "execution_count": null,
   "metadata": {
    "ExecuteTime": {
     "end_time": "2018-09-26T01:49:57.509285Z",
     "start_time": "2018-09-26T01:49:57.032806Z"
    }
   },
   "outputs": [],
   "source": [
    "cambodia_spei_nbar_geomedian_q4 =  xr.open_dataset('/g/data/u46/users/sc0554/drought_indices_cambodia/spei_geomedians_national_quartile/q4_geomedian/q4_geomedian_masked.nc')"
   ]
  },
  {
   "cell_type": "markdown",
   "metadata": {},
   "source": [
    "# Plot and animate results"
   ]
  },
  {
   "cell_type": "markdown",
   "metadata": {
    "heading_collapsed": true
   },
   "source": [
    "### Geomedians"
   ]
  },
  {
   "cell_type": "code",
   "execution_count": null,
   "metadata": {
    "ExecuteTime": {
     "end_time": "2018-08-16T00:01:34.213058Z",
     "start_time": "2018-08-16T00:01:32.931387Z"
    },
    "hidden": true,
    "scrolled": true
   },
   "outputs": [],
   "source": [
    "three_band_image(cambodia_spei_nbar_geomedian_q1,['swir1','nir', 'green'], title = 'SPEI Q1 - Landsat Geomedian')\n",
    "plt.savefig('SPEI_q1_geomed.png')"
   ]
  },
  {
   "cell_type": "code",
   "execution_count": null,
   "metadata": {
    "ExecuteTime": {
     "end_time": "2018-08-14T02:04:40.005946Z",
     "start_time": "2018-08-14T02:04:38.021349Z"
    },
    "hidden": true
   },
   "outputs": [],
   "source": [
    "three_band_image(test,['swir1','nir', 'green'], title = 'SPEI Q2 - Landsat Geomedian')"
   ]
  },
  {
   "cell_type": "code",
   "execution_count": null,
   "metadata": {
    "ExecuteTime": {
     "end_time": "2018-09-20T23:34:34.401373Z",
     "start_time": "2018-09-20T23:34:34.384464Z"
    },
    "hidden": true,
    "scrolled": true
   },
   "outputs": [],
   "source": [
    "three_band_image(cambodia_spei_nbar_geomedian_q4,['band5','band4', 'band2'], title = 'SPEI Q4 - Landsat Geomedian')\n"
   ]
  },
  {
   "cell_type": "code",
   "execution_count": null,
   "metadata": {
    "ExecuteTime": {
     "end_time": "2018-09-21T00:16:45.997100Z",
     "start_time": "2018-09-21T00:16:45.223135Z"
    },
    "hidden": true
   },
   "outputs": [],
   "source": [
    "cambodia_spatial_mean_1 = BandIndices.calculate_indices(kampongcchhnang_q1, 'NDWI')\n",
    "cambodia_spatial_mean_2 = BandIndices.calculate_indices(kampongcchhnang_q4, 'NDWI')\n",
    "mean_spei_spatial_comparison = [cambodia_spatial_mean_1, cambodia_spatial_mean_2]\n",
    "\n",
    "#input_shapefiles = ['/g/data/u46/users/sc0554/drought_indices_cambodia/shapefiles/cambodia_boundary/KHM_adm0.shp', '/g/data/u46/users/sc0554/drought_indices_cambodia/shapefiles/provinces/provinces.shp']\n",
    "fig, axes = plt.subplots(nrows=1, ncols=2, figsize =(10,10))\n",
    "for dat, ax in zip(mean_spei_spatial_comparison, axes.flat):\n",
    "    extents = [float(dat.x.min()), \n",
    "           float(dat.x.max()), \n",
    "           float(dat.y.min()), \n",
    "           float(dat.y.max())]\n",
    "    im = ax.imshow(dat, vmin=-1, vmax=1, cmap = 'bwr_r', extent = extents, origin = 'lower')\n",
    "#     for shapefile in input_shapefiles:\n",
    "#             shapefile_overlay = gpd.read_file(shapefile)\n",
    "#             shapefile_overlay.plot(ax = ax, linewidth=1, edgecolor='black', facecolor=\"#00000000\")\n",
    "\n",
    "\n",
    "axes[0].set_title(\"NDWI for Cambodia in SPEI Q1\")\n",
    "axes[1].set_title(\"NDWI for Cambodia in SPEI Q4\")\n",
    "axes[0].set_xticklabels([])\n",
    "axes[0].set_yticklabels([])\n",
    "axes[1].set_xticklabels([])\n",
    "axes[1].set_yticklabels([])\n",
    "axes[0].set_xticks([])\n",
    "axes[0].set_yticks([])\n",
    "axes[1].set_xticks([])\n",
    "axes[1].set_yticks([])\n",
    "fig.colorbar(im,  ax=axes.ravel().tolist(), orientation='horizontal', pad = 0.002)#, shrink = 0.9)\n",
    "\n",
    "plt.show()\n",
    "\n"
   ]
  },
  {
   "cell_type": "code",
   "execution_count": null,
   "metadata": {
    "ExecuteTime": {
     "end_time": "2018-09-21T00:11:57.569568Z",
     "start_time": "2018-09-21T00:09:30.404511Z"
    },
    "hidden": true
   },
   "outputs": [],
   "source": [
    "cambodia_spatial_mean_1 = calculate_indices(cambodia_spei_nbar_geomedian_q1, 'NDWI')\n",
    "cambodia_spatial_mean_2 = calculate_indices(cambodia_spei_nbar_geomedian_q4, 'NDWI')\n",
    "mean_spei_spatial_comparison = [cambodia_spatial_mean_1, cambodia_spatial_mean_2]\n",
    "\n",
    "#input_shapefiles = ['/g/data/u46/users/sc0554/drought_indices_cambodia/shapefiles/cambodia_boundary/KHM_adm0.shp', '/g/data/u46/users/sc0554/drought_indices_cambodia/shapefiles/provinces/provinces.shp']\n",
    "fig, axes = plt.subplots(nrows=1, ncols=2, figsize =(10,10))\n",
    "for dat, ax in zip(mean_spei_spatial_comparison, axes.flat):\n",
    "    extents = [float(dat.x.min()), \n",
    "           float(dat.x.max()), \n",
    "           float(dat.y.min()), \n",
    "           float(dat.y.max())]\n",
    "    im = ax.imshow(dat, vmin=-1, vmax=1, cmap = 'bwr_r', extent = extents, origin = 'lower')\n",
    "#     for shapefile in input_shapefiles:\n",
    "#             shapefile_overlay = gpd.read_file(shapefile)\n",
    "#             shapefile_overlay.plot(ax = ax, linewidth=1, edgecolor='black', facecolor=\"#00000000\")\n",
    "\n",
    "\n",
    "axes[0].set_title(\"NDWI for Cambodia in SPEI Q1\")\n",
    "axes[1].set_title(\"NDWI for Cambodia in SPEI Q4\")\n",
    "axes[0].set_xticklabels([])\n",
    "axes[0].set_yticklabels([])\n",
    "axes[1].set_xticklabels([])\n",
    "axes[1].set_yticklabels([])\n",
    "axes[0].set_xticks([])\n",
    "axes[0].set_yticks([])\n",
    "axes[1].set_xticks([])\n",
    "axes[1].set_yticks([])\n",
    "fig.colorbar(im,  ax=axes.ravel().tolist(), orientation='horizontal', pad = 0.002)#, shrink = 0.9)\n",
    "\n",
    "plt.show()"
   ]
  },
  {
   "cell_type": "markdown",
   "metadata": {
    "hidden": true
   },
   "source": [
    "**Plot each image at each time step**"
   ]
  },
  {
   "cell_type": "code",
   "execution_count": null,
   "metadata": {
    "ExecuteTime": {
     "end_time": "2018-08-20T00:01:27.146664Z",
     "start_time": "2018-08-20T00:01:07.065Z"
    },
    "hidden": true
   },
   "outputs": [],
   "source": [
    "fig, axes = plt.subplots(100, 3, sharex='col', sharey='row', figsize = (12, 500))\n",
    "for i in range(100):\n",
    "    spei_plot = axes[i][0].imshow(cambodia_spei.spei_gamma_03.isel(time=i).values)\n",
    "    plt.colorbar(spei_plot)\n",
    "#     axes[i][1].imshow(monthly_environmental_data['rainfall'].rainfall.isel(time=i).values)\n",
    "#     axes[i][2].imshow(monthly_environmental_data['pet'].pet.isel(time=i).values)\n",
    "plt.tight_layout()\n",
    "plt.show()"
   ]
  },
  {
   "cell_type": "code",
   "execution_count": null,
   "metadata": {
    "ExecuteTime": {
     "end_time": "2018-07-19T04:02:34.984536Z",
     "start_time": "2018-07-19T04:02:22.271538Z"
    },
    "hidden": true,
    "scrolled": false
   },
   "outputs": [],
   "source": [
    "# spei_03_seasonal_plot = cambodia_spei_03_seasonal.spei_gamma_03.plot(x='longitude', y = 'latitude', col='time', col_wrap=3)\n",
    "# spei_06_seasonal_plot = cambodia_spei_06_seasonal.spei_gamma_06.plot(x='longitude', y = 'latitude', col='time', col_wrap=3)\n",
    "# spei_12_seasonal_plot = cambodia_spei_12_seasonal.spei_gamma_12.plot(x='longitude', y = 'latitude', col='time', col_wrap=3)"
   ]
  },
  {
   "cell_type": "markdown",
   "metadata": {
    "heading_collapsed": true
   },
   "source": [
    "### SPEI Timeseries\n"
   ]
  },
  {
   "cell_type": "code",
   "execution_count": null,
   "metadata": {
    "ExecuteTime": {
     "end_time": "2018-08-19T23:42:49.958471Z",
     "start_time": "2018-08-19T23:42:49.404430Z"
    },
    "hidden": true,
    "scrolled": true
   },
   "outputs": [],
   "source": [
    "#Comparison plot of mean SPEI for Cambodia over time at monthly interval for 3 different SPEI time scales\n",
    "fig, ax1 = plt.subplots(figsize=(13,5))\n",
    "cambodia_masked_spei.spei_gamma_03.mean(dim = ['latitude', 'longitude']).plot()\n",
    "cambodia_masked_spei.spei_gamma_06.mean(dim = ['latitude', 'longitude']).plot()\n",
    "cambodia_masked_spei.spei_gamma_12.mean(dim = ['latitude', 'longitude']).plot()\n",
    "plt.xlabel('Years')\n",
    "plt.ylabel('SPEI')\n",
    "plt.legend(())\n",
    "plt.title('Standardised Precipitation Evapotransipiration Index (SPEI) for Cambodia \\n Decreasing SPEI values = increasing drought intensity')\n",
    "plt.grid()\n",
    "ax1.set_ylim(-3, 3)\n",
    "ax1.axhline(y=0, color ='k', linestyle = 'dotted')\n",
    "plt.tight_layout()\n",
    "# fig.savefig('SPEI_12_masked.jpg')"
   ]
  },
  {
   "cell_type": "code",
   "execution_count": null,
   "metadata": {
    "ExecuteTime": {
     "end_time": "2018-08-15T03:49:26.389925Z",
     "start_time": "2018-08-15T03:49:25.954264Z"
    },
    "hidden": true,
    "scrolled": false
   },
   "outputs": [],
   "source": [
    "#Plot of mean SPEI for Cambodia at monthly interval for 3 month time scale comparing Gamma and Pearson distribution\n",
    "fig, ax1 = plt.subplots(figsize=(13,5))\n",
    "cambodia_spei.spei_gamma_03.mean(dim = ['latitude', 'longitude']).plot()\n",
    "cambodia_spei.spei_pearson_03.mean(dim = ['latitude', 'longitude']).plot()\n",
    "plt.xlabel('Years')\n",
    "plt.ylabel('SPEI - 3 month')\n",
    "plt.legend((plot1, plot2), ('SPEI 03 - Gamma', 'SPEI 03 - Pearson'))\n",
    "plt.title('Standardised Precipitation Evapotransipiration Index (SPEI) for Cambodia \\n Decreasing SPEI values = increasing drought intensity')\n",
    "plt.grid()\n",
    "ax1.set_ylim(-3, 3)\n",
    "ax1.axhline(y=0, color ='k', linestyle = 'dotted')\n",
    "plt.tight_layout()\n",
    "fig.savefig('SPEI_03_.jpg')"
   ]
  },
  {
   "cell_type": "code",
   "execution_count": null,
   "metadata": {
    "ExecuteTime": {
     "end_time": "2018-08-20T00:08:37.958446Z",
     "start_time": "2018-08-20T00:08:37.391586Z"
    },
    "hidden": true,
    "scrolled": true
   },
   "outputs": [],
   "source": [
    "### Plot SPEI and input variables on the same axis\n",
    "\n",
    "fig, ax1 = plt.subplots(figsize=(13,5))\n",
    "fig.subplots_adjust(right=0.75)\n",
    "\n",
    "speiplot, = ax1.plot(cambodia_masked_spei.time, cambodia_masked_spei.spei_gamma_03.mean(dim = ['latitude', 'longitude']), 'r-')\n",
    "ax1.set_xlabel('Year')\n",
    "# Make the y-axis label, ticks and tick labels match the line color.\n",
    "ax1.set_ylabel('SPEI - 03 month')\n",
    "\n",
    "ax2 = ax1.twinx()\n",
    "rainfallplot, = ax2.plot(cambodia_masked_spei.time, rainfall_masked.rainfall.mean(dim = ['latitude', 'longitude']), 'b-')\n",
    "ax2.set_ylabel('precipitation (monthly total / mm)')\n",
    "\n",
    "# ax3 = ax1.twinx()\n",
    "# petplot, = ax3.plot(cambodia_masked_spei.time, pet_masked.pet.mean(dim = ['latitude', 'longitude']), 'g-')\n",
    "# ax3.set_ylabel('PET')\n",
    "# ax3.set_ylim(80,140)\n",
    "\n",
    "# ax3.spines[\"right\"].set_position((\"axes\", 1.2))\n",
    "# make_patch_spines_invisible(ax3)\n",
    "# ax3.spines[\"right\"].set_visible(True)\n",
    "\n",
    "ax1.yaxis.label.set_color(speiplot.get_color())\n",
    "ax2.yaxis.label.set_color(rainfallplot.get_color())\n",
    "# ax3.yaxis.label.set_color(petplot.get_color())\n",
    "\n",
    "tkw = dict(size=4, width=1.5)\n",
    "ax1.tick_params(axis='y', colors=speiplot.get_color(), **tkw)\n",
    "ax2.tick_params(axis='y', colors=rainfallplot.get_color(), **tkw)\n",
    "# ax3.tick_params(axis='y', colors=petplot.get_color(), **tkw)\n",
    "ax1.tick_params(axis='x', **tkw)\n",
    "\n",
    "ax1.set_ylim(-2.5, 2.5)\n",
    "plt.grid()\n",
    "# ax1.axhline(y=0, color ='k', linestyle = 'dotted')\n",
    "# ax2.axhline(y=0, color ='k', linestyle = 'dotted')\n",
    "#ax1.axhline(y=0, color ='k', linestyle = 'dotted')\n",
    "plt.title('Standardised Precipitation Evapotransipiration Index (SPEI) and precipitation for Cambodia \\n Decreasing SPEI values = Increasing drought intensity')\n",
    "fig.tight_layout()\n",
    "plt.show()\n",
    "\n",
    "fig.savefig('SPEI_03_rainfall_comparison_masked.jpg')"
   ]
  },
  {
   "cell_type": "markdown",
   "metadata": {
    "heading_collapsed": true
   },
   "source": [
    "### SPEI Heatmap"
   ]
  },
  {
   "cell_type": "code",
   "execution_count": 7,
   "metadata": {
    "ExecuteTime": {
     "end_time": "2018-09-27T01:40:42.921978Z",
     "start_time": "2018-09-27T01:40:40.482520Z"
    },
    "hidden": true,
    "scrolled": false
   },
   "outputs": [
    {
     "data": {
      "image/png": "[encoded data removed]",
      "text/plain": [
       "<Figure size 720x720 with 3 Axes>"
      ]
     },
     "metadata": {},
     "output_type": "display_data"
    }
   ],
   "source": [
    "# from mpl_toolkits import axes_grid1\n",
    "\n",
    "### Plot of the mean SPEI value for a time slice over the spatial area\n",
    "#Shows the likelihood of particular areas to be drought effected\n",
    "cambodia_spatial_mean_1 = cambodia_spei.spei_gamma_03.loc[dict(\n",
    "    time=slice('1999-01-01', '1999-12-31'))].mean(dim = 'time')\n",
    "cambodia_spatial_mean_2 = cambodia_spei.spei_gamma_03.loc[dict(\n",
    "    time=slice('2009-01-01', '2009-12-01'))].mean(dim= 'time')\n",
    "\n",
    "mean_spei_spatial_comparison = [cambodia_spatial_mean_1, cambodia_spatial_mean_2]\n",
    "\n",
    "input_shapefiles = ['/g/data/u46/users/sc0554/drought_indices_cambodia/shapefiles/cambodia_boundary/KHM_adm0.shp', '/g/data/u46/users/sc0554/drought_indices_cambodia/shapefiles/provinces/provinces.shp']\n",
    "fig, axes = plt.subplots(nrows=1, ncols=2, figsize =(10,10))\n",
    "for dat, ax in zip(mean_spei_spatial_comparison, axes.flat):\n",
    "    extents = [float(dat.longitude.min()), \n",
    "           float(dat.longitude.max()), \n",
    "           float(dat.latitude.min()), \n",
    "           float(dat.latitude.max())]\n",
    "    im = ax.imshow(dat, vmin=-3, vmax=3, cmap = 'bwr_r', extent = extents)\n",
    "    for shapefile in input_shapefiles:\n",
    "            shapefile_overlay = gpd.read_file(shapefile)\n",
    "            shapefile_overlay.plot(ax = ax, linewidth=1, edgecolor='black', facecolor=\"#00000000\")\n",
    "\n",
    "\n",
    "axes[0].set_title(\"Mean SPEI for Cambodia in 1999\")\n",
    "axes[1].set_title(\"Mean SPEI for Cambodia in 2009\")\n",
    "axes[0].set_xticklabels([])\n",
    "axes[0].set_yticklabels([])\n",
    "axes[1].set_xticklabels([])\n",
    "axes[1].set_yticklabels([])\n",
    "axes[0].set_xticks([])\n",
    "axes[0].set_yticks([])\n",
    "axes[1].set_xticks([])\n",
    "axes[1].set_yticks([])\n",
    "fig.colorbar(im,  ax=axes.ravel().tolist(), orientation='horizontal', \n",
    "             label = 'SPEI \\n Lower values indicate greater intensity drought', pad = 0.002)#, shrink = 0.9)\n",
    "                  \n",
    "# add shapefile overlay\n",
    "        \n",
    "# shapefile_overlay.plot('ax':ax1, 'linewidth':2, 'edgecolor':'black', 'facecolor':\"#00000000\"}, \n",
    "#                                     **shapefile_overlay_kwargs)\n",
    "\n",
    "plt.show()\n",
    "\n",
    "# fig, (a1, a2) = plt.subplots(1, 2, figsize = (10,10))\n",
    "# spei_2005 = a1.imshow(cambodia_spei_2005, vmin = -3, vmax = 3, cmap = 'bwr_r')\n",
    "# spei_2009 = a2.imshow(cambodia_spei_2009, vmin = -3, vmax =3, cmap = 'bwr_r')\n",
    "\n",
    "# a1.set_title(\"Mean SPEI for Cambodia in 1998\")\n",
    "# a2.set_title(\"Mean SPEI for Cambodia in 2009\")\n",
    "fig.savefig('SPEI_spatialcomparison_1999_2009.png')\n"
   ]
  },
  {
   "cell_type": "code",
   "execution_count": 50,
   "metadata": {
    "ExecuteTime": {
     "end_time": "2018-09-27T02:23:31.940099Z",
     "start_time": "2018-09-27T02:23:31.128037Z"
    },
    "hidden": true,
    "scrolled": false
   },
   "outputs": [
    {
     "data": {
      "image/png": "[encoded data removed]",
      "text/plain": [
       "<Figure size 720x720 with 1 Axes>"
      ]
     },
     "metadata": {},
     "output_type": "display_data"
    }
   ],
   "source": [
    "#Shows the likelihood of particular areas to be drought effected\n",
    "\n",
    "cambodia_spei_spatial_mean = cambodia_spei.spei_gamma_03.mean(dim= 'time')\n",
    "\n",
    "new_lon = np.linspace(cambodia_spei_spatial_mean.longitude[0], cambodia_spei_spatial_mean.longitude[-1], \n",
    "                      cambodia_spei_spatial_mean.longitude.size * 10)\n",
    "new_lat = np.linspace(cambodia_spei_spatial_mean.latitude[0], cambodia_spei_spatial_mean.latitude[-1], \n",
    "                      cambodia_spei_spatial_mean.latitude.size * 10)\n",
    "\n",
    "cambodia_spei_spatial_mean_interp = cambodia_spei_spatial_mean.interp(latitude=new_lat, longitude=new_lon)\n",
    "\n",
    "fig, axes = plt.subplots(nrows=1, ncols=1, figsize =(10,10))\n",
    "extents = [float(cambodia_spei_spatial_mean.longitude.min()), \n",
    "           float(cambodia_spei_spatial_mean.longitude.max()), \n",
    "           float(cambodia_spei_spatial_mean.latitude.min()), \n",
    "           float(cambodia_spei_spatial_mean.latitude.max())]\n",
    "\n",
    "im = axes.imshow(cambodia_spei_spatial_mean_interp, \n",
    "                 cmap = 'hot', extent = extents, vmin=-.003)\n",
    "\n",
    "shapefile_overlay = gpd.read_file('/g/data/u46/users/sc0554/drought_indices_cambodia/shapefiles/cambodia_boundary/KHM_adm0.shp')\n",
    "shapefile_overlay.plot(ax = axes, linewidth=2, edgecolor='black', facecolor=\"#00000000\")\n",
    "\n",
    "# fig.colorbar(im)\n",
    "# axes.set_title(\"Heatmap of Drought intensity\")\n",
    "axes.set_ylabel(\"Latitude\")\n",
    "axes.set_xlabel(\"Longitude\")\n",
    "axes.grid(False)\n",
    "fig.savefig('SPEI.png')\n",
    "\n"
   ]
  },
  {
   "cell_type": "code",
   "execution_count": 36,
   "metadata": {
    "ExecuteTime": {
     "end_time": "2018-09-27T02:12:52.217309Z",
     "start_time": "2018-09-27T02:12:52.191900Z"
    },
    "hidden": true
   },
   "outputs": [],
   "source": [
    "pet = xr.open_dataset('/g/data/u46/users/sc0554/drought_indices_cambodia/climate_indices_input/pet_cambodia_1998_2016_monthly.nc')"
   ]
  },
  {
   "cell_type": "code",
   "execution_count": 38,
   "metadata": {
    "ExecuteTime": {
     "end_time": "2018-09-27T02:12:58.103449Z",
     "start_time": "2018-09-27T02:12:58.052651Z"
    },
    "hidden": true
   },
   "outputs": [],
   "source": [
    "cambodia_spei_spatial_mean_interp.to_netcdf('cambodia_spei_heatmap2.nc')"
   ]
  },
  {
   "cell_type": "code",
   "execution_count": 37,
   "metadata": {
    "ExecuteTime": {
     "end_time": "2018-09-27T02:12:54.206987Z",
     "start_time": "2018-09-27T02:12:54.144572Z"
    },
    "hidden": true
   },
   "outputs": [
    {
     "ename": "AttributeError",
     "evalue": "'DataArray' object has no attribute 'units'",
     "output_type": "error",
     "traceback": [
      "\u001b[0;31m---------------------------------------------------------------------------\u001b[0m",
      "\u001b[0;31mAttributeError\u001b[0m                            Traceback (most recent call last)",
      "\u001b[0;32m<ipython-input-37-f426e251660f>\u001b[0m in \u001b[0;36m<module>\u001b[0;34m()\u001b[0m\n\u001b[1;32m      1\u001b[0m \u001b[0mcambodia_spei_spatial_mean_interp\u001b[0m\u001b[0;34m.\u001b[0m\u001b[0mattrs\u001b[0m\u001b[0;34m[\u001b[0m\u001b[0;34m'units'\u001b[0m\u001b[0;34m]\u001b[0m \u001b[0;34m=\u001b[0m \u001b[0;34m'spei_03'\u001b[0m\u001b[0;34m\u001b[0m\u001b[0m\n\u001b[0;32m----> 2\u001b[0;31m \u001b[0mwrite_your_netcdf\u001b[0m\u001b[0;34m(\u001b[0m\u001b[0mcambodia_spei_spatial_mean_interp\u001b[0m\u001b[0;34m,\u001b[0m \u001b[0;34m'spei_03_heatmap'\u001b[0m\u001b[0;34m,\u001b[0m \u001b[0;34m'cambodia_spei_heatmap.nc'\u001b[0m\u001b[0;34m,\u001b[0m \u001b[0mpet\u001b[0m\u001b[0;34m.\u001b[0m\u001b[0mcrs\u001b[0m\u001b[0;34m)\u001b[0m\u001b[0;34m\u001b[0m\u001b[0m\n\u001b[0m",
      "\u001b[0;32m<ipython-input-10-ae8725d6f2e0>\u001b[0m in \u001b[0;36mwrite_your_netcdf\u001b[0;34m(data, dataset_name, filename, crs)\u001b[0m\n\u001b[1;32m     21\u001b[0m \u001b[0;34m\u001b[0m\u001b[0m\n\u001b[1;32m     22\u001b[0m     \u001b[0;32mtry\u001b[0m\u001b[0;34m:\u001b[0m\u001b[0;34m\u001b[0m\u001b[0m\n\u001b[0;32m---> 23\u001b[0;31m         \u001b[0mwrite_dataset_to_netcdf\u001b[0m\u001b[0;34m(\u001b[0m\u001b[0mdataset\u001b[0m\u001b[0;34m,\u001b[0m \u001b[0mfilename\u001b[0m\u001b[0;34m)\u001b[0m\u001b[0;34m\u001b[0m\u001b[0m\n\u001b[0m\u001b[1;32m     24\u001b[0m     \u001b[0;32mexcept\u001b[0m \u001b[0mRuntimeError\u001b[0m \u001b[0;32mas\u001b[0m \u001b[0merr\u001b[0m\u001b[0;34m:\u001b[0m\u001b[0;34m\u001b[0m\u001b[0m\n\u001b[1;32m     25\u001b[0m         \u001b[0mprint\u001b[0m\u001b[0;34m(\u001b[0m\u001b[0;34m\"RuntimeError: {0}\"\u001b[0m\u001b[0;34m.\u001b[0m\u001b[0mformat\u001b[0m\u001b[0;34m(\u001b[0m\u001b[0merr\u001b[0m\u001b[0;34m)\u001b[0m\u001b[0;34m)\u001b[0m\u001b[0;34m\u001b[0m\u001b[0m\n",
      "\u001b[0;32m/g/data/v10/public/modules/dea/20180815/lib/python3.6/site-packages/datacube/storage/storage.py\u001b[0m in \u001b[0;36mwrite_dataset_to_netcdf\u001b[0;34m(dataset, filename, global_attributes, variable_params, netcdfparams)\u001b[0m\n\u001b[1;32m    636\u001b[0m                                      \u001b[0mvariable_params\u001b[0m\u001b[0;34m,\u001b[0m\u001b[0;34m\u001b[0m\u001b[0m\n\u001b[1;32m    637\u001b[0m                                      \u001b[0mglobal_attributes\u001b[0m\u001b[0;34m,\u001b[0m\u001b[0;34m\u001b[0m\u001b[0m\n\u001b[0;32m--> 638\u001b[0;31m                                      netcdfparams)\n\u001b[0m\u001b[1;32m    639\u001b[0m \u001b[0;34m\u001b[0m\u001b[0m\n\u001b[1;32m    640\u001b[0m     \u001b[0;32mfor\u001b[0m \u001b[0mname\u001b[0m\u001b[0;34m,\u001b[0m \u001b[0mvariable\u001b[0m \u001b[0;32min\u001b[0m \u001b[0mdataset\u001b[0m\u001b[0;34m.\u001b[0m\u001b[0mdata_vars\u001b[0m\u001b[0;34m.\u001b[0m\u001b[0mitems\u001b[0m\u001b[0;34m(\u001b[0m\u001b[0;34m)\u001b[0m\u001b[0;34m:\u001b[0m\u001b[0;34m\u001b[0m\u001b[0m\n",
      "\u001b[0;32m/g/data/v10/public/modules/dea/20180815/lib/python3.6/site-packages/datacube/storage/storage.py\u001b[0m in \u001b[0;36mcreate_netcdf_storage_unit\u001b[0;34m(filename, crs, coordinates, variables, variable_params, global_attributes, netcdfparams)\u001b[0m\n\u001b[1;32m    586\u001b[0m \u001b[0;34m\u001b[0m\u001b[0m\n\u001b[1;32m    587\u001b[0m     \u001b[0;32mfor\u001b[0m \u001b[0mname\u001b[0m\u001b[0;34m,\u001b[0m \u001b[0mcoord\u001b[0m \u001b[0;32min\u001b[0m \u001b[0mcoordinates\u001b[0m\u001b[0;34m.\u001b[0m\u001b[0mitems\u001b[0m\u001b[0;34m(\u001b[0m\u001b[0;34m)\u001b[0m\u001b[0;34m:\u001b[0m\u001b[0;34m\u001b[0m\u001b[0m\n\u001b[0;32m--> 588\u001b[0;31m         \u001b[0mnetcdf_writer\u001b[0m\u001b[0;34m.\u001b[0m\u001b[0mcreate_coordinate\u001b[0m\u001b[0;34m(\u001b[0m\u001b[0mnco\u001b[0m\u001b[0;34m,\u001b[0m \u001b[0mname\u001b[0m\u001b[0;34m,\u001b[0m \u001b[0mcoord\u001b[0m\u001b[0;34m.\u001b[0m\u001b[0mvalues\u001b[0m\u001b[0;34m,\u001b[0m \u001b[0mcoord\u001b[0m\u001b[0;34m.\u001b[0m\u001b[0munits\u001b[0m\u001b[0;34m)\u001b[0m\u001b[0;34m\u001b[0m\u001b[0m\n\u001b[0m\u001b[1;32m    589\u001b[0m \u001b[0;34m\u001b[0m\u001b[0m\n\u001b[1;32m    590\u001b[0m     \u001b[0mnetcdf_writer\u001b[0m\u001b[0;34m.\u001b[0m\u001b[0mcreate_grid_mapping_variable\u001b[0m\u001b[0;34m(\u001b[0m\u001b[0mnco\u001b[0m\u001b[0;34m,\u001b[0m \u001b[0mcrs\u001b[0m\u001b[0;34m)\u001b[0m\u001b[0;34m\u001b[0m\u001b[0m\n",
      "\u001b[0;32m/g/data/v10/public/modules/dea-env/20180728/lib/python3.6/site-packages/xarray/core/common.py\u001b[0m in \u001b[0;36m__getattr__\u001b[0;34m(self, name)\u001b[0m\n\u001b[1;32m    174\u001b[0m                     \u001b[0;32mreturn\u001b[0m \u001b[0msource\u001b[0m\u001b[0;34m[\u001b[0m\u001b[0mname\u001b[0m\u001b[0;34m]\u001b[0m\u001b[0;34m\u001b[0m\u001b[0m\n\u001b[1;32m    175\u001b[0m         raise AttributeError(\"%r object has no attribute %r\" %\n\u001b[0;32m--> 176\u001b[0;31m                              (type(self).__name__, name))\n\u001b[0m\u001b[1;32m    177\u001b[0m \u001b[0;34m\u001b[0m\u001b[0m\n\u001b[1;32m    178\u001b[0m     \u001b[0;32mdef\u001b[0m \u001b[0m__setattr__\u001b[0m\u001b[0;34m(\u001b[0m\u001b[0mself\u001b[0m\u001b[0;34m,\u001b[0m \u001b[0mname\u001b[0m\u001b[0;34m,\u001b[0m \u001b[0mvalue\u001b[0m\u001b[0;34m)\u001b[0m\u001b[0;34m:\u001b[0m\u001b[0;34m\u001b[0m\u001b[0m\n",
      "\u001b[0;31mAttributeError\u001b[0m: 'DataArray' object has no attribute 'units'"
     ]
    }
   ],
   "source": [
    "cambodia_spei_spatial_mean_interp.attrs['units'] = 'spei_03'\n",
    "write_your_netcdf(cambodia_spei_spatial_mean_interp, 'spei_03_heatmap', 'cambodia_spei_heatmap.nc', pet.crs)"
   ]
  },
  {
   "cell_type": "code",
   "execution_count": null,
   "metadata": {
    "ExecuteTime": {
     "end_time": "2018-09-25T05:07:32.858562Z",
     "start_time": "2018-09-25T05:07:31.830067Z"
    },
    "hidden": true
   },
   "outputs": [],
   "source": [
    "cambodia_spei_spatial_mean = cambodia_spei.spei_gamma_03.mean(dim= 'time')\n",
    "\n",
    "new_lon = np.linspace(cambodia_spei_spatial_mean.longitude[0], cambodia_spei_spatial_mean.longitude[-1], \n",
    "                      cambodia_spei_spatial_mean.longitude.size * 3)\n",
    "new_lat = np.linspace(cambodia_spei_spatial_mean.latitude[0], cambodia_spei_spatial_mean.latitude[-1], \n",
    "                      cambodia_spei_spatial_mean.latitude.size * 3)\n",
    "\n",
    "cambodia_spei_spatial_mean_interp = cambodia_spei_spatial_mean.interp(latitude=new_lat, longitude=new_lon)\n",
    "shapefile_overlay = gpd.read_file('/g/data/u46/users/ext547/ewater/input_data/Cambodia_boundary/KHM_Basin_Simple_A.shp')\n",
    "shapefile_overlay.to_crs({'init':'EPSG:4326'}, inplace=True)\n",
    "\n",
    "fig, axes = plt.subplots(nrows=1, ncols=1, figsize =(7,7))\n",
    "\n",
    "sns.heatmap(cambodia_spei_spatial_mean_interp.values, center = 0, \n",
    "                 cmap = 'bwr_r', xticklabels=True, yticklabels=True, cbar=False, ax=axes)\n",
    "\n",
    "shapefile_overlay.plot(ax = axes, linewidth=2, edgecolor='black', facecolor=\"#00000000\")"
   ]
  },
  {
   "cell_type": "markdown",
   "metadata": {
    "ExecuteTime": {
     "end_time": "2018-07-10T05:40:50.777904Z",
     "start_time": "2018-07-10T05:40:50.769174Z"
    },
    "heading_collapsed": true
   },
   "source": [
    "### Animation Creation Station"
   ]
  },
  {
   "cell_type": "code",
   "execution_count": null,
   "metadata": {
    "ExecuteTime": {
     "end_time": "2018-08-08T02:17:18.600488Z",
     "start_time": "2018-08-08T02:17:18.571102Z"
    },
    "hidden": true,
    "scrolled": true
   },
   "outputs": [],
   "source": [
    "input_shapefiles = ['/g/data/u46/users/sc0554/drought_indices_cambodia/shapefiles/provinces/provinces.shp']\n",
    "DEAPlotting.animated_timeseries(ds = cambodia_spei_03, output_path='/g/data/u46/users/sc0554/drought_indices_cambodia/plots_animations/spei_03_test.gif',\n",
    "                    bands = ['spei_gamma_03'], show_date= False, onebandplot_cbar=True, x_dim = 'longitude', y_dim = 'latitude', title= \"SPEI Cambodia\" + cambodia_spei_03.time.dt.year.values.tolist(), shapefile_path = input_shapefiles,\n",
    "                    onebandplot_kwargs={'cmap':'bwr_r', 'vmin':-3, 'vmax':3}, interval=200)\n"
   ]
  },
  {
   "cell_type": "code",
   "execution_count": null,
   "metadata": {
    "ExecuteTime": {
     "end_time": "2018-08-02T06:18:49.042195Z",
     "start_time": "2018-08-02T06:18:40.490135Z"
    },
    "hidden": true,
    "scrolled": true
   },
   "outputs": [],
   "source": [
    "input_shapefiles = ['/g/data/u46/users/sc0554/shapefiles/provinces/provinces.shp']\n",
    "animated_timeseries(ds = nbar_clean.isel(time=[1, 2, 3, 4, 5, 6, 7 ,8 ,9]), output_path='/g/data/u46/users/sc0554/climate_indices_output/spei_03_test.gif',\n",
    "                    bands = ['swir1', 'green', 'nir'], show_date= True, onebandplot_cbar=True, shapefile_path = input_shapefiles,\n",
    "                    onebandplot_kwargs={'cmap':'bwr_r', 'vmin':0, 'vmax':4000})\n"
   ]
  },
  {
   "cell_type": "code",
   "execution_count": null,
   "metadata": {
    "ExecuteTime": {
     "end_time": "2018-08-08T02:46:13.615942Z",
     "start_time": "2018-08-08T02:44:03.809119Z"
    },
    "hidden": true,
    "scrolled": true
   },
   "outputs": [],
   "source": [
    "input_shapefiles = ['/g/data/u46/users/sc0554/drought_indices_cambodia/shapefiles/provinces/provinces.shp']\n",
    "# cambodia_spei_03_xy = cambodia_spei_03.rename({'latitude':'y', 'longitude': 'x'})\n",
    "# rainfall_xy = monthly_environmental_data['rainfall'].rename({'latitude':'y', 'longitude': 'x'})\n",
    "\n",
    "DEAPlotting.animated_doubletimeseries(ds1 = cambodia_spei_03, ds2= monthly_environmental_data['rainfall'], output_path='/g/data/u46/users/sc0554/drought_indices_cambodia/plots_animations/SPEI_rainfall.gif', \n",
    "                                bands1 = ['spei_gamma_03'], bands2 = ['rainfall'], shapefile_path1 = input_shapefiles, shapefile_path2 = input_shapefiles,\n",
    "                          title1=\"SPEI\", title2='Rainfall',\n",
    "                          onebandplot_kwargs1={'cmap':'bwr_r', 'vmin':-3, 'vmax':3}, onebandplot_kwargs2={'cmap':'Blues', 'vmin':0, 'vmax':400}, interval=350, x_dim1 = 'longitude', y_dim1 = 'latitude', x_dim2 = 'longitude', y_dim2 = 'latitude')"
   ]
  },
  {
   "cell_type": "code",
   "execution_count": null,
   "metadata": {
    "ExecuteTime": {
     "end_time": "2018-08-08T02:40:27.502166Z",
     "start_time": "2018-08-08T02:40:27.474692Z"
    },
    "hidden": true
   },
   "outputs": [],
   "source": [
    "monthly_environmental_data['rainfall']"
   ]
  },
  {
   "cell_type": "code",
   "execution_count": null,
   "metadata": {
    "ExecuteTime": {
     "end_time": "2018-08-02T06:20:58.380698Z",
     "start_time": "2018-08-02T06:18:56.652046Z"
    },
    "hidden": true
   },
   "outputs": [],
   "source": [
    "input_shapefiles = ['/g/data/u46/users/sc0554/shapefiles/provinces/provinces.shp']\n",
    "#cambodia_spei_03_xy = cambodia_spei_03.rename({'latitude':'y', 'longitude': 'x'})\n",
    "# rainfall_xy = monthly_environmental_data['rainfall'].rename({'latitude':'y', 'longitude': 'x'})\n",
    "\n",
    "\n",
    "animated_doubletimeseries(ds1 = cambodia_spei_03, ds2= nbar_clean, output_path='/g/data/u46/users/sc0554/climate_indices_output/SPEI_rainfall.gif', \n",
    "                                bands1 = ['spei_gamma_03'], bands2 = ['swir1'], shapefile_path1 = input_shapefiles, shapefile_path2 = input_shapefiles,\n",
    "                          title1=\"SPEI\", title2='skrrt',\n",
    "                          onebandplot_kwargs1={'cmap':'bwr_r', 'vmin':-3, 'vmax':3}, onebandplot_kwargs2={'cmap':'bwr_r', 'vmin':-3, 'vmax':3}, interval=200, x_dim1 = 'longitude', y_dim1 = 'latitude', x_dim2 = 'x', y_dim2 = 'y')"
   ]
  },
  {
   "cell_type": "code",
   "execution_count": null,
   "metadata": {
    "ExecuteTime": {
     "end_time": "2018-08-02T06:01:24.160852Z",
     "start_time": "2018-08-02T06:01:24.119765Z"
    },
    "hidden": true
   },
   "outputs": [],
   "source": [
    "nbar_clean"
   ]
  },
  {
   "cell_type": "code",
   "execution_count": null,
   "metadata": {
    "ExecuteTime": {
     "end_time": "2018-08-02T05:29:54.250933Z",
     "start_time": "2018-08-02T05:29:54.211456Z"
    },
    "hidden": true
   },
   "outputs": [],
   "source": [
    "monthly_environmental_data['rainfall']"
   ]
  }
 ],
 "metadata": {
  "kernelspec": {
   "display_name": "Python [default]",
   "language": "python",
   "name": "python3"
  },
  "language_info": {
   "codemirror_mode": {
    "name": "ipython",
    "version": 3
   },
   "file_extension": ".py",
   "mimetype": "text/x-python",
   "name": "python",
   "nbconvert_exporter": "python",
   "pygments_lexer": "ipython3",
   "version": "3.6.6"
  }
 },
 "nbformat": 4,
 "nbformat_minor": 2
}
